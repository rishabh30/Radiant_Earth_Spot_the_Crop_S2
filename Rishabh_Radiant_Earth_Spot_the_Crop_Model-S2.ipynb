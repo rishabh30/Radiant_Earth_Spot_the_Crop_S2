{
 "cells": [
  {
   "cell_type": "markdown",
   "id": "1a2ae7b9-4da2-472b-860d-5acb063242b0",
   "metadata": {
    "id": "1a2ae7b9-4da2-472b-860d-5acb063242b0"
   },
   "source": [
    "<img src='https://radiant-assets.s3-us-west-2.amazonaws.com/PrimaryRadiantMLHubLogo.png' alt='Radiant MLHub Logo' width='300'/>\n",
    "\n",
    "# Radiant Earth Spot the Crop Challenge [Sentinel]"
   ]
  },
  {
   "cell_type": "markdown",
   "id": "5894a1e0-23f6-4f8d-940b-1317fba1e762",
   "metadata": {
    "id": "5894a1e0-23f6-4f8d-940b-1317fba1e762"
   },
   "source": [
    "## Radiant MLHub API\n",
    "\n",
    "\n",
    "The Radiant MLHub API gives access to open Earth imagery training data for machine learning applications. You can learn more about the repository at the [Radiant MLHub site](https://mlhub.earth) and about the organization behind it at the [Radiant Earth Foundation site](https://radiant.earth).\n",
    "\n",
    "Full documentation for the API is available at [docs.mlhub.earth](docs.mlhub.earth).\n",
    "\n",
    "Each item in our collection is explained in json format compliant with [STAC](https://stacspec.org/) [label extension](https://github.com/radiantearth/stac-spec/tree/master/extensions/label) definition."
   ]
  },
  {
   "cell_type": "markdown",
   "id": "973f1d8d-12cd-4661-9cf5-c50ecb9b2ab6",
   "metadata": {
    "id": "973f1d8d-12cd-4661-9cf5-c50ecb9b2ab6"
   },
   "source": [
    "## Dependencies\n",
    "\n",
    "All the dependencies for this notebook are included in the `requirements.txt` file included in this folder.\n"
   ]
  },
  {
   "cell_type": "markdown",
   "id": "210d52cd-d81e-446b-8a87-2b0a6cac3bae",
   "metadata": {
    "id": "210d52cd-d81e-446b-8a87-2b0a6cac3bae"
   },
   "source": [
    "**You must replace the `YOUR_API_KEY_HERE` text with your API key which you can obtain by creating a free account on the [MLHub Dashboard](https://dashboard.mlhub.earth/) within the `API Keys` tab at the top of the page.**"
   ]
  },
  {
   "cell_type": "code",
   "execution_count": 2,
   "id": "0Cqf2blyXy9d",
   "metadata": {
    "colab": {
     "base_uri": "https://localhost:8080/"
    },
    "executionInfo": {
     "elapsed": 5687,
     "status": "ok",
     "timestamp": 1631562890365,
     "user": {
      "displayName": "Rishabh Singhal",
      "photoUrl": "https://lh3.googleusercontent.com/a/default-user=s64",
      "userId": "09042655142465435311"
     },
     "user_tz": -330
    },
    "id": "0Cqf2blyXy9d",
    "outputId": "c0d81267-74c4-405e-e877-fce68df9060a",
    "scrolled": true
   },
   "outputs": [
    {
     "name": "stdout",
     "output_type": "stream",
     "text": [
      "Requirement already satisfied: radiant-mlhub in /usr/local/lib/python3.7/dist-packages (0.2.2)\n",
      "Requirement already satisfied: pystac==0.5.4 in /usr/local/lib/python3.7/dist-packages (from radiant-mlhub) (0.5.4)\n",
      "Requirement already satisfied: tqdm~=4.56.0 in /usr/local/lib/python3.7/dist-packages (from radiant-mlhub) (4.56.2)\n",
      "Requirement already satisfied: click~=7.1.2 in /usr/local/lib/python3.7/dist-packages (from radiant-mlhub) (7.1.2)\n",
      "Requirement already satisfied: requests~=2.25.1 in /usr/local/lib/python3.7/dist-packages (from radiant-mlhub) (2.25.1)\n",
      "Requirement already satisfied: python-dateutil>=2.7.0 in /usr/local/lib/python3.7/dist-packages (from pystac==0.5.4->radiant-mlhub) (2.8.2)\n",
      "Requirement already satisfied: six>=1.5 in /usr/local/lib/python3.7/dist-packages (from python-dateutil>=2.7.0->pystac==0.5.4->radiant-mlhub) (1.15.0)\n",
      "Requirement already satisfied: certifi>=2017.4.17 in /usr/local/lib/python3.7/dist-packages (from requests~=2.25.1->radiant-mlhub) (2021.5.30)\n",
      "Requirement already satisfied: idna<3,>=2.5 in /usr/local/lib/python3.7/dist-packages (from requests~=2.25.1->radiant-mlhub) (2.10)\n",
      "Requirement already satisfied: urllib3<1.27,>=1.21.1 in /usr/local/lib/python3.7/dist-packages (from requests~=2.25.1->radiant-mlhub) (1.24.3)\n",
      "Requirement already satisfied: chardet<5,>=3.0.2 in /usr/local/lib/python3.7/dist-packages (from requests~=2.25.1->radiant-mlhub) (3.0.4)\n",
      "Requirement already satisfied: rasterio in /usr/local/lib/python3.7/dist-packages (1.2.8)\n",
      "Requirement already satisfied: cligj>=0.5 in /usr/local/lib/python3.7/dist-packages (from rasterio) (0.7.2)\n",
      "Requirement already satisfied: setuptools in /usr/local/lib/python3.7/dist-packages (from rasterio) (57.4.0)\n",
      "Requirement already satisfied: numpy in /usr/local/lib/python3.7/dist-packages (from rasterio) (1.19.5)\n",
      "Requirement already satisfied: click-plugins in /usr/local/lib/python3.7/dist-packages (from rasterio) (1.1.1)\n",
      "Requirement already satisfied: attrs in /usr/local/lib/python3.7/dist-packages (from rasterio) (21.2.0)\n",
      "Requirement already satisfied: snuggs>=1.4.1 in /usr/local/lib/python3.7/dist-packages (from rasterio) (1.4.7)\n",
      "Requirement already satisfied: click>=4.0 in /usr/local/lib/python3.7/dist-packages (from rasterio) (7.1.2)\n",
      "Requirement already satisfied: affine in /usr/local/lib/python3.7/dist-packages (from rasterio) (2.3.0)\n",
      "Requirement already satisfied: certifi in /usr/local/lib/python3.7/dist-packages (from rasterio) (2021.5.30)\n",
      "Requirement already satisfied: pyparsing>=2.1.6 in /usr/local/lib/python3.7/dist-packages (from snuggs>=1.4.1->rasterio) (2.4.7)\n"
     ]
    }
   ],
   "source": [
    "!pip install radiant-mlhub\n",
    "!pip install rasterio"
   ]
  },
  {
   "cell_type": "code",
   "execution_count": 3,
   "id": "a5ec7942-db89-4039-9065-555c6a5775aa",
   "metadata": {
    "executionInfo": {
     "elapsed": 1850,
     "status": "ok",
     "timestamp": 1631562892212,
     "user": {
      "displayName": "Rishabh Singhal",
      "photoUrl": "https://lh3.googleusercontent.com/a/default-user=s64",
      "userId": "09042655142465435311"
     },
     "user_tz": -330
    },
    "id": "a5ec7942-db89-4039-9065-555c6a5775aa"
   },
   "outputs": [],
   "source": [
    "# Required libraries\n",
    "import os\n",
    "import tarfile\n",
    "import json\n",
    "from pathlib import Path\n",
    "from radiant_mlhub.client import _download as download_file\n",
    "\n",
    "import datetime\n",
    "import rasterio\n",
    "import numpy as np\n",
    "import pandas as pd\n",
    "\n",
    "from sklearn.ensemble import RandomForestClassifier\n",
    "from sklearn.metrics import log_loss\n",
    "from sklearn.model_selection import StratifiedShuffleSplit\n",
    "\n",
    "os.environ['MLHUB_API_KEY'] = '315862edef3b93d071bf6729326dc682929c0e6d537a3e1da51274b5a8cd0a13'"
   ]
  },
  {
   "cell_type": "code",
   "execution_count": 4,
   "id": "9db2d0bd-1658-4d47-ae01-b2f71808303f",
   "metadata": {
    "executionInfo": {
     "elapsed": 3,
     "status": "ok",
     "timestamp": 1631562892214,
     "user": {
      "displayName": "Rishabh Singhal",
      "photoUrl": "https://lh3.googleusercontent.com/a/default-user=s64",
      "userId": "09042655142465435311"
     },
     "user_tz": -330
    },
    "id": "9db2d0bd-1658-4d47-ae01-b2f71808303f"
   },
   "outputs": [],
   "source": [
    "DOWNLOAD_S1 = False # If you set this to true then the Sentinel-1 data will be downloaded which is not needed in this notebook.\n",
    "\n",
    "# Select which imagery bands you'd like to download here:\n",
    "DOWNLOAD_BANDS = {\n",
    "    'B01': False,\n",
    "    'B02': False,\n",
    "    'B03': True,\n",
    "    'B04': True,\n",
    "    'B05': False,\n",
    "    'B06': False,\n",
    "    'B07': False,\n",
    "    'B08': True,\n",
    "    'B8A': False,\n",
    "    'B09': False,\n",
    "    'B11': False,\n",
    "    'B12': False,\n",
    "    'CLM': True\n",
    "}\n",
    "\n",
    "# In this model we will only use Green, Red and NIR bands. You can select to download any number of bands. \n",
    "# Our choice relies on the fact that vegetation is most sensitive to these bands. \n",
    "# We also donwload the CLM or Cloud Mask layer to exclude cloudy data from the training phase. \n",
    "# You can also do a feature selection, and try different combination of bands to see which ones will result in a better accuracy. "
   ]
  },
  {
   "cell_type": "markdown",
   "id": "ae21a662-b755-4456-b722-d242c154143c",
   "metadata": {
    "id": "ae21a662-b755-4456-b722-d242c154143c"
   },
   "source": [
    "## Downloading and Loading the Data\n",
    "\n",
    "In this part, we will download the data from Radiant MLHub and load the properties of each item in the dataset into a DataFrame\n"
   ]
  },
  {
   "cell_type": "code",
   "execution_count": 5,
   "id": "0f0134f6-eca7-4daa-8118-482720cbe319",
   "metadata": {
    "executionInfo": {
     "elapsed": 57623,
     "status": "ok",
     "timestamp": 1631562952227,
     "user": {
      "displayName": "Rishabh Singhal",
      "photoUrl": "https://lh3.googleusercontent.com/a/default-user=s64",
      "userId": "09042655142465435311"
     },
     "user_tz": -330
    },
    "id": "0f0134f6-eca7-4daa-8118-482720cbe319"
   },
   "outputs": [],
   "source": [
    "FOLDER_BASE = 'ref_south_africa_crops_competition_v1'\n",
    "\n",
    "def download_archive(archive_name):\n",
    "    if os.path.exists(archive_name.replace('.tar.gz', '')):\n",
    "        return\n",
    "    \n",
    "    print(f'Downloading {archive_name} ...')\n",
    "    download_url = f'https://radiant-mlhub.s3.us-west-2.amazonaws.com/archives/{archive_name}'\n",
    "    download_file(download_url, '.')\n",
    "    print(f'Extracting {archive_name} ...')\n",
    "    with tarfile.open(archive_name) as tfile:\n",
    "        tfile.extractall()\n",
    "    os.remove(archive_name)\n",
    "\n",
    "for split in ['train', 'test']:\n",
    "    # Download the labels\n",
    "    labels_archive = f'{FOLDER_BASE}_{split}_labels.tar.gz'\n",
    "    download_archive(labels_archive)\n",
    "    \n",
    "    # Download Sentinel-1 data\n",
    "    if DOWNLOAD_S1:\n",
    "        s1_archive = f'{FOLDER_BASE}_{split}_source_s1.tar.gz'\n",
    "        download_archive(s1_archive)\n",
    "        \n",
    "\n",
    "    for band, download in DOWNLOAD_BANDS.items():\n",
    "        if not download:\n",
    "            continue\n",
    "        s2_archive = f'{FOLDER_BASE}_{split}_source_s2_{band}.tar.gz'\n",
    "        download_archive(s2_archive)\n",
    "        \n",
    "def resolve_path(base, path):\n",
    "    return Path(os.path.join(base, path)).resolve()\n",
    "        \n",
    "def load_df(collection_id):\n",
    "    split = collection_id.split('_')[-2]\n",
    "    collection = json.load(open(f'{collection_id}/collection.json', 'r'))\n",
    "    rows = []\n",
    "    item_links = []\n",
    "    for link in collection['links']:\n",
    "        if link['rel'] != 'item':\n",
    "            continue\n",
    "        item_links.append(link['href'])\n",
    "        \n",
    "    for item_link in item_links:\n",
    "        item_path = f'{collection_id}/{item_link}'\n",
    "        current_path = os.path.dirname(item_path)\n",
    "        item = json.load(open(item_path, 'r'))\n",
    "        tile_id = item['id'].split('_')[-1]\n",
    "        for asset_key, asset in item['assets'].items():\n",
    "            rows.append([\n",
    "                tile_id,\n",
    "                None,\n",
    "                None,\n",
    "                asset_key,\n",
    "                str(resolve_path(current_path, asset['href']))\n",
    "            ])\n",
    "            \n",
    "        for link in item['links']:\n",
    "            if link['rel'] != 'source':\n",
    "                continue\n",
    "            source_item_id = link['href'].split('/')[-2]\n",
    "            \n",
    "            if source_item_id.find('_s1_') > 0 and not DOWNLOAD_S1:\n",
    "                continue\n",
    "            elif source_item_id.find('_s1_') > 0:\n",
    "                for band in ['VV', 'VH']:\n",
    "                    asset_path = Path(f'{FOLDER_BASE}_{split}_source_s1/{source_item_id}/{band}.tif').resolve()\n",
    "                    date = '-'.join(source_item_id.split('_')[10:13])\n",
    "                    \n",
    "                    rows.append([\n",
    "                        tile_id,\n",
    "                        f'{date}T00:00:00Z',\n",
    "                        's1',\n",
    "                        band,\n",
    "                        asset_path\n",
    "                    ])\n",
    "                \n",
    "            if source_item_id.find('_s2_') > 0:\n",
    "                for band, download in DOWNLOAD_BANDS.items():\n",
    "                    if not download:\n",
    "                        continue\n",
    "                    \n",
    "                    asset_path = Path(f'{FOLDER_BASE}_{split}_source_s2_{band}/{source_item_id}_{band}.tif').resolve()\n",
    "                    date = '-'.join(source_item_id.split('_')[10:13])\n",
    "                    rows.append([\n",
    "                        tile_id,\n",
    "                        f'{date}T00:00:00Z',\n",
    "                        's2',\n",
    "                        band,\n",
    "                        asset_path\n",
    "                    ])\n",
    "            \n",
    "    return pd.DataFrame(rows, columns=['tile_id', 'datetime', 'satellite_platform', 'asset', 'file_path'])\n",
    "\n",
    "competition_train_df = load_df(f'{FOLDER_BASE}_train_labels')\n",
    "competition_test_df = load_df(f'{FOLDER_BASE}_test_labels')"
   ]
  },
  {
   "cell_type": "code",
   "execution_count": null,
   "id": "772258c7-c5a0-4e8c-bf37-98cbb4d88dd8",
   "metadata": {
    "colab": {
     "base_uri": "https://localhost:8080/",
     "height": 423
    },
    "executionInfo": {
     "elapsed": 14,
     "status": "ok",
     "timestamp": 1631497542170,
     "user": {
      "displayName": "Rishabh Singhal",
      "photoUrl": "https://lh3.googleusercontent.com/a/default-user=s64",
      "userId": "09042655142465435311"
     },
     "user_tz": -330
    },
    "id": "772258c7-c5a0-4e8c-bf37-98cbb4d88dd8",
    "outputId": "c41d95ac-5cc7-4c75-dda2-b7c0b5fb7a1d"
   },
   "outputs": [
    {
     "data": {
      "text/html": [
       "<div>\n",
       "<style scoped>\n",
       "    .dataframe tbody tr th:only-of-type {\n",
       "        vertical-align: middle;\n",
       "    }\n",
       "\n",
       "    .dataframe tbody tr th {\n",
       "        vertical-align: top;\n",
       "    }\n",
       "\n",
       "    .dataframe thead th {\n",
       "        text-align: right;\n",
       "    }\n",
       "</style>\n",
       "<table border=\"1\" class=\"dataframe\">\n",
       "  <thead>\n",
       "    <tr style=\"text-align: right;\">\n",
       "      <th></th>\n",
       "      <th>tile_id</th>\n",
       "      <th>datetime</th>\n",
       "      <th>satellite_platform</th>\n",
       "      <th>asset</th>\n",
       "      <th>file_path</th>\n",
       "    </tr>\n",
       "  </thead>\n",
       "  <tbody>\n",
       "    <tr>\n",
       "      <th>0</th>\n",
       "      <td>2587</td>\n",
       "      <td>None</td>\n",
       "      <td>None</td>\n",
       "      <td>documentation</td>\n",
       "      <td>/content/ref_south_africa_crops_competition_v1...</td>\n",
       "    </tr>\n",
       "    <tr>\n",
       "      <th>1</th>\n",
       "      <td>2587</td>\n",
       "      <td>None</td>\n",
       "      <td>None</td>\n",
       "      <td>field_ids</td>\n",
       "      <td>/content/ref_south_africa_crops_competition_v1...</td>\n",
       "    </tr>\n",
       "    <tr>\n",
       "      <th>2</th>\n",
       "      <td>2587</td>\n",
       "      <td>None</td>\n",
       "      <td>None</td>\n",
       "      <td>field_info_train</td>\n",
       "      <td>/content/ref_south_africa_crops_competition_v1...</td>\n",
       "    </tr>\n",
       "    <tr>\n",
       "      <th>3</th>\n",
       "      <td>2587</td>\n",
       "      <td>None</td>\n",
       "      <td>None</td>\n",
       "      <td>labels</td>\n",
       "      <td>/content/ref_south_africa_crops_competition_v1...</td>\n",
       "    </tr>\n",
       "    <tr>\n",
       "      <th>4</th>\n",
       "      <td>2587</td>\n",
       "      <td>None</td>\n",
       "      <td>None</td>\n",
       "      <td>raster_values</td>\n",
       "      <td>/content/ref_south_africa_crops_competition_v1...</td>\n",
       "    </tr>\n",
       "    <tr>\n",
       "      <th>...</th>\n",
       "      <td>...</td>\n",
       "      <td>...</td>\n",
       "      <td>...</td>\n",
       "      <td>...</td>\n",
       "      <td>...</td>\n",
       "    </tr>\n",
       "    <tr>\n",
       "      <th>591109</th>\n",
       "      <td>2198</td>\n",
       "      <td>2017-11-27T00:00:00Z</td>\n",
       "      <td>s2</td>\n",
       "      <td>CLM</td>\n",
       "      <td>/content/ref_south_africa_crops_competition_v1...</td>\n",
       "    </tr>\n",
       "    <tr>\n",
       "      <th>591110</th>\n",
       "      <td>2198</td>\n",
       "      <td>2017-11-30T00:00:00Z</td>\n",
       "      <td>s2</td>\n",
       "      <td>B03</td>\n",
       "      <td>/content/ref_south_africa_crops_competition_v1...</td>\n",
       "    </tr>\n",
       "    <tr>\n",
       "      <th>591111</th>\n",
       "      <td>2198</td>\n",
       "      <td>2017-11-30T00:00:00Z</td>\n",
       "      <td>s2</td>\n",
       "      <td>B04</td>\n",
       "      <td>/content/ref_south_africa_crops_competition_v1...</td>\n",
       "    </tr>\n",
       "    <tr>\n",
       "      <th>591112</th>\n",
       "      <td>2198</td>\n",
       "      <td>2017-11-30T00:00:00Z</td>\n",
       "      <td>s2</td>\n",
       "      <td>B08</td>\n",
       "      <td>/content/ref_south_africa_crops_competition_v1...</td>\n",
       "    </tr>\n",
       "    <tr>\n",
       "      <th>591113</th>\n",
       "      <td>2198</td>\n",
       "      <td>2017-11-30T00:00:00Z</td>\n",
       "      <td>s2</td>\n",
       "      <td>CLM</td>\n",
       "      <td>/content/ref_south_africa_crops_competition_v1...</td>\n",
       "    </tr>\n",
       "  </tbody>\n",
       "</table>\n",
       "<p>591114 rows × 5 columns</p>\n",
       "</div>"
      ],
      "text/plain": [
       "       tile_id  ...                                          file_path\n",
       "0         2587  ...  /content/ref_south_africa_crops_competition_v1...\n",
       "1         2587  ...  /content/ref_south_africa_crops_competition_v1...\n",
       "2         2587  ...  /content/ref_south_africa_crops_competition_v1...\n",
       "3         2587  ...  /content/ref_south_africa_crops_competition_v1...\n",
       "4         2587  ...  /content/ref_south_africa_crops_competition_v1...\n",
       "...        ...  ...                                                ...\n",
       "591109    2198  ...  /content/ref_south_africa_crops_competition_v1...\n",
       "591110    2198  ...  /content/ref_south_africa_crops_competition_v1...\n",
       "591111    2198  ...  /content/ref_south_africa_crops_competition_v1...\n",
       "591112    2198  ...  /content/ref_south_africa_crops_competition_v1...\n",
       "591113    2198  ...  /content/ref_south_africa_crops_competition_v1...\n",
       "\n",
       "[591114 rows x 5 columns]"
      ]
     },
     "execution_count": 4,
     "metadata": {},
     "output_type": "execute_result"
    }
   ],
   "source": [
    "competition_train_df"
   ]
  },
  {
   "cell_type": "code",
   "execution_count": null,
   "id": "-CatoEihBggs",
   "metadata": {
    "colab": {
     "base_uri": "https://localhost:8080/",
     "height": 510
    },
    "executionInfo": {
     "elapsed": 19,
     "status": "ok",
     "timestamp": 1631147713891,
     "user": {
      "displayName": "Rishabh Singhal",
      "photoUrl": "",
      "userId": "09042655142465435311"
     },
     "user_tz": -330
    },
    "id": "-CatoEihBggs",
    "outputId": "71be174f-16d4-49a8-b7ec-931493e61939"
   },
   "outputs": [
    {
     "data": {
      "text/html": [
       "<div>\n",
       "<style scoped>\n",
       "    .dataframe tbody tr th:only-of-type {\n",
       "        vertical-align: middle;\n",
       "    }\n",
       "\n",
       "    .dataframe tbody tr th {\n",
       "        vertical-align: top;\n",
       "    }\n",
       "\n",
       "    .dataframe thead th {\n",
       "        text-align: right;\n",
       "    }\n",
       "</style>\n",
       "<table border=\"1\" class=\"dataframe\">\n",
       "  <thead>\n",
       "    <tr style=\"text-align: right;\">\n",
       "      <th></th>\n",
       "      <th>tile_id</th>\n",
       "      <th>datetime</th>\n",
       "      <th>satellite_platform</th>\n",
       "      <th>asset</th>\n",
       "      <th>file_path</th>\n",
       "    </tr>\n",
       "  </thead>\n",
       "  <tbody>\n",
       "    <tr>\n",
       "      <th>0</th>\n",
       "      <td>0590</td>\n",
       "      <td>None</td>\n",
       "      <td>None</td>\n",
       "      <td>documentation</td>\n",
       "      <td>/content/ref_south_africa_crops_competition_v1...</td>\n",
       "    </tr>\n",
       "    <tr>\n",
       "      <th>1</th>\n",
       "      <td>0590</td>\n",
       "      <td>None</td>\n",
       "      <td>None</td>\n",
       "      <td>field_ids</td>\n",
       "      <td>/content/ref_south_africa_crops_competition_v1...</td>\n",
       "    </tr>\n",
       "    <tr>\n",
       "      <th>2</th>\n",
       "      <td>0590</td>\n",
       "      <td>None</td>\n",
       "      <td>None</td>\n",
       "      <td>field_info_test</td>\n",
       "      <td>/content/ref_south_africa_crops_competition_v1...</td>\n",
       "    </tr>\n",
       "    <tr>\n",
       "      <th>3</th>\n",
       "      <td>0590</td>\n",
       "      <td>None</td>\n",
       "      <td>None</td>\n",
       "      <td>raster_values</td>\n",
       "      <td>/content/ref_south_africa_crops_competition_v1...</td>\n",
       "    </tr>\n",
       "    <tr>\n",
       "      <th>4</th>\n",
       "      <td>0590</td>\n",
       "      <td>None</td>\n",
       "      <td>None</td>\n",
       "      <td>sample_submission</td>\n",
       "      <td>/content/ref_south_africa_crops_competition_v1...</td>\n",
       "    </tr>\n",
       "    <tr>\n",
       "      <th>...</th>\n",
       "      <td>...</td>\n",
       "      <td>...</td>\n",
       "      <td>...</td>\n",
       "      <td>...</td>\n",
       "      <td>...</td>\n",
       "    </tr>\n",
       "    <tr>\n",
       "      <th>252580</th>\n",
       "      <td>0947</td>\n",
       "      <td>2017-11-27T00:00:00Z</td>\n",
       "      <td>s2</td>\n",
       "      <td>CLM</td>\n",
       "      <td>/content/ref_south_africa_crops_competition_v1...</td>\n",
       "    </tr>\n",
       "    <tr>\n",
       "      <th>252581</th>\n",
       "      <td>0947</td>\n",
       "      <td>2017-11-30T00:00:00Z</td>\n",
       "      <td>s2</td>\n",
       "      <td>B03</td>\n",
       "      <td>/content/ref_south_africa_crops_competition_v1...</td>\n",
       "    </tr>\n",
       "    <tr>\n",
       "      <th>252582</th>\n",
       "      <td>0947</td>\n",
       "      <td>2017-11-30T00:00:00Z</td>\n",
       "      <td>s2</td>\n",
       "      <td>B04</td>\n",
       "      <td>/content/ref_south_africa_crops_competition_v1...</td>\n",
       "    </tr>\n",
       "    <tr>\n",
       "      <th>252583</th>\n",
       "      <td>0947</td>\n",
       "      <td>2017-11-30T00:00:00Z</td>\n",
       "      <td>s2</td>\n",
       "      <td>B08</td>\n",
       "      <td>/content/ref_south_africa_crops_competition_v1...</td>\n",
       "    </tr>\n",
       "    <tr>\n",
       "      <th>252584</th>\n",
       "      <td>0947</td>\n",
       "      <td>2017-11-30T00:00:00Z</td>\n",
       "      <td>s2</td>\n",
       "      <td>CLM</td>\n",
       "      <td>/content/ref_south_africa_crops_competition_v1...</td>\n",
       "    </tr>\n",
       "  </tbody>\n",
       "</table>\n",
       "<p>252585 rows × 5 columns</p>\n",
       "</div>"
      ],
      "text/plain": [
       "       tile_id  ...                                          file_path\n",
       "0         0590  ...  /content/ref_south_africa_crops_competition_v1...\n",
       "1         0590  ...  /content/ref_south_africa_crops_competition_v1...\n",
       "2         0590  ...  /content/ref_south_africa_crops_competition_v1...\n",
       "3         0590  ...  /content/ref_south_africa_crops_competition_v1...\n",
       "4         0590  ...  /content/ref_south_africa_crops_competition_v1...\n",
       "...        ...  ...                                                ...\n",
       "252580    0947  ...  /content/ref_south_africa_crops_competition_v1...\n",
       "252581    0947  ...  /content/ref_south_africa_crops_competition_v1...\n",
       "252582    0947  ...  /content/ref_south_africa_crops_competition_v1...\n",
       "252583    0947  ...  /content/ref_south_africa_crops_competition_v1...\n",
       "252584    0947  ...  /content/ref_south_africa_crops_competition_v1...\n",
       "\n",
       "[252585 rows x 5 columns]"
      ]
     },
     "execution_count": 8,
     "metadata": {},
     "output_type": "execute_result"
    }
   ],
   "source": [
    "competition_test_df"
   ]
  },
  {
   "cell_type": "code",
   "execution_count": null,
   "id": "6bd68551-758a-482f-b022-f6ce59bc27e0",
   "metadata": {
    "colab": {
     "base_uri": "https://localhost:8080/"
    },
    "executionInfo": {
     "elapsed": 7,
     "status": "ok",
     "timestamp": 1631196879978,
     "user": {
      "displayName": "Rishabh Singhal",
      "photoUrl": "",
      "userId": "09042655142465435311"
     },
     "user_tz": -330
    },
    "id": "6bd68551-758a-482f-b022-f6ce59bc27e0",
    "outputId": "eb3cdf8e-da35-4c33-d0bd-5c23160c0e46"
   },
   "outputs": [
    {
     "data": {
      "text/plain": [
       "array(['documentation', 'field_ids', 'field_info_train', 'labels',\n",
       "       'raster_values', 'B03', 'B04', 'B08', 'CLM'], dtype=object)"
      ]
     },
     "execution_count": 8,
     "metadata": {},
     "output_type": "execute_result"
    }
   ],
   "source": [
    "# This DataFrame lists all types of assets including documentation of the data. \n",
    "# In the following, we will use the Sentinel-2 bands as well as labels. \n",
    "competition_train_df['asset'].unique()"
   ]
  },
  {
   "cell_type": "code",
   "execution_count": 6,
   "id": "fdddc229-eb18-424e-8bce-0b1a0ac7cbc4",
   "metadata": {
    "executionInfo": {
     "elapsed": 4,
     "status": "ok",
     "timestamp": 1631556984128,
     "user": {
      "displayName": "Rishabh Singhal",
      "photoUrl": "https://lh3.googleusercontent.com/a/default-user=s64",
      "userId": "09042655142465435311"
     },
     "user_tz": -330
    },
    "id": "fdddc229-eb18-424e-8bce-0b1a0ac7cbc4"
   },
   "outputs": [],
   "source": [
    "tile_ids_train = competition_train_df['tile_id'].unique()"
   ]
  },
  {
   "cell_type": "code",
   "execution_count": 7,
   "id": "a223bbd2-7b7f-4191-b04d-866297706413",
   "metadata": {
    "executionInfo": {
     "elapsed": 4,
     "status": "ok",
     "timestamp": 1631556984129,
     "user": {
      "displayName": "Rishabh Singhal",
      "photoUrl": "https://lh3.googleusercontent.com/a/default-user=s64",
      "userId": "09042655142465435311"
     },
     "user_tz": -330
    },
    "id": "a223bbd2-7b7f-4191-b04d-866297706413"
   },
   "outputs": [],
   "source": [
    "# We are selecting the n_obs cloud free images. Ideally, you should\n",
    "# select the images across the different tiles with the same temporal frequency. \n",
    "n_obs = 3"
   ]
  },
  {
   "cell_type": "code",
   "execution_count": null,
   "id": "5GEgh7FbElsS",
   "metadata": {
    "colab": {
     "base_uri": "https://localhost:8080/"
    },
    "executionInfo": {
     "elapsed": 539,
     "status": "ok",
     "timestamp": 1630696541556,
     "user": {
      "displayName": "Rishabh Singhal",
      "photoUrl": "",
      "userId": "09042655142465435311"
     },
     "user_tz": -330
    },
    "id": "5GEgh7FbElsS",
    "outputId": "2b390f0e-72cd-43aa-d6a9-6af475e5b5f9"
   },
   "outputs": [
    {
     "data": {
      "text/plain": [
       "173670400"
      ]
     },
     "execution_count": 109,
     "metadata": {},
     "output_type": "execute_result"
    }
   ],
   "source": [
    "np.count_nonzero(~np.isnan(field_ids))"
   ]
  },
  {
   "cell_type": "code",
   "execution_count": null,
   "id": "J6hcrvZW_czt",
   "metadata": {
    "colab": {
     "base_uri": "https://localhost:8080/"
    },
    "executionInfo": {
     "elapsed": 733,
     "status": "ok",
     "timestamp": 1630694924617,
     "user": {
      "displayName": "Rishabh Singhal",
      "photoUrl": "",
      "userId": "09042655142465435311"
     },
     "user_tz": -330
    },
    "id": "J6hcrvZW_czt",
    "outputId": "a24945e9-fb99-466f-bd72-9e376aade03a"
   },
   "outputs": [
    {
     "data": {
      "text/plain": [
       "(256, 256, 10662)"
      ]
     },
     "execution_count": 86,
     "metadata": {},
     "output_type": "execute_result"
    }
   ],
   "source": [
    "X.shape"
   ]
  },
  {
   "cell_type": "code",
   "execution_count": null,
   "id": "KeUVmTMr_LNr",
   "metadata": {
    "colab": {
     "base_uri": "https://localhost:8080/"
    },
    "executionInfo": {
     "elapsed": 133973,
     "status": "ok",
     "timestamp": 1631504117506,
     "user": {
      "displayName": "Rishabh Singhal",
      "photoUrl": "https://lh3.googleusercontent.com/a/default-user=s64",
      "userId": "09042655142465435311"
     },
     "user_tz": -330
    },
    "id": "KeUVmTMr_LNr",
    "outputId": "9b20b19c-ae9d-42ad-a9bf-2304c26866a2"
   },
   "outputs": [
    {
     "name": "stdout",
     "output_type": "stream",
     "text": [
      "0\n",
      "200\n",
      "400\n",
      "600\n",
      "800\n",
      "1000\n",
      "1200\n",
      "1400\n",
      "1600\n",
      "1800\n",
      "2000\n",
      "2200\n",
      "2400\n",
      "2600\n"
     ]
    }
   ],
   "source": [
    "# Our goal is developing a pixel-based Random Forest model. So we will create an X variable\n",
    "# that each row is a pixel and each column is one of the observations. \n",
    "# The other variables is y which has rows equal to the number of pixels. \n",
    "X = np.empty((256, 256, 0), dtype=np.float16)\n",
    "X = []\n",
    "\n",
    "for i in range (0,len(tile_ids_train)):\n",
    "    if i%200 == 0:\n",
    "        print(i)\n",
    "    tile_id = tile_ids_train[i]  \n",
    "  \n",
    "    \n",
    "    tile_df = competition_train_df[competition_train_df['tile_id']==tile_id]\n",
    "\n",
    "    tile_date_times = tile_df[tile_df['satellite_platform']=='s2']['datetime'].unique()\n",
    "\n",
    "    X_tile = np.empty((256, 256, 0), dtype=np.uint8)\n",
    "    n_X = 0\n",
    "    for date_time in tile_date_times:\n",
    "        # Here we retrieve the cloud band, and check if it's cloud free we will load the other bands\n",
    "        # Otherwise we will pass on to the next observation\n",
    "        \n",
    "        clm_src = rasterio.open(tile_df[(tile_df['datetime']==date_time) & (tile_df['asset']=='CLM')]['file_path'].values[0])\n",
    "        clm_max = np.max(clm_src.read(1))\n",
    "        # In the following we select images that the maximum cloud cover probability per pixel is 10% (10% * 255 = 25.5).\n",
    "        if clm_max < 25:\n",
    "            n_X+=1\n",
    "            b3_src = rasterio.open(tile_df[(tile_df['datetime']==date_time) & (tile_df['asset']=='B03')]['file_path'].values[0])\n",
    "            b3_array = np.expand_dims(b3_src.read(1), axis=2)\n",
    "\n",
    "            b4_src = rasterio.open(tile_df[(tile_df['datetime']==date_time) & (tile_df['asset']=='B04')]['file_path'].values[0])\n",
    "            b4_array = np.expand_dims(b4_src.read(1), axis=2)\n",
    "\n",
    "            b8_src = rasterio.open(tile_df[(tile_df['datetime']==date_time) & (tile_df['asset']=='B08')]['file_path'].values[0])\n",
    "            b8_array = np.expand_dims(b8_src.read(1), axis=2)\n",
    "\n",
    "            #print(b3_array.shape)\n",
    "\n",
    "            X_tile = np.empty((256, 256, 0), dtype=np.uint8)\n",
    "            X_tile = np.append(X_tile, b3_array, axis = 2)\n",
    "            X_tile = np.append(X_tile, b4_array, axis = 2)\n",
    "            X_tile = np.append(X_tile, b8_array, axis = 2)\n",
    "            X.append(X_tile)\n",
    "        if n_X == n_obs:\n",
    "            break\n",
    "X = np.array(X)"
   ]
  },
  {
   "cell_type": "code",
   "execution_count": null,
   "id": "hHpUdJJpWvgv",
   "metadata": {
    "colab": {
     "base_uri": "https://localhost:8080/"
    },
    "executionInfo": {
     "elapsed": 3739,
     "status": "ok",
     "timestamp": 1631504121234,
     "user": {
      "displayName": "Rishabh Singhal",
      "photoUrl": "https://lh3.googleusercontent.com/a/default-user=s64",
      "userId": "09042655142465435311"
     },
     "user_tz": -330
    },
    "id": "hHpUdJJpWvgv",
    "outputId": "e8c77912-2d81-43bb-f69c-370d581270c2"
   },
   "outputs": [
    {
     "name": "stdout",
     "output_type": "stream",
     "text": [
      "<class 'numpy.float64'>\n"
     ]
    },
    {
     "data": {
      "text/plain": [
       "numpy.float16"
      ]
     },
     "execution_count": 8,
     "metadata": {},
     "output_type": "execute_result"
    }
   ],
   "source": [
    "X = np.true_divide(X, 255.0)\n",
    "print(type(X[0][0][0][0]))\n",
    "X = np.array(X, dtype=np.float16)\n",
    "type(X[0][0][0][0])"
   ]
  },
  {
   "cell_type": "code",
   "execution_count": null,
   "id": "3MedhGzUaXQP",
   "metadata": {
    "colab": {
     "base_uri": "https://localhost:8080/"
    },
    "executionInfo": {
     "elapsed": 98497,
     "status": "ok",
     "timestamp": 1631504219717,
     "user": {
      "displayName": "Rishabh Singhal",
      "photoUrl": "https://lh3.googleusercontent.com/a/default-user=s64",
      "userId": "09042655142465435311"
     },
     "user_tz": -330
    },
    "id": "3MedhGzUaXQP",
    "outputId": "a37f38fa-568b-4985-a7ad-d7f9e2a99ad6"
   },
   "outputs": [
    {
     "name": "stdout",
     "output_type": "stream",
     "text": [
      "0\n",
      "500\n",
      "1000\n",
      "1500\n",
      "2000\n",
      "2500\n",
      "1736704000\n"
     ]
    },
    {
     "data": {
      "text/plain": [
       "(2650, 256, 256, 10)"
      ]
     },
     "execution_count": 9,
     "metadata": {},
     "output_type": "execute_result"
    }
   ],
   "source": [
    "#y_t = np.empty((256, 256,0), dtype=np.uint8)\n",
    "y_t = []\n",
    "ll = [0,1,2,3,4,5,6,7,8,9]\n",
    "for i in range (0,len(tile_ids_train)):\n",
    "    if i%500 == 0:\n",
    "        print(i)\n",
    "    tile_id = tile_ids_train[i]  \n",
    "    \n",
    "    tile_df = competition_train_df[competition_train_df['tile_id']==tile_id]\n",
    "\n",
    "    label_src = rasterio.open(tile_df[tile_df['asset']=='labels']['file_path'].values[0])\n",
    "    label_array = label_src.read(1)\n",
    "    y_3 = np.empty((256, 256, 0), dtype=np.uint8)\n",
    "    y__l = np.expand_dims(label_array, axis=2)\n",
    "    for i_l in ll:\n",
    "        y_3 = np.append(y_3, (y__l == i_l).astype(np.uint8), axis = 2)\n",
    "    for y_t_i in range(0,n_obs):\n",
    "        y_t.append(y_3)\n",
    "y_t = np.array(y_t,dtype=np.float32)\n",
    "print(np.count_nonzero(~np.isnan(y_t)))\n",
    "y_t.shape"
   ]
  },
  {
   "cell_type": "code",
   "execution_count": null,
   "id": "UsuY32p2fmyU",
   "metadata": {
    "colab": {
     "base_uri": "https://localhost:8080/"
    },
    "executionInfo": {
     "elapsed": 655,
     "status": "ok",
     "timestamp": 1631139678879,
     "user": {
      "displayName": "Rishabh Singhal",
      "photoUrl": "",
      "userId": "09042655142465435311"
     },
     "user_tz": -330
    },
    "id": "UsuY32p2fmyU",
    "outputId": "296cec79-aed1-4e46-978a-29e4b896e845"
   },
   "outputs": [
    {
     "data": {
      "text/plain": [
       "(array([0, 1], dtype=uint8), array([2304,  256]))"
      ]
     },
     "execution_count": 34,
     "metadata": {},
     "output_type": "execute_result"
    }
   ],
   "source": [
    "np.unique(np.around(y_t[3][:][:][1]), return_counts=True)"
   ]
  },
  {
   "cell_type": "code",
   "execution_count": null,
   "id": "TrQecczDoUVP",
   "metadata": {
    "colab": {
     "base_uri": "https://localhost:8080/"
    },
    "executionInfo": {
     "elapsed": 16,
     "status": "ok",
     "timestamp": 1630592266042,
     "user": {
      "displayName": "Rishabh Singhal",
      "photoUrl": "",
      "userId": "09042655142465435311"
     },
     "user_tz": -330
    },
    "id": "TrQecczDoUVP",
    "outputId": "f0c59f57-9d8c-47b9-c18f-38799b0b55ec"
   },
   "outputs": [
    {
     "data": {
      "text/plain": [
       "array([[43., 56., 75., ..., 26., 35., 61.],\n",
       "       [33., 51., 68., ..., 24., 30., 60.],\n",
       "       [31., 43., 62., ..., 21., 26., 54.],\n",
       "       ...,\n",
       "       [24., 36., 48., ..., 17., 30., 46.],\n",
       "       [21., 29., 41., ..., 14., 21., 36.],\n",
       "       [21., 29., 41., ..., 16., 27., 39.]])"
      ]
     },
     "execution_count": 12,
     "metadata": {},
     "output_type": "execute_result"
    }
   ],
   "source": [
    "X"
   ]
  },
  {
   "cell_type": "markdown",
   "id": "b72aeb93-f95c-4e40-9f73-ef55982da982",
   "metadata": {
    "id": "b72aeb93-f95c-4e40-9f73-ef55982da982"
   },
   "source": [
    "## Building the Model"
   ]
  },
  {
   "cell_type": "code",
   "execution_count": null,
   "id": "8de694f2-d2c6-4dd0-a9ff-56f566c439ba",
   "metadata": {
    "colab": {
     "base_uri": "https://localhost:8080/",
     "height": 443
    },
    "executionInfo": {
     "elapsed": 7,
     "status": "ok",
     "timestamp": 1630592276212,
     "user": {
      "displayName": "Rishabh Singhal",
      "photoUrl": "",
      "userId": "09042655142465435311"
     },
     "user_tz": -330
    },
    "id": "8de694f2-d2c6-4dd0-a9ff-56f566c439ba",
    "outputId": "3f937fd4-63d8-43d6-ddf2-39857e5fe0d6"
   },
   "outputs": [
    {
     "data": {
      "text/html": [
       "<div>\n",
       "<style scoped>\n",
       "    .dataframe tbody tr th:only-of-type {\n",
       "        vertical-align: middle;\n",
       "    }\n",
       "\n",
       "    .dataframe tbody tr th {\n",
       "        vertical-align: top;\n",
       "    }\n",
       "\n",
       "    .dataframe thead th {\n",
       "        text-align: right;\n",
       "    }\n",
       "</style>\n",
       "<table border=\"1\" class=\"dataframe\">\n",
       "  <thead>\n",
       "    <tr style=\"text-align: right;\">\n",
       "      <th></th>\n",
       "      <th>field_id</th>\n",
       "      <th>0</th>\n",
       "      <th>1</th>\n",
       "      <th>2</th>\n",
       "      <th>3</th>\n",
       "      <th>4</th>\n",
       "      <th>5</th>\n",
       "      <th>6</th>\n",
       "      <th>7</th>\n",
       "      <th>8</th>\n",
       "      <th>9</th>\n",
       "      <th>10</th>\n",
       "      <th>11</th>\n",
       "      <th>12</th>\n",
       "      <th>13</th>\n",
       "      <th>14</th>\n",
       "      <th>label</th>\n",
       "    </tr>\n",
       "  </thead>\n",
       "  <tbody>\n",
       "    <tr>\n",
       "      <th>0</th>\n",
       "      <td>0.0</td>\n",
       "      <td>34.500000</td>\n",
       "      <td>50.900000</td>\n",
       "      <td>76.800000</td>\n",
       "      <td>33.000000</td>\n",
       "      <td>49.300000</td>\n",
       "      <td>73.600000</td>\n",
       "      <td>33.700000</td>\n",
       "      <td>50.200000</td>\n",
       "      <td>73.700000</td>\n",
       "      <td>31.900000</td>\n",
       "      <td>46.600000</td>\n",
       "      <td>69.800000</td>\n",
       "      <td>28.800000</td>\n",
       "      <td>41.600000</td>\n",
       "      <td>65.600000</td>\n",
       "      <td>4.9</td>\n",
       "    </tr>\n",
       "    <tr>\n",
       "      <th>1</th>\n",
       "      <td>2.0</td>\n",
       "      <td>32.043478</td>\n",
       "      <td>46.913043</td>\n",
       "      <td>73.913043</td>\n",
       "      <td>34.391304</td>\n",
       "      <td>46.695652</td>\n",
       "      <td>73.347826</td>\n",
       "      <td>24.000000</td>\n",
       "      <td>36.173913</td>\n",
       "      <td>56.478261</td>\n",
       "      <td>26.739130</td>\n",
       "      <td>37.695652</td>\n",
       "      <td>55.391304</td>\n",
       "      <td>20.782609</td>\n",
       "      <td>27.565217</td>\n",
       "      <td>49.347826</td>\n",
       "      <td>7.0</td>\n",
       "    </tr>\n",
       "    <tr>\n",
       "      <th>2</th>\n",
       "      <td>4.0</td>\n",
       "      <td>45.847682</td>\n",
       "      <td>61.059603</td>\n",
       "      <td>82.986755</td>\n",
       "      <td>40.158940</td>\n",
       "      <td>54.165563</td>\n",
       "      <td>76.940397</td>\n",
       "      <td>28.092715</td>\n",
       "      <td>39.218543</td>\n",
       "      <td>58.317881</td>\n",
       "      <td>35.629139</td>\n",
       "      <td>47.847682</td>\n",
       "      <td>67.000000</td>\n",
       "      <td>45.384106</td>\n",
       "      <td>59.947020</td>\n",
       "      <td>81.132450</td>\n",
       "      <td>8.0</td>\n",
       "    </tr>\n",
       "    <tr>\n",
       "      <th>3</th>\n",
       "      <td>19.0</td>\n",
       "      <td>22.266160</td>\n",
       "      <td>31.463878</td>\n",
       "      <td>85.053232</td>\n",
       "      <td>18.950570</td>\n",
       "      <td>28.646388</td>\n",
       "      <td>75.806084</td>\n",
       "      <td>18.699620</td>\n",
       "      <td>29.395437</td>\n",
       "      <td>74.882129</td>\n",
       "      <td>17.980989</td>\n",
       "      <td>29.159696</td>\n",
       "      <td>66.220532</td>\n",
       "      <td>25.114068</td>\n",
       "      <td>32.904943</td>\n",
       "      <td>62.574144</td>\n",
       "      <td>4.0</td>\n",
       "    </tr>\n",
       "    <tr>\n",
       "      <th>4</th>\n",
       "      <td>29.0</td>\n",
       "      <td>28.278689</td>\n",
       "      <td>40.229508</td>\n",
       "      <td>68.836066</td>\n",
       "      <td>23.885246</td>\n",
       "      <td>34.213115</td>\n",
       "      <td>56.737705</td>\n",
       "      <td>25.065574</td>\n",
       "      <td>34.868852</td>\n",
       "      <td>55.147541</td>\n",
       "      <td>24.409836</td>\n",
       "      <td>33.065574</td>\n",
       "      <td>50.327869</td>\n",
       "      <td>17.540984</td>\n",
       "      <td>24.344262</td>\n",
       "      <td>41.803279</td>\n",
       "      <td>4.0</td>\n",
       "    </tr>\n",
       "    <tr>\n",
       "      <th>...</th>\n",
       "      <td>...</td>\n",
       "      <td>...</td>\n",
       "      <td>...</td>\n",
       "      <td>...</td>\n",
       "      <td>...</td>\n",
       "      <td>...</td>\n",
       "      <td>...</td>\n",
       "      <td>...</td>\n",
       "      <td>...</td>\n",
       "      <td>...</td>\n",
       "      <td>...</td>\n",
       "      <td>...</td>\n",
       "      <td>...</td>\n",
       "      <td>...</td>\n",
       "      <td>...</td>\n",
       "      <td>...</td>\n",
       "      <td>...</td>\n",
       "    </tr>\n",
       "    <tr>\n",
       "      <th>16317</th>\n",
       "      <td>122715.0</td>\n",
       "      <td>11.259259</td>\n",
       "      <td>9.851852</td>\n",
       "      <td>66.962963</td>\n",
       "      <td>10.888889</td>\n",
       "      <td>10.333333</td>\n",
       "      <td>66.851852</td>\n",
       "      <td>19.962963</td>\n",
       "      <td>27.814815</td>\n",
       "      <td>58.259259</td>\n",
       "      <td>25.185185</td>\n",
       "      <td>35.962963</td>\n",
       "      <td>63.962963</td>\n",
       "      <td>18.407407</td>\n",
       "      <td>27.555556</td>\n",
       "      <td>47.037037</td>\n",
       "      <td>3.0</td>\n",
       "    </tr>\n",
       "    <tr>\n",
       "      <th>16318</th>\n",
       "      <td>122716.0</td>\n",
       "      <td>44.683333</td>\n",
       "      <td>58.916667</td>\n",
       "      <td>70.216667</td>\n",
       "      <td>39.366667</td>\n",
       "      <td>51.816667</td>\n",
       "      <td>59.983333</td>\n",
       "      <td>40.200000</td>\n",
       "      <td>54.666667</td>\n",
       "      <td>65.900000</td>\n",
       "      <td>36.133333</td>\n",
       "      <td>48.000000</td>\n",
       "      <td>57.150000</td>\n",
       "      <td>35.533333</td>\n",
       "      <td>47.050000</td>\n",
       "      <td>55.900000</td>\n",
       "      <td>6.0</td>\n",
       "    </tr>\n",
       "    <tr>\n",
       "      <th>16319</th>\n",
       "      <td>122723.0</td>\n",
       "      <td>20.611429</td>\n",
       "      <td>30.177143</td>\n",
       "      <td>54.902857</td>\n",
       "      <td>21.257143</td>\n",
       "      <td>30.674286</td>\n",
       "      <td>55.708571</td>\n",
       "      <td>20.154286</td>\n",
       "      <td>29.011429</td>\n",
       "      <td>54.468571</td>\n",
       "      <td>17.411429</td>\n",
       "      <td>23.942857</td>\n",
       "      <td>44.234286</td>\n",
       "      <td>26.594286</td>\n",
       "      <td>37.474286</td>\n",
       "      <td>58.320000</td>\n",
       "      <td>3.0</td>\n",
       "    </tr>\n",
       "    <tr>\n",
       "      <th>16320</th>\n",
       "      <td>122725.0</td>\n",
       "      <td>41.490854</td>\n",
       "      <td>58.823171</td>\n",
       "      <td>79.570122</td>\n",
       "      <td>37.679878</td>\n",
       "      <td>54.625000</td>\n",
       "      <td>76.216463</td>\n",
       "      <td>41.143293</td>\n",
       "      <td>59.006098</td>\n",
       "      <td>80.762195</td>\n",
       "      <td>39.548780</td>\n",
       "      <td>57.457317</td>\n",
       "      <td>79.734756</td>\n",
       "      <td>36.865854</td>\n",
       "      <td>53.128049</td>\n",
       "      <td>71.128049</td>\n",
       "      <td>5.0</td>\n",
       "    </tr>\n",
       "    <tr>\n",
       "      <th>16321</th>\n",
       "      <td>122729.0</td>\n",
       "      <td>29.582051</td>\n",
       "      <td>39.433333</td>\n",
       "      <td>63.576923</td>\n",
       "      <td>29.366667</td>\n",
       "      <td>40.046154</td>\n",
       "      <td>63.207692</td>\n",
       "      <td>28.464103</td>\n",
       "      <td>38.582051</td>\n",
       "      <td>64.674359</td>\n",
       "      <td>23.005128</td>\n",
       "      <td>28.628205</td>\n",
       "      <td>57.207692</td>\n",
       "      <td>23.294872</td>\n",
       "      <td>28.828205</td>\n",
       "      <td>56.279487</td>\n",
       "      <td>1.0</td>\n",
       "    </tr>\n",
       "  </tbody>\n",
       "</table>\n",
       "<p>16322 rows × 17 columns</p>\n",
       "</div>"
      ],
      "text/plain": [
       "       field_id          0          1  ...         13         14  label\n",
       "0           0.0  34.500000  50.900000  ...  41.600000  65.600000    4.9\n",
       "1           2.0  32.043478  46.913043  ...  27.565217  49.347826    7.0\n",
       "2           4.0  45.847682  61.059603  ...  59.947020  81.132450    8.0\n",
       "3          19.0  22.266160  31.463878  ...  32.904943  62.574144    4.0\n",
       "4          29.0  28.278689  40.229508  ...  24.344262  41.803279    4.0\n",
       "...         ...        ...        ...  ...        ...        ...    ...\n",
       "16317  122715.0  11.259259   9.851852  ...  27.555556  47.037037    3.0\n",
       "16318  122716.0  44.683333  58.916667  ...  47.050000  55.900000    6.0\n",
       "16319  122723.0  20.611429  30.177143  ...  37.474286  58.320000    3.0\n",
       "16320  122725.0  41.490854  58.823171  ...  53.128049  71.128049    5.0\n",
       "16321  122729.0  29.582051  39.433333  ...  28.828205  56.279487    1.0\n",
       "\n",
       "[16322 rows x 17 columns]"
      ]
     },
     "execution_count": 16,
     "metadata": {},
     "output_type": "execute_result"
    }
   ],
   "source": [
    "# Each field has several pixels in the data. Here our goal is to build a Random Forest (RF) model using the average values\n",
    "# of the pixels within each field. So, we use `groupby` to take the mean for each field_id\n",
    "data_grouped = data.groupby('field_id').mean().reset_index()\n",
    "data_grouped"
   ]
  },
  {
   "cell_type": "code",
   "execution_count": null,
   "id": "6383d15a-5e27-467d-9ea6-2c7af202a8c7",
   "metadata": {
    "id": "6383d15a-5e27-467d-9ea6-2c7af202a8c7"
   },
   "outputs": [],
   "source": [
    "# Split train and test\n",
    "# We use field_ids to split the data to train and test. Note that the test portion for training is different than the test \n",
    "# portion provided as part of the competition. \n",
    "train_per = 0.7\n",
    "\n",
    "n_fields = len(data_grouped['field_id'])\n",
    "np.random.seed(10)\n",
    "train_fields = np.random.choice(data_grouped['field_id'], int(n_fields * train_per), replace=False)\n",
    "test_fields = data_grouped['field_id'][~np.in1d(data_grouped['field_id'], train_fields)]"
   ]
  },
  {
   "cell_type": "code",
   "execution_count": null,
   "id": "bf3dc6ed-d908-43f3-b854-3d273b45d593",
   "metadata": {
    "id": "bf3dc6ed-d908-43f3-b854-3d273b45d593"
   },
   "outputs": [],
   "source": [
    "X_train, X_test = data_grouped[data_grouped['field_id'].isin(train_fields)], data_grouped[data_grouped['field_id'].isin(test_fields)]\n",
    "X_train = X_train.drop(columns=['label', 'field_id'])\n",
    "X_test = X_test.drop(columns=['label', 'field_id'])\n",
    "y_train, y_test = data_grouped[data_grouped['field_id'].isin(train_fields)]['label'], data_grouped[data_grouped['field_id'].isin(test_fields)]['label']"
   ]
  },
  {
   "cell_type": "markdown",
   "id": "fad74eff",
   "metadata": {},
   "source": [
    "#### RF model"
   ]
  },
  {
   "cell_type": "code",
   "execution_count": null,
   "id": "6eaf48aa-431f-4b05-a978-6e3729c1ef1d",
   "metadata": {
    "id": "6eaf48aa-431f-4b05-a978-6e3729c1ef1d"
   },
   "outputs": [],
   "source": [
    "# We ran a simple hyperparameter tuning for the number of trees, and concluded to use:\n",
    "n_trees = 100"
   ]
  },
  {
   "cell_type": "code",
   "execution_count": null,
   "id": "fced7dae-01e5-4677-9e41-e94790f057e0",
   "metadata": {
    "colab": {
     "base_uri": "https://localhost:8080/"
    },
    "executionInfo": {
     "elapsed": 1677,
     "status": "ok",
     "timestamp": 1630597534028,
     "user": {
      "displayName": "Rishabh Singhal",
      "photoUrl": "",
      "userId": "09042655142465435311"
     },
     "user_tz": -330
    },
    "id": "fced7dae-01e5-4677-9e41-e94790f057e0",
    "outputId": "10206aa2-713f-4449-9002-14659123e4c6"
   },
   "outputs": [
    {
     "name": "stderr",
     "output_type": "stream",
     "text": [
      "[Parallel(n_jobs=3)]: Using backend ThreadingBackend with 3 concurrent workers.\n",
      "[Parallel(n_jobs=3)]: Done  44 tasks      | elapsed:    0.8s\n",
      "[Parallel(n_jobs=3)]: Done 100 out of 100 | elapsed:    1.6s finished\n"
     ]
    },
    {
     "data": {
      "text/plain": [
       "RandomForestClassifier(bootstrap=True, ccp_alpha=0.0, class_weight=None,\n",
       "                       criterion='gini', max_depth=None, max_features='auto',\n",
       "                       max_leaf_nodes=None, max_samples=None,\n",
       "                       min_impurity_decrease=0.0, min_impurity_split=None,\n",
       "                       min_samples_leaf=1, min_samples_split=2,\n",
       "                       min_weight_fraction_leaf=0.0, n_estimators=100, n_jobs=3,\n",
       "                       oob_score=False, random_state=0, verbose=1,\n",
       "                       warm_start=False)"
      ]
     },
     "execution_count": 25,
     "metadata": {},
     "output_type": "execute_result"
    }
   ],
   "source": [
    "# Fitting the RF model\n",
    "rf = RandomForestClassifier(n_estimators = n_trees, random_state = 0, n_jobs = 3, verbose =1)\n",
    "rf.fit(X_train, y_train.astype(int))"
   ]
  },
  {
   "cell_type": "markdown",
   "id": "xwK6Ndk6xJzS",
   "metadata": {
    "id": "xwK6Ndk6xJzS"
   },
   "source": [
    "**NN Model**"
   ]
  },
  {
   "cell_type": "code",
   "execution_count": 6,
   "id": "Nwi-cIXSo6WY",
   "metadata": {
    "colab": {
     "base_uri": "https://localhost:8080/",
     "height": 402
    },
    "executionInfo": {
     "elapsed": 7143,
     "status": "ok",
     "timestamp": 1631562959367,
     "user": {
      "displayName": "Rishabh Singhal",
      "photoUrl": "https://lh3.googleusercontent.com/a/default-user=s64",
      "userId": "09042655142465435311"
     },
     "user_tz": -330
    },
    "id": "Nwi-cIXSo6WY",
    "outputId": "f2311598-bdf1-4f1c-b85e-f985fa87c071",
    "scrolled": true
   },
   "outputs": [
    {
     "name": "stdout",
     "output_type": "stream",
     "text": [
      "Requirement already satisfied: segmentation_models in /usr/local/lib/python3.7/dist-packages (1.0.1)\n",
      "Requirement already satisfied: keras-applications<=1.0.8,>=1.0.7 in /usr/local/lib/python3.7/dist-packages (from segmentation_models) (1.0.8)\n",
      "Requirement already satisfied: efficientnet==1.0.0 in /usr/local/lib/python3.7/dist-packages (from segmentation_models) (1.0.0)\n",
      "Requirement already satisfied: image-classifiers==1.0.0 in /usr/local/lib/python3.7/dist-packages (from segmentation_models) (1.0.0)\n",
      "Requirement already satisfied: scikit-image in /usr/local/lib/python3.7/dist-packages (from efficientnet==1.0.0->segmentation_models) (0.16.2)\n",
      "Requirement already satisfied: h5py in /usr/local/lib/python3.7/dist-packages (from keras-applications<=1.0.8,>=1.0.7->segmentation_models) (3.1.0)\n",
      "Requirement already satisfied: numpy>=1.9.1 in /usr/local/lib/python3.7/dist-packages (from keras-applications<=1.0.8,>=1.0.7->segmentation_models) (1.19.5)\n",
      "Requirement already satisfied: cached-property in /usr/local/lib/python3.7/dist-packages (from h5py->keras-applications<=1.0.8,>=1.0.7->segmentation_models) (1.5.2)\n",
      "Requirement already satisfied: scipy>=0.19.0 in /usr/local/lib/python3.7/dist-packages (from scikit-image->efficientnet==1.0.0->segmentation_models) (1.4.1)\n",
      "Requirement already satisfied: networkx>=2.0 in /usr/local/lib/python3.7/dist-packages (from scikit-image->efficientnet==1.0.0->segmentation_models) (2.6.2)\n",
      "Requirement already satisfied: PyWavelets>=0.4.0 in /usr/local/lib/python3.7/dist-packages (from scikit-image->efficientnet==1.0.0->segmentation_models) (1.1.1)\n",
      "Requirement already satisfied: imageio>=2.3.0 in /usr/local/lib/python3.7/dist-packages (from scikit-image->efficientnet==1.0.0->segmentation_models) (2.4.1)\n",
      "Requirement already satisfied: pillow>=4.3.0 in /usr/local/lib/python3.7/dist-packages (from scikit-image->efficientnet==1.0.0->segmentation_models) (7.1.2)\n",
      "Requirement already satisfied: matplotlib!=3.0.0,>=2.0.0 in /usr/local/lib/python3.7/dist-packages (from scikit-image->efficientnet==1.0.0->segmentation_models) (3.2.2)\n",
      "Requirement already satisfied: kiwisolver>=1.0.1 in /usr/local/lib/python3.7/dist-packages (from matplotlib!=3.0.0,>=2.0.0->scikit-image->efficientnet==1.0.0->segmentation_models) (1.3.1)\n",
      "Requirement already satisfied: cycler>=0.10 in /usr/local/lib/python3.7/dist-packages (from matplotlib!=3.0.0,>=2.0.0->scikit-image->efficientnet==1.0.0->segmentation_models) (0.10.0)\n",
      "Requirement already satisfied: pyparsing!=2.0.4,!=2.1.2,!=2.1.6,>=2.0.1 in /usr/local/lib/python3.7/dist-packages (from matplotlib!=3.0.0,>=2.0.0->scikit-image->efficientnet==1.0.0->segmentation_models) (2.4.7)\n",
      "Requirement already satisfied: python-dateutil>=2.1 in /usr/local/lib/python3.7/dist-packages (from matplotlib!=3.0.0,>=2.0.0->scikit-image->efficientnet==1.0.0->segmentation_models) (2.8.2)\n",
      "Requirement already satisfied: six in /usr/local/lib/python3.7/dist-packages (from cycler>=0.10->matplotlib!=3.0.0,>=2.0.0->scikit-image->efficientnet==1.0.0->segmentation_models) (1.15.0)\n",
      "Segmentation Models: using `keras` framework.\n"
     ]
    },
    {
     "data": {
      "application/vnd.google.colaboratory.intrinsic+json": {
       "type": "string"
      },
      "text/plain": [
       "'tf.keras'"
      ]
     },
     "execution_count": 6,
     "metadata": {},
     "output_type": "execute_result"
    }
   ],
   "source": [
    "!pip install segmentation_models\n",
    "import segmentation_models as sm\n",
    "\n",
    "sm.set_framework('tf.keras')\n",
    "\n",
    "sm.framework()"
   ]
  },
  {
   "cell_type": "code",
   "execution_count": null,
   "id": "2pZabxgjVOMg",
   "metadata": {
    "colab": {
     "base_uri": "https://localhost:8080/",
     "height": 35
    },
    "executionInfo": {
     "elapsed": 8,
     "status": "ok",
     "timestamp": 1631504227173,
     "user": {
      "displayName": "Rishabh Singhal",
      "photoUrl": "https://lh3.googleusercontent.com/a/default-user=s64",
      "userId": "09042655142465435311"
     },
     "user_tz": -330
    },
    "id": "2pZabxgjVOMg",
    "outputId": "1ea81cf0-dbce-4738-c6a3-17367cbd58c2"
   },
   "outputs": [
    {
     "data": {
      "application/vnd.google.colaboratory.intrinsic+json": {
       "type": "string"
      },
      "text/plain": [
       "'2.6.0'"
      ]
     },
     "execution_count": 11,
     "metadata": {},
     "output_type": "execute_result"
    }
   ],
   "source": [
    "import tensorflow as tf\n",
    "tf.__version__"
   ]
  },
  {
   "cell_type": "code",
   "execution_count": null,
   "id": "w32q_fnumUoY",
   "metadata": {
    "id": "w32q_fnumUoY"
   },
   "outputs": [],
   "source": [
    "from sklearn.model_selection import train_test_split\n",
    "X_train, X_val, y_train, y_val = train_test_split(X, y_t, test_size=0.4, random_state=42)"
   ]
  },
  {
   "cell_type": "code",
   "execution_count": null,
   "id": "fa4e1808",
   "metadata": {},
   "outputs": [],
   "source": [
    "del y_t\n",
    "import gc"
   ]
  },
  {
   "cell_type": "code",
   "execution_count": null,
   "id": "bMXACPu7VjNB",
   "metadata": {
    "id": "bMXACPu7VjNB"
   },
   "outputs": [],
   "source": [
    "train_tf_dataset = tf.data.Dataset.from_tensor_slices((X_train[:1000], y_train[:1000]))\n",
    "test_tf_dataset = tf.data.Dataset.from_tensor_slices((X_val[:1000], y_val[:1000]))"
   ]
  },
  {
   "cell_type": "code",
   "execution_count": null,
   "id": "ftX2KJuQd8nE",
   "metadata": {
    "colab": {
     "base_uri": "https://localhost:8080/"
    },
    "executionInfo": {
     "elapsed": 2815,
     "status": "ok",
     "timestamp": 1631491657846,
     "user": {
      "displayName": "Rishabh Singhal",
      "photoUrl": "https://lh3.googleusercontent.com/a/default-user=s64",
      "userId": "09042655142465435311"
     },
     "user_tz": -330
    },
    "id": "ftX2KJuQd8nE",
    "outputId": "bd4a15fd-c7a1-494b-914e-ec762652f455"
   },
   "outputs": [
    {
     "name": "stdout",
     "output_type": "stream",
     "text": [
      "2\n"
     ]
    }
   ],
   "source": [
    "train_tf_dataset.as_numpy_iterator()\n",
    "for sales in train_tf_dataset.as_numpy_iterator():\n",
    "    print(sales, len(sales))\n",
    "    del sales\n",
    "    break"
   ]
  },
  {
   "cell_type": "code",
   "execution_count": null,
   "id": "rzgLKmsQWaNs",
   "metadata": {
    "id": "rzgLKmsQWaNs"
   },
   "outputs": [],
   "source": [
    "BATCH_SIZE = 32\n",
    "train_dataset = train_tf_dataset.batch(BATCH_SIZE).prefetch(tf.data.AUTOTUNE)\n",
    "test_dataset = test_tf_dataset.batch(BATCH_SIZE)"
   ]
  },
  {
   "cell_type": "code",
   "execution_count": null,
   "id": "t9wyO8TDYwls",
   "metadata": {
    "colab": {
     "base_uri": "https://localhost:8080/"
    },
    "executionInfo": {
     "elapsed": 640,
     "status": "ok",
     "timestamp": 1631491428171,
     "user": {
      "displayName": "Rishabh Singhal",
      "photoUrl": "https://lh3.googleusercontent.com/a/default-user=s64",
      "userId": "09042655142465435311"
     },
     "user_tz": -330
    },
    "id": "t9wyO8TDYwls",
    "outputId": "f995bac8-53f3-4942-c640-7ddc4fa4b6ea"
   },
   "outputs": [
    {
     "data": {
      "text/plain": [
       "<PrefetchDataset shapes: ((None, 256, 256, 3), (None, 256, 256, 10)), types: (tf.float16, tf.float32)>"
      ]
     },
     "execution_count": 29,
     "metadata": {},
     "output_type": "execute_result"
    }
   ],
   "source": [
    "train_dataset"
   ]
  },
  {
   "cell_type": "code",
   "execution_count": null,
   "id": "eyaV8bUGkyw6",
   "metadata": {
    "id": "eyaV8bUGkyw6"
   },
   "outputs": [],
   "source": [
    "y_train = np.array(y_train, dtype=np.float32)"
   ]
  },
  {
   "cell_type": "code",
   "execution_count": null,
   "id": "yvUTvR9GspmL",
   "metadata": {
    "id": "yvUTvR9GspmL"
   },
   "outputs": [],
   "source": [
    "y_val = np.array(y_val, dtype=np.float32)"
   ]
  },
  {
   "cell_type": "code",
   "execution_count": null,
   "id": "2-F-KWWio4vJ",
   "metadata": {
    "colab": {
     "base_uri": "https://localhost:8080/"
    },
    "executionInfo": {
     "elapsed": 370,
     "status": "ok",
     "timestamp": 1631494410862,
     "user": {
      "displayName": "Rishabh Singhal",
      "photoUrl": "https://lh3.googleusercontent.com/a/default-user=s64",
      "userId": "09042655142465435311"
     },
     "user_tz": -330
    },
    "id": "2-F-KWWio4vJ",
    "outputId": "d66422b8-458c-4b3f-db35-cd575a57f40b"
   },
   "outputs": [
    {
     "data": {
      "text/plain": [
       "23171"
      ]
     },
     "execution_count": 44,
     "metadata": {},
     "output_type": "execute_result"
    }
   ],
   "source": [
    "#del X_train\n",
    "#del X_val\n",
    "gc.collect()"
   ]
  },
  {
   "cell_type": "code",
   "execution_count": null,
   "id": "2_0m4kQ3ko7z",
   "metadata": {
    "colab": {
     "base_uri": "https://localhost:8080/"
    },
    "executionInfo": {
     "elapsed": 11,
     "status": "ok",
     "timestamp": 1631146284722,
     "user": {
      "displayName": "Rishabh Singhal",
      "photoUrl": "",
      "userId": "09042655142465435311"
     },
     "user_tz": -330
    },
    "id": "2_0m4kQ3ko7z",
    "outputId": "bf0d7b6a-1608-40a2-8719-cc5a2ca6ce04"
   },
   "outputs": [
    {
     "data": {
      "text/plain": [
       "numpy.float16"
      ]
     },
     "execution_count": 19,
     "metadata": {},
     "output_type": "execute_result"
    }
   ],
   "source": [
    "type(X_train[0][0][0][0])"
   ]
  },
  {
   "cell_type": "code",
   "execution_count": null,
   "id": "F97QGdUa3ufI",
   "metadata": {
    "id": "F97QGdUa3ufI"
   },
   "outputs": [],
   "source": [
    "model = tf.keras.Sequential([\n",
    "  pretrained_model_without_top_layer,\n",
    "  tf.keras.layers.Dense(num_of_flowers)\n",
    "])\n",
    "\n",
    "model.summary()"
   ]
  },
  {
   "cell_type": "code",
   "execution_count": null,
   "id": "erWQ0sAbmHSC",
   "metadata": {
    "id": "erWQ0sAbmHSC"
   },
   "outputs": [],
   "source": [
    "model.trainable = False\n",
    "for layer in model.layers[-20:]:\n",
    "    if not isinstance(layer, layers.BatchNormalization):\n",
    "        layer.trainable = True"
   ]
  },
  {
   "cell_type": "code",
   "execution_count": null,
   "id": "XQNHgFWpmHUb",
   "metadata": {
    "id": "XQNHgFWpmHUb"
   },
   "outputs": [],
   "source": []
  },
  {
   "cell_type": "code",
   "execution_count": null,
   "id": "6gWjbhW0Vzed",
   "metadata": {
    "colab": {
     "base_uri": "https://localhost:8080/"
    },
    "executionInfo": {
     "elapsed": 2561,
     "status": "ok",
     "timestamp": 1631504953445,
     "user": {
      "displayName": "Rishabh Singhal",
      "photoUrl": "https://lh3.googleusercontent.com/a/default-user=s64",
      "userId": "09042655142465435311"
     },
     "user_tz": -330
    },
    "id": "6gWjbhW0Vzed",
    "outputId": "5d6b201a-6aba-4db5-aba8-e1894bfeb665"
   },
   "outputs": [
    {
     "name": "stdout",
     "output_type": "stream",
     "text": [
      "False <keras.engine.input_layer.InputLayer object at 0x7f440c350f90>\n",
      "True <keras.layers.normalization.batch_normalization.BatchNormalization object at 0x7f440c350450>\n",
      "False <keras.layers.convolutional.ZeroPadding2D object at 0x7f4304d22750>\n",
      "False <keras.layers.convolutional.Conv2D object at 0x7f440c2a8d10>\n",
      "True <keras.layers.normalization.batch_normalization.BatchNormalization object at 0x7f440c30fe50>\n",
      "False <keras.layers.core.Activation object at 0x7f440c315910>\n",
      "False <keras.layers.convolutional.ZeroPadding2D object at 0x7f440c322150>\n",
      "False <keras.layers.pooling.MaxPooling2D object at 0x7f440c030a10>\n",
      "True <keras.layers.normalization.batch_normalization.BatchNormalization object at 0x7f440c287c90>\n",
      "False <keras.layers.core.Activation object at 0x7f440c3a6810>\n",
      "False <keras.layers.convolutional.ZeroPadding2D object at 0x7f43044d5d50>\n",
      "False <keras.layers.convolutional.Conv2D object at 0x7f4304ce9ed0>\n",
      "True <keras.layers.normalization.batch_normalization.BatchNormalization object at 0x7f440c263550>\n",
      "False <keras.layers.core.Activation object at 0x7f440c46c690>\n",
      "False <keras.layers.convolutional.ZeroPadding2D object at 0x7f4304d22f90>\n",
      "False <keras.layers.convolutional.Conv2D object at 0x7f440c2c1d90>\n",
      "False <keras.layers.convolutional.Conv2D object at 0x7f440c1d6290>\n",
      "False <keras.layers.merge.Add object at 0x7f440c1fc590>\n",
      "True <keras.layers.normalization.batch_normalization.BatchNormalization object at 0x7f440c287910>\n",
      "False <keras.layers.core.Activation object at 0x7f440c2a5850>\n",
      "False <keras.layers.convolutional.ZeroPadding2D object at 0x7f440c228290>\n",
      "False <keras.layers.convolutional.Conv2D object at 0x7f440c237b50>\n",
      "True <keras.layers.normalization.batch_normalization.BatchNormalization object at 0x7f440c1de910>\n",
      "False <keras.layers.core.Activation object at 0x7f440c2a8910>\n",
      "False <keras.layers.convolutional.ZeroPadding2D object at 0x7f440c1c7790>\n",
      "False <keras.layers.convolutional.Conv2D object at 0x7f440c237fd0>\n",
      "False <keras.layers.merge.Add object at 0x7f45ae21c810>\n",
      "True <keras.layers.normalization.batch_normalization.BatchNormalization object at 0x7f440c263990>\n",
      "False <keras.layers.core.Activation object at 0x7f46004eae90>\n",
      "False <keras.layers.convolutional.ZeroPadding2D object at 0x7f46004e65d0>\n",
      "False <keras.layers.convolutional.Conv2D object at 0x7f4617209210>\n",
      "True <keras.layers.normalization.batch_normalization.BatchNormalization object at 0x7f440c29dbd0>\n",
      "False <keras.layers.core.Activation object at 0x7f4304cd8250>\n",
      "False <keras.layers.convolutional.ZeroPadding2D object at 0x7f440c29d250>\n",
      "False <keras.layers.convolutional.Conv2D object at 0x7f4600460310>\n",
      "False <keras.layers.merge.Add object at 0x7f46004940d0>\n",
      "True <keras.layers.normalization.batch_normalization.BatchNormalization object at 0x7f46004cd490>\n",
      "False <keras.layers.core.Activation object at 0x7f4600460810>\n",
      "False <keras.layers.convolutional.ZeroPadding2D object at 0x7f46004dc190>\n",
      "False <keras.layers.convolutional.Conv2D object at 0x7f46005203d0>\n",
      "True <keras.layers.normalization.batch_normalization.BatchNormalization object at 0x7f4600460a10>\n",
      "False <keras.layers.core.Activation object at 0x7f4600463c50>\n",
      "False <keras.layers.convolutional.ZeroPadding2D object at 0x7f460048e250>\n",
      "False <keras.layers.convolutional.Conv2D object at 0x7f460048e510>\n",
      "False <keras.layers.convolutional.Conv2D object at 0x7f46005426d0>\n",
      "False <keras.layers.merge.Add object at 0x7f4600490990>\n",
      "True <keras.layers.normalization.batch_normalization.BatchNormalization object at 0x7f46004bd350>\n",
      "False <keras.layers.core.Activation object at 0x7f4612740f90>\n",
      "False <keras.layers.convolutional.ZeroPadding2D object at 0x7f46004eae10>\n",
      "False <keras.layers.convolutional.Conv2D object at 0x7f4600463ad0>\n",
      "True <keras.layers.normalization.batch_normalization.BatchNormalization object at 0x7f440c1c79d0>\n",
      "False <keras.layers.core.Activation object at 0x7f440c2a2390>\n",
      "False <keras.layers.convolutional.ZeroPadding2D object at 0x7f440c2328d0>\n",
      "False <keras.layers.convolutional.Conv2D object at 0x7f440c282610>\n",
      "False <keras.layers.merge.Add object at 0x7f4600473550>\n",
      "True <keras.layers.normalization.batch_normalization.BatchNormalization object at 0x7f46004bdcd0>\n",
      "False <keras.layers.core.Activation object at 0x7f46004af6d0>\n",
      "False <keras.layers.convolutional.ZeroPadding2D object at 0x7f4612775050>\n",
      "False <keras.layers.convolutional.Conv2D object at 0x7f4600438610>\n",
      "True <keras.layers.normalization.batch_normalization.BatchNormalization object at 0x7f460043da50>\n",
      "False <keras.layers.core.Activation object at 0x7f46004adc50>\n",
      "False <keras.layers.convolutional.ZeroPadding2D object at 0x7f4600430990>\n",
      "False <keras.layers.convolutional.Conv2D object at 0x7f460046e5d0>\n",
      "False <keras.layers.merge.Add object at 0x7f4600496350>\n",
      "True <keras.layers.normalization.batch_normalization.BatchNormalization object at 0x7f46004bd2d0>\n",
      "False <keras.layers.core.Activation object at 0x7f4600430910>\n",
      "False <keras.layers.convolutional.ZeroPadding2D object at 0x7f4600449ad0>\n",
      "False <keras.layers.convolutional.Conv2D object at 0x7f4600414090>\n",
      "True <keras.layers.normalization.batch_normalization.BatchNormalization object at 0x7f46003ca1d0>\n",
      "False <keras.layers.core.Activation object at 0x7f460053ed90>\n",
      "False <keras.layers.convolutional.ZeroPadding2D object at 0x7f4600419210>\n",
      "False <keras.layers.convolutional.Conv2D object at 0x7f46004b9f10>\n",
      "False <keras.layers.merge.Add object at 0x7f460042d650>\n",
      "True <keras.layers.normalization.batch_normalization.BatchNormalization object at 0x7f46004bd450>\n",
      "False <keras.layers.core.Activation object at 0x7f46004a3410>\n",
      "False <keras.layers.convolutional.ZeroPadding2D object at 0x7f46003cca10>\n",
      "False <keras.layers.convolutional.Conv2D object at 0x7f4600453810>\n",
      "True <keras.layers.normalization.batch_normalization.BatchNormalization object at 0x7f460042dd10>\n",
      "False <keras.layers.core.Activation object at 0x7f46004a3bd0>\n",
      "False <keras.layers.convolutional.ZeroPadding2D object at 0x7f460044a810>\n",
      "False <keras.layers.convolutional.Conv2D object at 0x7f4600498d90>\n",
      "False <keras.layers.convolutional.Conv2D object at 0x7f46004a6b10>\n",
      "False <keras.layers.merge.Add object at 0x7f46003d9e50>\n",
      "True <keras.layers.normalization.batch_normalization.BatchNormalization object at 0x7f46004bd250>\n",
      "False <keras.layers.core.Activation object at 0x7f46003fbad0>\n",
      "False <keras.layers.convolutional.ZeroPadding2D object at 0x7f4600450810>\n",
      "False <keras.layers.convolutional.Conv2D object at 0x7f46004e3f10>\n",
      "True <keras.layers.normalization.batch_normalization.BatchNormalization object at 0x7f4600450450>\n",
      "False <keras.layers.core.Activation object at 0x7f46004c2a90>\n",
      "False <keras.layers.convolutional.ZeroPadding2D object at 0x7f4600472790>\n",
      "False <keras.layers.convolutional.Conv2D object at 0x7f460041c990>\n",
      "False <keras.layers.merge.Add object at 0x7f46004721d0>\n",
      "True <keras.layers.normalization.batch_normalization.BatchNormalization object at 0x7f46003fba50>\n",
      "False <keras.layers.core.Activation object at 0x7f460045b290>\n",
      "False <keras.layers.convolutional.ZeroPadding2D object at 0x7f46003ca790>\n",
      "False <keras.layers.convolutional.Conv2D object at 0x7f46004a6e90>\n",
      "True <keras.layers.normalization.batch_normalization.BatchNormalization object at 0x7f4600456110>\n",
      "False <keras.layers.core.Activation object at 0x7f4600496750>\n",
      "False <keras.layers.convolutional.ZeroPadding2D object at 0x7f440c290250>\n",
      "False <keras.layers.convolutional.Conv2D object at 0x7f46004f3f90>\n",
      "False <keras.layers.merge.Add object at 0x7f4600472bd0>\n",
      "True <keras.layers.normalization.batch_normalization.BatchNormalization object at 0x7f46003fbb10>\n",
      "False <keras.layers.core.Activation object at 0x7f46004feed0>\n",
      "False <keras.layers.convolutional.ZeroPadding2D object at 0x7f4600476f90>\n",
      "False <keras.layers.convolutional.Conv2D object at 0x7f4600440910>\n",
      "True <keras.layers.normalization.batch_normalization.BatchNormalization object at 0x7f46003da450>\n",
      "False <keras.layers.core.Activation object at 0x7f4600525c50>\n",
      "False <keras.layers.convolutional.ZeroPadding2D object at 0x7f4600525f90>\n",
      "False <keras.layers.convolutional.Conv2D object at 0x7f46003f35d0>\n",
      "False <keras.layers.merge.Add object at 0x7f46003be2d0>\n",
      "True <keras.layers.normalization.batch_normalization.BatchNormalization object at 0x7f4600463fd0>\n",
      "False <keras.layers.core.Activation object at 0x7f465a8fabd0>\n",
      "False <keras.layers.convolutional.ZeroPadding2D object at 0x7f461279e590>\n",
      "False <keras.layers.convolutional.Conv2D object at 0x7f45ae230b90>\n",
      "True <keras.layers.normalization.batch_normalization.BatchNormalization object at 0x7f45ae1acd10>\n",
      "False <keras.layers.core.Activation object at 0x7f45ae237450>\n",
      "False <keras.layers.convolutional.ZeroPadding2D object at 0x7f45ae230bd0>\n",
      "False <keras.layers.convolutional.Conv2D object at 0x7f45ae0c6590>\n",
      "False <keras.layers.merge.Add object at 0x7f45ae10fa90>\n",
      "True <keras.layers.normalization.batch_normalization.BatchNormalization object at 0x7f46003fb110>\n",
      "False <keras.layers.core.Activation object at 0x7f46003bf910>\n",
      "False <keras.layers.convolutional.ZeroPadding2D object at 0x7f45ae1a16d0>\n",
      "False <keras.layers.convolutional.Conv2D object at 0x7f45ae237a90>\n",
      "True <keras.layers.normalization.batch_normalization.BatchNormalization object at 0x7f45ae22cb50>\n",
      "False <keras.layers.core.Activation object at 0x7f45ae0ce3d0>\n",
      "False <keras.layers.convolutional.ZeroPadding2D object at 0x7f45ae118610>\n",
      "False <keras.layers.convolutional.Conv2D object at 0x7f45ae126450>\n",
      "False <keras.layers.merge.Add object at 0x7f45ae05e590>\n",
      "True <keras.layers.normalization.batch_normalization.BatchNormalization object at 0x7f45ae0c6810>\n",
      "False <keras.layers.core.Activation object at 0x7f45ae065450>\n",
      "False <keras.layers.convolutional.ZeroPadding2D object at 0x7f45ae118b50>\n",
      "False <keras.layers.convolutional.Conv2D object at 0x7f45ae0d6210>\n",
      "True <keras.layers.normalization.batch_normalization.BatchNormalization object at 0x7f45ae227f10>\n",
      "False <keras.layers.core.Activation object at 0x7f45ae15e290>\n",
      "False <keras.layers.convolutional.ZeroPadding2D object at 0x7f45ae0d61d0>\n",
      "False <keras.layers.convolutional.Conv2D object at 0x7f440c431310>\n",
      "False <keras.layers.convolutional.Conv2D object at 0x7f45ae1b0e50>\n",
      "False <keras.layers.merge.Add object at 0x7f440c405350>\n",
      "True <keras.layers.normalization.batch_normalization.BatchNormalization object at 0x7f45ae05a8d0>\n",
      "False <keras.layers.core.Activation object at 0x7f45ae15e310>\n",
      "False <keras.layers.convolutional.ZeroPadding2D object at 0x7f45ae065550>\n",
      "False <keras.layers.convolutional.Conv2D object at 0x7f45ae177e10>\n",
      "True <keras.layers.normalization.batch_normalization.BatchNormalization object at 0x7f45ae05e550>\n",
      "False <keras.layers.core.Activation object at 0x7f45ae15e3d0>\n",
      "False <keras.layers.convolutional.ZeroPadding2D object at 0x7f45ae0ceb90>\n",
      "False <keras.layers.convolutional.Conv2D object at 0x7f4600476e50>\n",
      "False <keras.layers.merge.Add object at 0x7f4600460d10>\n",
      "True <keras.layers.normalization.batch_normalization.BatchNormalization object at 0x7f45ae05aa50>\n",
      "False <keras.layers.core.Activation object at 0x7f440c4662d0>\n",
      "False <keras.layers.convolutional.ZeroPadding2D object at 0x7f440c490f90>\n",
      "False <keras.layers.convolutional.Conv2D object at 0x7f45ae05ad90>\n",
      "True <keras.layers.normalization.batch_normalization.BatchNormalization object at 0x7f440c3f1dd0>\n",
      "False <keras.layers.core.Activation object at 0x7f440c449e50>\n",
      "False <keras.layers.convolutional.ZeroPadding2D object at 0x7f45ae090ad0>\n",
      "False <keras.layers.convolutional.Conv2D object at 0x7f460041fdd0>\n",
      "False <keras.layers.merge.Add object at 0x7f440c458690>\n",
      "True <keras.layers.normalization.batch_normalization.BatchNormalization object at 0x7f440c24f450>\n",
      "False <keras.layers.core.Activation object at 0x7f45ae085590>\n",
      "True <keras.layers.convolutional.UpSampling2D object at 0x7f45ae0f1890>\n",
      "True <keras.layers.merge.Concatenate object at 0x7f45ae0f1c90>\n",
      "True <keras.layers.convolutional.Conv2D object at 0x7f440c494390>\n",
      "True <keras.layers.normalization.batch_normalization.BatchNormalization object at 0x7f440c494690>\n",
      "True <keras.layers.core.Activation object at 0x7f440c494310>\n",
      "True <keras.layers.convolutional.Conv2D object at 0x7f45ae0b2b50>\n",
      "True <keras.layers.normalization.batch_normalization.BatchNormalization object at 0x7f440c454e50>\n",
      "True <keras.layers.core.Activation object at 0x7f45ae0442d0>\n",
      "True <keras.layers.convolutional.UpSampling2D object at 0x7f440c494950>\n",
      "True <keras.layers.merge.Concatenate object at 0x7f440c494c50>\n",
      "True <keras.layers.convolutional.Conv2D object at 0x7f440c3f60d0>\n",
      "True <keras.layers.normalization.batch_normalization.BatchNormalization object at 0x7f440c3fd990>\n",
      "True <keras.layers.core.Activation object at 0x7f440c45cd50>\n",
      "True <keras.layers.convolutional.Conv2D object at 0x7f440c450650>\n",
      "True <keras.layers.normalization.batch_normalization.BatchNormalization object at 0x7f440c4a77d0>\n",
      "True <keras.layers.core.Activation object at 0x7f440c4a79d0>\n",
      "True <keras.layers.convolutional.UpSampling2D object at 0x7f440c49d190>\n",
      "True <keras.layers.merge.Concatenate object at 0x7f440c45cb50>\n",
      "True <keras.layers.convolutional.Conv2D object at 0x7f46127ddc90>\n",
      "True <keras.layers.normalization.batch_normalization.BatchNormalization object at 0x7f46127dd3d0>\n",
      "True <keras.layers.core.Activation object at 0x7f45ae223810>\n",
      "True <keras.layers.convolutional.Conv2D object at 0x7f45ae06f6d0>\n",
      "True <keras.layers.normalization.batch_normalization.BatchNormalization object at 0x7f440c494190>\n",
      "True <keras.layers.core.Activation object at 0x7f45ae07b950>\n",
      "True <keras.layers.convolutional.UpSampling2D object at 0x7f45ae223350>\n",
      "True <keras.layers.merge.Concatenate object at 0x7f45ae0dae10>\n",
      "True <keras.layers.convolutional.Conv2D object at 0x7f45ae0c6dd0>\n",
      "True <keras.layers.normalization.batch_normalization.BatchNormalization object at 0x7f4600476650>\n",
      "True <keras.layers.core.Activation object at 0x7f45ae220590>\n",
      "True <keras.layers.convolutional.Conv2D object at 0x7f45ae1b4fd0>\n",
      "True <keras.layers.normalization.batch_normalization.BatchNormalization object at 0x7f4600377710>\n",
      "True <keras.layers.core.Activation object at 0x7f460035ff50>\n",
      "True <keras.layers.convolutional.UpSampling2D object at 0x7f440c4492d0>\n",
      "True <keras.layers.convolutional.Conv2D object at 0x7f46003ef490>\n",
      "True <keras.layers.normalization.batch_normalization.BatchNormalization object at 0x7f46003ef450>\n",
      "True <keras.layers.core.Activation object at 0x7f460037cfd0>\n",
      "True <keras.layers.convolutional.Conv2D object at 0x7f4600514a90>\n",
      "True <keras.layers.normalization.batch_normalization.BatchNormalization object at 0x7f46003eccd0>\n",
      "True <keras.layers.core.Activation object at 0x7f46003a5e90>\n",
      "True <keras.layers.convolutional.Conv2D object at 0x7f440c2f1050>\n",
      "True <keras.layers.core.Activation object at 0x7f46003ef610>\n",
      "Model: \"model_11\"\n",
      "__________________________________________________________________________________________________\n",
      "Layer (type)                    Output Shape         Param #     Connected to                     \n",
      "==================================================================================================\n",
      "data (InputLayer)               [(None, 256, 256, 3) 0                                            \n",
      "__________________________________________________________________________________________________\n",
      "bn_data (BatchNormalization)    (None, 256, 256, 3)  9           data[0][0]                       \n",
      "__________________________________________________________________________________________________\n",
      "zero_padding2d_102 (ZeroPadding (None, 262, 262, 3)  0           bn_data[0][0]                    \n",
      "__________________________________________________________________________________________________\n",
      "conv0 (Conv2D)                  (None, 128, 128, 64) 9408        zero_padding2d_102[0][0]         \n",
      "__________________________________________________________________________________________________\n",
      "bn0 (BatchNormalization)        (None, 128, 128, 64) 256         conv0[0][0]                      \n",
      "__________________________________________________________________________________________________\n",
      "relu0 (Activation)              (None, 128, 128, 64) 0           bn0[0][0]                        \n",
      "__________________________________________________________________________________________________\n",
      "zero_padding2d_103 (ZeroPadding (None, 130, 130, 64) 0           relu0[0][0]                      \n",
      "__________________________________________________________________________________________________\n",
      "pooling0 (MaxPooling2D)         (None, 64, 64, 64)   0           zero_padding2d_103[0][0]         \n",
      "__________________________________________________________________________________________________\n",
      "stage1_unit1_bn1 (BatchNormaliz (None, 64, 64, 64)   256         pooling0[0][0]                   \n",
      "__________________________________________________________________________________________________\n",
      "stage1_unit1_relu1 (Activation) (None, 64, 64, 64)   0           stage1_unit1_bn1[0][0]           \n",
      "__________________________________________________________________________________________________\n",
      "zero_padding2d_104 (ZeroPadding (None, 66, 66, 64)   0           stage1_unit1_relu1[0][0]         \n",
      "__________________________________________________________________________________________________\n",
      "stage1_unit1_conv1 (Conv2D)     (None, 64, 64, 64)   36864       zero_padding2d_104[0][0]         \n",
      "__________________________________________________________________________________________________\n",
      "stage1_unit1_bn2 (BatchNormaliz (None, 64, 64, 64)   256         stage1_unit1_conv1[0][0]         \n",
      "__________________________________________________________________________________________________\n",
      "stage1_unit1_relu2 (Activation) (None, 64, 64, 64)   0           stage1_unit1_bn2[0][0]           \n",
      "__________________________________________________________________________________________________\n",
      "zero_padding2d_105 (ZeroPadding (None, 66, 66, 64)   0           stage1_unit1_relu2[0][0]         \n",
      "__________________________________________________________________________________________________\n",
      "stage1_unit1_conv2 (Conv2D)     (None, 64, 64, 64)   36864       zero_padding2d_105[0][0]         \n",
      "__________________________________________________________________________________________________\n",
      "stage1_unit1_sc (Conv2D)        (None, 64, 64, 64)   4096        stage1_unit1_relu1[0][0]         \n",
      "__________________________________________________________________________________________________\n",
      "add_48 (Add)                    (None, 64, 64, 64)   0           stage1_unit1_conv2[0][0]         \n",
      "                                                                 stage1_unit1_sc[0][0]            \n",
      "__________________________________________________________________________________________________\n",
      "stage1_unit2_bn1 (BatchNormaliz (None, 64, 64, 64)   256         add_48[0][0]                     \n",
      "__________________________________________________________________________________________________\n",
      "stage1_unit2_relu1 (Activation) (None, 64, 64, 64)   0           stage1_unit2_bn1[0][0]           \n",
      "__________________________________________________________________________________________________\n",
      "zero_padding2d_106 (ZeroPadding (None, 66, 66, 64)   0           stage1_unit2_relu1[0][0]         \n",
      "__________________________________________________________________________________________________\n",
      "stage1_unit2_conv1 (Conv2D)     (None, 64, 64, 64)   36864       zero_padding2d_106[0][0]         \n",
      "__________________________________________________________________________________________________\n",
      "stage1_unit2_bn2 (BatchNormaliz (None, 64, 64, 64)   256         stage1_unit2_conv1[0][0]         \n",
      "__________________________________________________________________________________________________\n",
      "stage1_unit2_relu2 (Activation) (None, 64, 64, 64)   0           stage1_unit2_bn2[0][0]           \n",
      "__________________________________________________________________________________________________\n",
      "zero_padding2d_107 (ZeroPadding (None, 66, 66, 64)   0           stage1_unit2_relu2[0][0]         \n",
      "__________________________________________________________________________________________________\n",
      "stage1_unit2_conv2 (Conv2D)     (None, 64, 64, 64)   36864       zero_padding2d_107[0][0]         \n",
      "__________________________________________________________________________________________________\n",
      "add_49 (Add)                    (None, 64, 64, 64)   0           stage1_unit2_conv2[0][0]         \n",
      "                                                                 add_48[0][0]                     \n",
      "__________________________________________________________________________________________________\n",
      "stage1_unit3_bn1 (BatchNormaliz (None, 64, 64, 64)   256         add_49[0][0]                     \n",
      "__________________________________________________________________________________________________\n",
      "stage1_unit3_relu1 (Activation) (None, 64, 64, 64)   0           stage1_unit3_bn1[0][0]           \n",
      "__________________________________________________________________________________________________\n",
      "zero_padding2d_108 (ZeroPadding (None, 66, 66, 64)   0           stage1_unit3_relu1[0][0]         \n",
      "__________________________________________________________________________________________________\n",
      "stage1_unit3_conv1 (Conv2D)     (None, 64, 64, 64)   36864       zero_padding2d_108[0][0]         \n",
      "__________________________________________________________________________________________________\n",
      "stage1_unit3_bn2 (BatchNormaliz (None, 64, 64, 64)   256         stage1_unit3_conv1[0][0]         \n",
      "__________________________________________________________________________________________________\n",
      "stage1_unit3_relu2 (Activation) (None, 64, 64, 64)   0           stage1_unit3_bn2[0][0]           \n",
      "__________________________________________________________________________________________________\n",
      "zero_padding2d_109 (ZeroPadding (None, 66, 66, 64)   0           stage1_unit3_relu2[0][0]         \n",
      "__________________________________________________________________________________________________\n",
      "stage1_unit3_conv2 (Conv2D)     (None, 64, 64, 64)   36864       zero_padding2d_109[0][0]         \n",
      "__________________________________________________________________________________________________\n",
      "add_50 (Add)                    (None, 64, 64, 64)   0           stage1_unit3_conv2[0][0]         \n",
      "                                                                 add_49[0][0]                     \n",
      "__________________________________________________________________________________________________\n",
      "stage2_unit1_bn1 (BatchNormaliz (None, 64, 64, 64)   256         add_50[0][0]                     \n",
      "__________________________________________________________________________________________________\n",
      "stage2_unit1_relu1 (Activation) (None, 64, 64, 64)   0           stage2_unit1_bn1[0][0]           \n",
      "__________________________________________________________________________________________________\n",
      "zero_padding2d_110 (ZeroPadding (None, 66, 66, 64)   0           stage2_unit1_relu1[0][0]         \n",
      "__________________________________________________________________________________________________\n",
      "stage2_unit1_conv1 (Conv2D)     (None, 32, 32, 128)  73728       zero_padding2d_110[0][0]         \n",
      "__________________________________________________________________________________________________\n",
      "stage2_unit1_bn2 (BatchNormaliz (None, 32, 32, 128)  512         stage2_unit1_conv1[0][0]         \n",
      "__________________________________________________________________________________________________\n",
      "stage2_unit1_relu2 (Activation) (None, 32, 32, 128)  0           stage2_unit1_bn2[0][0]           \n",
      "__________________________________________________________________________________________________\n",
      "zero_padding2d_111 (ZeroPadding (None, 34, 34, 128)  0           stage2_unit1_relu2[0][0]         \n",
      "__________________________________________________________________________________________________\n",
      "stage2_unit1_conv2 (Conv2D)     (None, 32, 32, 128)  147456      zero_padding2d_111[0][0]         \n",
      "__________________________________________________________________________________________________\n",
      "stage2_unit1_sc (Conv2D)        (None, 32, 32, 128)  8192        stage2_unit1_relu1[0][0]         \n",
      "__________________________________________________________________________________________________\n",
      "add_51 (Add)                    (None, 32, 32, 128)  0           stage2_unit1_conv2[0][0]         \n",
      "                                                                 stage2_unit1_sc[0][0]            \n",
      "__________________________________________________________________________________________________\n",
      "stage2_unit2_bn1 (BatchNormaliz (None, 32, 32, 128)  512         add_51[0][0]                     \n",
      "__________________________________________________________________________________________________\n",
      "stage2_unit2_relu1 (Activation) (None, 32, 32, 128)  0           stage2_unit2_bn1[0][0]           \n",
      "__________________________________________________________________________________________________\n",
      "zero_padding2d_112 (ZeroPadding (None, 34, 34, 128)  0           stage2_unit2_relu1[0][0]         \n",
      "__________________________________________________________________________________________________\n",
      "stage2_unit2_conv1 (Conv2D)     (None, 32, 32, 128)  147456      zero_padding2d_112[0][0]         \n",
      "__________________________________________________________________________________________________\n",
      "stage2_unit2_bn2 (BatchNormaliz (None, 32, 32, 128)  512         stage2_unit2_conv1[0][0]         \n",
      "__________________________________________________________________________________________________\n",
      "stage2_unit2_relu2 (Activation) (None, 32, 32, 128)  0           stage2_unit2_bn2[0][0]           \n",
      "__________________________________________________________________________________________________\n",
      "zero_padding2d_113 (ZeroPadding (None, 34, 34, 128)  0           stage2_unit2_relu2[0][0]         \n",
      "__________________________________________________________________________________________________\n",
      "stage2_unit2_conv2 (Conv2D)     (None, 32, 32, 128)  147456      zero_padding2d_113[0][0]         \n",
      "__________________________________________________________________________________________________\n",
      "add_52 (Add)                    (None, 32, 32, 128)  0           stage2_unit2_conv2[0][0]         \n",
      "                                                                 add_51[0][0]                     \n",
      "__________________________________________________________________________________________________\n",
      "stage2_unit3_bn1 (BatchNormaliz (None, 32, 32, 128)  512         add_52[0][0]                     \n",
      "__________________________________________________________________________________________________\n",
      "stage2_unit3_relu1 (Activation) (None, 32, 32, 128)  0           stage2_unit3_bn1[0][0]           \n",
      "__________________________________________________________________________________________________\n",
      "zero_padding2d_114 (ZeroPadding (None, 34, 34, 128)  0           stage2_unit3_relu1[0][0]         \n",
      "__________________________________________________________________________________________________\n",
      "stage2_unit3_conv1 (Conv2D)     (None, 32, 32, 128)  147456      zero_padding2d_114[0][0]         \n",
      "__________________________________________________________________________________________________\n",
      "stage2_unit3_bn2 (BatchNormaliz (None, 32, 32, 128)  512         stage2_unit3_conv1[0][0]         \n",
      "__________________________________________________________________________________________________\n",
      "stage2_unit3_relu2 (Activation) (None, 32, 32, 128)  0           stage2_unit3_bn2[0][0]           \n",
      "__________________________________________________________________________________________________\n",
      "zero_padding2d_115 (ZeroPadding (None, 34, 34, 128)  0           stage2_unit3_relu2[0][0]         \n",
      "__________________________________________________________________________________________________\n",
      "stage2_unit3_conv2 (Conv2D)     (None, 32, 32, 128)  147456      zero_padding2d_115[0][0]         \n",
      "__________________________________________________________________________________________________\n",
      "add_53 (Add)                    (None, 32, 32, 128)  0           stage2_unit3_conv2[0][0]         \n",
      "                                                                 add_52[0][0]                     \n",
      "__________________________________________________________________________________________________\n",
      "stage2_unit4_bn1 (BatchNormaliz (None, 32, 32, 128)  512         add_53[0][0]                     \n",
      "__________________________________________________________________________________________________\n",
      "stage2_unit4_relu1 (Activation) (None, 32, 32, 128)  0           stage2_unit4_bn1[0][0]           \n",
      "__________________________________________________________________________________________________\n",
      "zero_padding2d_116 (ZeroPadding (None, 34, 34, 128)  0           stage2_unit4_relu1[0][0]         \n",
      "__________________________________________________________________________________________________\n",
      "stage2_unit4_conv1 (Conv2D)     (None, 32, 32, 128)  147456      zero_padding2d_116[0][0]         \n",
      "__________________________________________________________________________________________________\n",
      "stage2_unit4_bn2 (BatchNormaliz (None, 32, 32, 128)  512         stage2_unit4_conv1[0][0]         \n",
      "__________________________________________________________________________________________________\n",
      "stage2_unit4_relu2 (Activation) (None, 32, 32, 128)  0           stage2_unit4_bn2[0][0]           \n",
      "__________________________________________________________________________________________________\n",
      "zero_padding2d_117 (ZeroPadding (None, 34, 34, 128)  0           stage2_unit4_relu2[0][0]         \n",
      "__________________________________________________________________________________________________\n",
      "stage2_unit4_conv2 (Conv2D)     (None, 32, 32, 128)  147456      zero_padding2d_117[0][0]         \n",
      "__________________________________________________________________________________________________\n",
      "add_54 (Add)                    (None, 32, 32, 128)  0           stage2_unit4_conv2[0][0]         \n",
      "                                                                 add_53[0][0]                     \n",
      "__________________________________________________________________________________________________\n",
      "stage3_unit1_bn1 (BatchNormaliz (None, 32, 32, 128)  512         add_54[0][0]                     \n",
      "__________________________________________________________________________________________________\n",
      "stage3_unit1_relu1 (Activation) (None, 32, 32, 128)  0           stage3_unit1_bn1[0][0]           \n",
      "__________________________________________________________________________________________________\n",
      "zero_padding2d_118 (ZeroPadding (None, 34, 34, 128)  0           stage3_unit1_relu1[0][0]         \n",
      "__________________________________________________________________________________________________\n",
      "stage3_unit1_conv1 (Conv2D)     (None, 16, 16, 256)  294912      zero_padding2d_118[0][0]         \n",
      "__________________________________________________________________________________________________\n",
      "stage3_unit1_bn2 (BatchNormaliz (None, 16, 16, 256)  1024        stage3_unit1_conv1[0][0]         \n",
      "__________________________________________________________________________________________________\n",
      "stage3_unit1_relu2 (Activation) (None, 16, 16, 256)  0           stage3_unit1_bn2[0][0]           \n",
      "__________________________________________________________________________________________________\n",
      "zero_padding2d_119 (ZeroPadding (None, 18, 18, 256)  0           stage3_unit1_relu2[0][0]         \n",
      "__________________________________________________________________________________________________\n",
      "stage3_unit1_conv2 (Conv2D)     (None, 16, 16, 256)  589824      zero_padding2d_119[0][0]         \n",
      "__________________________________________________________________________________________________\n",
      "stage3_unit1_sc (Conv2D)        (None, 16, 16, 256)  32768       stage3_unit1_relu1[0][0]         \n",
      "__________________________________________________________________________________________________\n",
      "add_55 (Add)                    (None, 16, 16, 256)  0           stage3_unit1_conv2[0][0]         \n",
      "                                                                 stage3_unit1_sc[0][0]            \n",
      "__________________________________________________________________________________________________\n",
      "stage3_unit2_bn1 (BatchNormaliz (None, 16, 16, 256)  1024        add_55[0][0]                     \n",
      "__________________________________________________________________________________________________\n",
      "stage3_unit2_relu1 (Activation) (None, 16, 16, 256)  0           stage3_unit2_bn1[0][0]           \n",
      "__________________________________________________________________________________________________\n",
      "zero_padding2d_120 (ZeroPadding (None, 18, 18, 256)  0           stage3_unit2_relu1[0][0]         \n",
      "__________________________________________________________________________________________________\n",
      "stage3_unit2_conv1 (Conv2D)     (None, 16, 16, 256)  589824      zero_padding2d_120[0][0]         \n",
      "__________________________________________________________________________________________________\n",
      "stage3_unit2_bn2 (BatchNormaliz (None, 16, 16, 256)  1024        stage3_unit2_conv1[0][0]         \n",
      "__________________________________________________________________________________________________\n",
      "stage3_unit2_relu2 (Activation) (None, 16, 16, 256)  0           stage3_unit2_bn2[0][0]           \n",
      "__________________________________________________________________________________________________\n",
      "zero_padding2d_121 (ZeroPadding (None, 18, 18, 256)  0           stage3_unit2_relu2[0][0]         \n",
      "__________________________________________________________________________________________________\n",
      "stage3_unit2_conv2 (Conv2D)     (None, 16, 16, 256)  589824      zero_padding2d_121[0][0]         \n",
      "__________________________________________________________________________________________________\n",
      "add_56 (Add)                    (None, 16, 16, 256)  0           stage3_unit2_conv2[0][0]         \n",
      "                                                                 add_55[0][0]                     \n",
      "__________________________________________________________________________________________________\n",
      "stage3_unit3_bn1 (BatchNormaliz (None, 16, 16, 256)  1024        add_56[0][0]                     \n",
      "__________________________________________________________________________________________________\n",
      "stage3_unit3_relu1 (Activation) (None, 16, 16, 256)  0           stage3_unit3_bn1[0][0]           \n",
      "__________________________________________________________________________________________________\n",
      "zero_padding2d_122 (ZeroPadding (None, 18, 18, 256)  0           stage3_unit3_relu1[0][0]         \n",
      "__________________________________________________________________________________________________\n",
      "stage3_unit3_conv1 (Conv2D)     (None, 16, 16, 256)  589824      zero_padding2d_122[0][0]         \n",
      "__________________________________________________________________________________________________\n",
      "stage3_unit3_bn2 (BatchNormaliz (None, 16, 16, 256)  1024        stage3_unit3_conv1[0][0]         \n",
      "__________________________________________________________________________________________________\n",
      "stage3_unit3_relu2 (Activation) (None, 16, 16, 256)  0           stage3_unit3_bn2[0][0]           \n",
      "__________________________________________________________________________________________________\n",
      "zero_padding2d_123 (ZeroPadding (None, 18, 18, 256)  0           stage3_unit3_relu2[0][0]         \n",
      "__________________________________________________________________________________________________\n",
      "stage3_unit3_conv2 (Conv2D)     (None, 16, 16, 256)  589824      zero_padding2d_123[0][0]         \n",
      "__________________________________________________________________________________________________\n",
      "add_57 (Add)                    (None, 16, 16, 256)  0           stage3_unit3_conv2[0][0]         \n",
      "                                                                 add_56[0][0]                     \n",
      "__________________________________________________________________________________________________\n",
      "stage3_unit4_bn1 (BatchNormaliz (None, 16, 16, 256)  1024        add_57[0][0]                     \n",
      "__________________________________________________________________________________________________\n",
      "stage3_unit4_relu1 (Activation) (None, 16, 16, 256)  0           stage3_unit4_bn1[0][0]           \n",
      "__________________________________________________________________________________________________\n",
      "zero_padding2d_124 (ZeroPadding (None, 18, 18, 256)  0           stage3_unit4_relu1[0][0]         \n",
      "__________________________________________________________________________________________________\n",
      "stage3_unit4_conv1 (Conv2D)     (None, 16, 16, 256)  589824      zero_padding2d_124[0][0]         \n",
      "__________________________________________________________________________________________________\n",
      "stage3_unit4_bn2 (BatchNormaliz (None, 16, 16, 256)  1024        stage3_unit4_conv1[0][0]         \n",
      "__________________________________________________________________________________________________\n",
      "stage3_unit4_relu2 (Activation) (None, 16, 16, 256)  0           stage3_unit4_bn2[0][0]           \n",
      "__________________________________________________________________________________________________\n",
      "zero_padding2d_125 (ZeroPadding (None, 18, 18, 256)  0           stage3_unit4_relu2[0][0]         \n",
      "__________________________________________________________________________________________________\n",
      "stage3_unit4_conv2 (Conv2D)     (None, 16, 16, 256)  589824      zero_padding2d_125[0][0]         \n",
      "__________________________________________________________________________________________________\n",
      "add_58 (Add)                    (None, 16, 16, 256)  0           stage3_unit4_conv2[0][0]         \n",
      "                                                                 add_57[0][0]                     \n",
      "__________________________________________________________________________________________________\n",
      "stage3_unit5_bn1 (BatchNormaliz (None, 16, 16, 256)  1024        add_58[0][0]                     \n",
      "__________________________________________________________________________________________________\n",
      "stage3_unit5_relu1 (Activation) (None, 16, 16, 256)  0           stage3_unit5_bn1[0][0]           \n",
      "__________________________________________________________________________________________________\n",
      "zero_padding2d_126 (ZeroPadding (None, 18, 18, 256)  0           stage3_unit5_relu1[0][0]         \n",
      "__________________________________________________________________________________________________\n",
      "stage3_unit5_conv1 (Conv2D)     (None, 16, 16, 256)  589824      zero_padding2d_126[0][0]         \n",
      "__________________________________________________________________________________________________\n",
      "stage3_unit5_bn2 (BatchNormaliz (None, 16, 16, 256)  1024        stage3_unit5_conv1[0][0]         \n",
      "__________________________________________________________________________________________________\n",
      "stage3_unit5_relu2 (Activation) (None, 16, 16, 256)  0           stage3_unit5_bn2[0][0]           \n",
      "__________________________________________________________________________________________________\n",
      "zero_padding2d_127 (ZeroPadding (None, 18, 18, 256)  0           stage3_unit5_relu2[0][0]         \n",
      "__________________________________________________________________________________________________\n",
      "stage3_unit5_conv2 (Conv2D)     (None, 16, 16, 256)  589824      zero_padding2d_127[0][0]         \n",
      "__________________________________________________________________________________________________\n",
      "add_59 (Add)                    (None, 16, 16, 256)  0           stage3_unit5_conv2[0][0]         \n",
      "                                                                 add_58[0][0]                     \n",
      "__________________________________________________________________________________________________\n",
      "stage3_unit6_bn1 (BatchNormaliz (None, 16, 16, 256)  1024        add_59[0][0]                     \n",
      "__________________________________________________________________________________________________\n",
      "stage3_unit6_relu1 (Activation) (None, 16, 16, 256)  0           stage3_unit6_bn1[0][0]           \n",
      "__________________________________________________________________________________________________\n",
      "zero_padding2d_128 (ZeroPadding (None, 18, 18, 256)  0           stage3_unit6_relu1[0][0]         \n",
      "__________________________________________________________________________________________________\n",
      "stage3_unit6_conv1 (Conv2D)     (None, 16, 16, 256)  589824      zero_padding2d_128[0][0]         \n",
      "__________________________________________________________________________________________________\n",
      "stage3_unit6_bn2 (BatchNormaliz (None, 16, 16, 256)  1024        stage3_unit6_conv1[0][0]         \n",
      "__________________________________________________________________________________________________\n",
      "stage3_unit6_relu2 (Activation) (None, 16, 16, 256)  0           stage3_unit6_bn2[0][0]           \n",
      "__________________________________________________________________________________________________\n",
      "zero_padding2d_129 (ZeroPadding (None, 18, 18, 256)  0           stage3_unit6_relu2[0][0]         \n",
      "__________________________________________________________________________________________________\n",
      "stage3_unit6_conv2 (Conv2D)     (None, 16, 16, 256)  589824      zero_padding2d_129[0][0]         \n",
      "__________________________________________________________________________________________________\n",
      "add_60 (Add)                    (None, 16, 16, 256)  0           stage3_unit6_conv2[0][0]         \n",
      "                                                                 add_59[0][0]                     \n",
      "__________________________________________________________________________________________________\n",
      "stage4_unit1_bn1 (BatchNormaliz (None, 16, 16, 256)  1024        add_60[0][0]                     \n",
      "__________________________________________________________________________________________________\n",
      "stage4_unit1_relu1 (Activation) (None, 16, 16, 256)  0           stage4_unit1_bn1[0][0]           \n",
      "__________________________________________________________________________________________________\n",
      "zero_padding2d_130 (ZeroPadding (None, 18, 18, 256)  0           stage4_unit1_relu1[0][0]         \n",
      "__________________________________________________________________________________________________\n",
      "stage4_unit1_conv1 (Conv2D)     (None, 8, 8, 512)    1179648     zero_padding2d_130[0][0]         \n",
      "__________________________________________________________________________________________________\n",
      "stage4_unit1_bn2 (BatchNormaliz (None, 8, 8, 512)    2048        stage4_unit1_conv1[0][0]         \n",
      "__________________________________________________________________________________________________\n",
      "stage4_unit1_relu2 (Activation) (None, 8, 8, 512)    0           stage4_unit1_bn2[0][0]           \n",
      "__________________________________________________________________________________________________\n",
      "zero_padding2d_131 (ZeroPadding (None, 10, 10, 512)  0           stage4_unit1_relu2[0][0]         \n",
      "__________________________________________________________________________________________________\n",
      "stage4_unit1_conv2 (Conv2D)     (None, 8, 8, 512)    2359296     zero_padding2d_131[0][0]         \n",
      "__________________________________________________________________________________________________\n",
      "stage4_unit1_sc (Conv2D)        (None, 8, 8, 512)    131072      stage4_unit1_relu1[0][0]         \n",
      "__________________________________________________________________________________________________\n",
      "add_61 (Add)                    (None, 8, 8, 512)    0           stage4_unit1_conv2[0][0]         \n",
      "                                                                 stage4_unit1_sc[0][0]            \n",
      "__________________________________________________________________________________________________\n",
      "stage4_unit2_bn1 (BatchNormaliz (None, 8, 8, 512)    2048        add_61[0][0]                     \n",
      "__________________________________________________________________________________________________\n",
      "stage4_unit2_relu1 (Activation) (None, 8, 8, 512)    0           stage4_unit2_bn1[0][0]           \n",
      "__________________________________________________________________________________________________\n",
      "zero_padding2d_132 (ZeroPadding (None, 10, 10, 512)  0           stage4_unit2_relu1[0][0]         \n",
      "__________________________________________________________________________________________________\n",
      "stage4_unit2_conv1 (Conv2D)     (None, 8, 8, 512)    2359296     zero_padding2d_132[0][0]         \n",
      "__________________________________________________________________________________________________\n",
      "stage4_unit2_bn2 (BatchNormaliz (None, 8, 8, 512)    2048        stage4_unit2_conv1[0][0]         \n",
      "__________________________________________________________________________________________________\n",
      "stage4_unit2_relu2 (Activation) (None, 8, 8, 512)    0           stage4_unit2_bn2[0][0]           \n",
      "__________________________________________________________________________________________________\n",
      "zero_padding2d_133 (ZeroPadding (None, 10, 10, 512)  0           stage4_unit2_relu2[0][0]         \n",
      "__________________________________________________________________________________________________\n",
      "stage4_unit2_conv2 (Conv2D)     (None, 8, 8, 512)    2359296     zero_padding2d_133[0][0]         \n",
      "__________________________________________________________________________________________________\n",
      "add_62 (Add)                    (None, 8, 8, 512)    0           stage4_unit2_conv2[0][0]         \n",
      "                                                                 add_61[0][0]                     \n",
      "__________________________________________________________________________________________________\n",
      "stage4_unit3_bn1 (BatchNormaliz (None, 8, 8, 512)    2048        add_62[0][0]                     \n",
      "__________________________________________________________________________________________________\n",
      "stage4_unit3_relu1 (Activation) (None, 8, 8, 512)    0           stage4_unit3_bn1[0][0]           \n",
      "__________________________________________________________________________________________________\n",
      "zero_padding2d_134 (ZeroPadding (None, 10, 10, 512)  0           stage4_unit3_relu1[0][0]         \n",
      "__________________________________________________________________________________________________\n",
      "stage4_unit3_conv1 (Conv2D)     (None, 8, 8, 512)    2359296     zero_padding2d_134[0][0]         \n",
      "__________________________________________________________________________________________________\n",
      "stage4_unit3_bn2 (BatchNormaliz (None, 8, 8, 512)    2048        stage4_unit3_conv1[0][0]         \n",
      "__________________________________________________________________________________________________\n",
      "stage4_unit3_relu2 (Activation) (None, 8, 8, 512)    0           stage4_unit3_bn2[0][0]           \n",
      "__________________________________________________________________________________________________\n",
      "zero_padding2d_135 (ZeroPadding (None, 10, 10, 512)  0           stage4_unit3_relu2[0][0]         \n",
      "__________________________________________________________________________________________________\n",
      "stage4_unit3_conv2 (Conv2D)     (None, 8, 8, 512)    2359296     zero_padding2d_135[0][0]         \n",
      "__________________________________________________________________________________________________\n",
      "add_63 (Add)                    (None, 8, 8, 512)    0           stage4_unit3_conv2[0][0]         \n",
      "                                                                 add_62[0][0]                     \n",
      "__________________________________________________________________________________________________\n",
      "bn1 (BatchNormalization)        (None, 8, 8, 512)    2048        add_63[0][0]                     \n",
      "__________________________________________________________________________________________________\n",
      "relu1 (Activation)              (None, 8, 8, 512)    0           bn1[0][0]                        \n",
      "__________________________________________________________________________________________________\n",
      "decoder_stage0_upsampling (UpSa (None, 16, 16, 512)  0           relu1[0][0]                      \n",
      "__________________________________________________________________________________________________\n",
      "decoder_stage0_concat (Concaten (None, 16, 16, 768)  0           decoder_stage0_upsampling[0][0]  \n",
      "                                                                 stage4_unit1_relu1[0][0]         \n",
      "__________________________________________________________________________________________________\n",
      "decoder_stage0a_conv (Conv2D)   (None, 16, 16, 256)  1769472     decoder_stage0_concat[0][0]      \n",
      "__________________________________________________________________________________________________\n",
      "decoder_stage0a_bn (BatchNormal (None, 16, 16, 256)  1024        decoder_stage0a_conv[0][0]       \n",
      "__________________________________________________________________________________________________\n",
      "decoder_stage0a_relu (Activatio (None, 16, 16, 256)  0           decoder_stage0a_bn[0][0]         \n",
      "__________________________________________________________________________________________________\n",
      "decoder_stage0b_conv (Conv2D)   (None, 16, 16, 256)  589824      decoder_stage0a_relu[0][0]       \n",
      "__________________________________________________________________________________________________\n",
      "decoder_stage0b_bn (BatchNormal (None, 16, 16, 256)  1024        decoder_stage0b_conv[0][0]       \n",
      "__________________________________________________________________________________________________\n",
      "decoder_stage0b_relu (Activatio (None, 16, 16, 256)  0           decoder_stage0b_bn[0][0]         \n",
      "__________________________________________________________________________________________________\n",
      "decoder_stage1_upsampling (UpSa (None, 32, 32, 256)  0           decoder_stage0b_relu[0][0]       \n",
      "__________________________________________________________________________________________________\n",
      "decoder_stage1_concat (Concaten (None, 32, 32, 384)  0           decoder_stage1_upsampling[0][0]  \n",
      "                                                                 stage3_unit1_relu1[0][0]         \n",
      "__________________________________________________________________________________________________\n",
      "decoder_stage1a_conv (Conv2D)   (None, 32, 32, 128)  442368      decoder_stage1_concat[0][0]      \n",
      "__________________________________________________________________________________________________\n",
      "decoder_stage1a_bn (BatchNormal (None, 32, 32, 128)  512         decoder_stage1a_conv[0][0]       \n",
      "__________________________________________________________________________________________________\n",
      "decoder_stage1a_relu (Activatio (None, 32, 32, 128)  0           decoder_stage1a_bn[0][0]         \n",
      "__________________________________________________________________________________________________\n",
      "decoder_stage1b_conv (Conv2D)   (None, 32, 32, 128)  147456      decoder_stage1a_relu[0][0]       \n",
      "__________________________________________________________________________________________________\n",
      "decoder_stage1b_bn (BatchNormal (None, 32, 32, 128)  512         decoder_stage1b_conv[0][0]       \n",
      "__________________________________________________________________________________________________\n",
      "decoder_stage1b_relu (Activatio (None, 32, 32, 128)  0           decoder_stage1b_bn[0][0]         \n",
      "__________________________________________________________________________________________________\n",
      "decoder_stage2_upsampling (UpSa (None, 64, 64, 128)  0           decoder_stage1b_relu[0][0]       \n",
      "__________________________________________________________________________________________________\n",
      "decoder_stage2_concat (Concaten (None, 64, 64, 192)  0           decoder_stage2_upsampling[0][0]  \n",
      "                                                                 stage2_unit1_relu1[0][0]         \n",
      "__________________________________________________________________________________________________\n",
      "decoder_stage2a_conv (Conv2D)   (None, 64, 64, 64)   110592      decoder_stage2_concat[0][0]      \n",
      "__________________________________________________________________________________________________\n",
      "decoder_stage2a_bn (BatchNormal (None, 64, 64, 64)   256         decoder_stage2a_conv[0][0]       \n",
      "__________________________________________________________________________________________________\n",
      "decoder_stage2a_relu (Activatio (None, 64, 64, 64)   0           decoder_stage2a_bn[0][0]         \n",
      "__________________________________________________________________________________________________\n",
      "decoder_stage2b_conv (Conv2D)   (None, 64, 64, 64)   36864       decoder_stage2a_relu[0][0]       \n",
      "__________________________________________________________________________________________________\n",
      "decoder_stage2b_bn (BatchNormal (None, 64, 64, 64)   256         decoder_stage2b_conv[0][0]       \n",
      "__________________________________________________________________________________________________\n",
      "decoder_stage2b_relu (Activatio (None, 64, 64, 64)   0           decoder_stage2b_bn[0][0]         \n",
      "__________________________________________________________________________________________________\n",
      "decoder_stage3_upsampling (UpSa (None, 128, 128, 64) 0           decoder_stage2b_relu[0][0]       \n",
      "__________________________________________________________________________________________________\n",
      "decoder_stage3_concat (Concaten (None, 128, 128, 128 0           decoder_stage3_upsampling[0][0]  \n",
      "                                                                 relu0[0][0]                      \n",
      "__________________________________________________________________________________________________\n",
      "decoder_stage3a_conv (Conv2D)   (None, 128, 128, 32) 36864       decoder_stage3_concat[0][0]      \n",
      "__________________________________________________________________________________________________\n",
      "decoder_stage3a_bn (BatchNormal (None, 128, 128, 32) 128         decoder_stage3a_conv[0][0]       \n",
      "__________________________________________________________________________________________________\n",
      "decoder_stage3a_relu (Activatio (None, 128, 128, 32) 0           decoder_stage3a_bn[0][0]         \n",
      "__________________________________________________________________________________________________\n",
      "decoder_stage3b_conv (Conv2D)   (None, 128, 128, 32) 9216        decoder_stage3a_relu[0][0]       \n",
      "__________________________________________________________________________________________________\n",
      "decoder_stage3b_bn (BatchNormal (None, 128, 128, 32) 128         decoder_stage3b_conv[0][0]       \n",
      "__________________________________________________________________________________________________\n",
      "decoder_stage3b_relu (Activatio (None, 128, 128, 32) 0           decoder_stage3b_bn[0][0]         \n",
      "__________________________________________________________________________________________________\n",
      "decoder_stage4_upsampling (UpSa (None, 256, 256, 32) 0           decoder_stage3b_relu[0][0]       \n",
      "__________________________________________________________________________________________________\n",
      "decoder_stage4a_conv (Conv2D)   (None, 256, 256, 16) 4608        decoder_stage4_upsampling[0][0]  \n",
      "__________________________________________________________________________________________________\n",
      "decoder_stage4a_bn (BatchNormal (None, 256, 256, 16) 64          decoder_stage4a_conv[0][0]       \n",
      "__________________________________________________________________________________________________\n",
      "decoder_stage4a_relu (Activatio (None, 256, 256, 16) 0           decoder_stage4a_bn[0][0]         \n",
      "__________________________________________________________________________________________________\n",
      "decoder_stage4b_conv (Conv2D)   (None, 256, 256, 16) 2304        decoder_stage4a_relu[0][0]       \n",
      "__________________________________________________________________________________________________\n",
      "decoder_stage4b_bn (BatchNormal (None, 256, 256, 16) 64          decoder_stage4b_conv[0][0]       \n",
      "__________________________________________________________________________________________________\n",
      "decoder_stage4b_relu (Activatio (None, 256, 256, 16) 0           decoder_stage4b_bn[0][0]         \n",
      "__________________________________________________________________________________________________\n",
      "final_conv (Conv2D)             (None, 256, 256, 10) 1450        decoder_stage4b_relu[0][0]       \n",
      "__________________________________________________________________________________________________\n",
      "softmax (Activation)            (None, 256, 256, 10) 0           final_conv[0][0]                 \n",
      "==================================================================================================\n",
      "Total params: 24,457,459\n",
      "Trainable params: 3,177,773\n",
      "Non-trainable params: 21,279,686\n",
      "__________________________________________________________________________________________________\n"
     ]
    }
   ],
   "source": [
    "import segmentation_models as sm\n",
    "import tensorflow as tf\n",
    "from tensorflow.keras.callbacks import ModelCheckpoint, ReduceLROnPlateau\n",
    "\n",
    "BACKBONE = 'resnet34'\n",
    "preprocess_input = sm.get_preprocessing(BACKBONE)\n",
    "\n",
    "# preprocess input\n",
    "x_train = preprocess_input(X_train[:1200])\n",
    "x_val = preprocess_input(X_val[:1000])\n",
    "y_train = y_train[:1200]\n",
    "y_val = y_val[:1000]\n",
    "\n",
    "# define model\n",
    "# multiclass segmentation with non overlapping class masks (your classes + background)\n",
    "model = sm.Unet('resnet34', encoder_weights='imagenet', input_shape=(256, 256, 3), classes= 10, decoder_use_batchnorm=True, activation='softmax', encoder_freeze = True)\n",
    "\n",
    "from tensorflow.keras.models import Model\n",
    "model= Model(inputs=model.input, outputs=model.layers[-1].output)\n",
    "\n",
    "from tensorflow.keras import layers\n",
    "for layer in model.layers[:]:\n",
    "    print(layer.trainable, layer)\n",
    "\n",
    "model.layers[3].trainable = True\n",
    "\n",
    "callbacks = [\n",
    "        ModelCheckpoint(\"model.h5\", verbose=1, save_best_model=True),\n",
    "        ReduceLROnPlateau(monitor=\"val_loss\", patience=10, factor=0.1, verbose=1, min_lr=1e-5),\n",
    "        #EarlyStopping(monitor=\"val_loss\", patience=5, verbose=1)\n",
    "    ]\n",
    "batch_size=8\n",
    "train_steps = len(x_train)//batch_size\n",
    "valid_steps = len(x_val)//batch_size\n",
    "    \n",
    "model.compile(\n",
    "    \n",
    "    tf.keras.optimizers.Adam(learning_rate=0.001),\n",
    "    loss=sm.losses.categorical_focal_jaccard_loss,\n",
    "    metrics=[sm.metrics.iou_score, 'mse'],\n",
    "    \n",
    ")\n",
    "\n",
    "model.summary()\n"
   ]
  },
  {
   "cell_type": "code",
   "execution_count": null,
   "id": "R6za9OKBnIMe",
   "metadata": {
    "colab": {
     "base_uri": "https://localhost:8080/"
    },
    "executionInfo": {
     "elapsed": 57111,
     "status": "ok",
     "timestamp": 1631504950893,
     "user": {
      "displayName": "Rishabh Singhal",
      "photoUrl": "https://lh3.googleusercontent.com/a/default-user=s64",
      "userId": "09042655142465435311"
     },
     "user_tz": -330
    },
    "id": "R6za9OKBnIMe",
    "outputId": "b78304ac-eda4-44fa-c086-e2601ac16fbe"
   },
   "outputs": [
    {
     "data": {
      "text/plain": [
       "39487"
      ]
     },
     "execution_count": 22,
     "metadata": {},
     "output_type": "execute_result"
    }
   ],
   "source": [
    "gc.collect()"
   ]
  },
  {
   "cell_type": "code",
   "execution_count": null,
   "id": "ZFMScwcGtdS9",
   "metadata": {
    "colab": {
     "base_uri": "https://localhost:8080/"
    },
    "executionInfo": {
     "elapsed": 569136,
     "status": "ok",
     "timestamp": 1631500264952,
     "user": {
      "displayName": "Rishabh Singhal",
      "photoUrl": "https://lh3.googleusercontent.com/a/default-user=s64",
      "userId": "09042655142465435311"
     },
     "user_tz": -330
    },
    "id": "ZFMScwcGtdS9",
    "outputId": "2e9ea220-204b-41e2-ede4-6acc5705be03"
   },
   "outputs": [
    {
     "name": "stdout",
     "output_type": "stream",
     "text": [
      "Epoch 1/50\n",
      "100/100 [==============================] - 17s 129ms/step - loss: 0.9301 - iou_score: 0.0991 - mse: 0.0569 - val_loss: 1.2143 - val_iou_score: 0.0175 - val_mse: 0.1643\n",
      "\n",
      "Epoch 00001: saving model to model.h5\n"
     ]
    },
    {
     "name": "stderr",
     "output_type": "stream",
     "text": [
      "/usr/local/lib/python3.7/dist-packages/keras/utils/generic_utils.py:497: CustomMaskWarning: Custom mask layers require a config and must override get_config. When loading, the custom mask layer must be passed to the custom_objects argument.\n",
      "  category=CustomMaskWarning)\n"
     ]
    },
    {
     "name": "stdout",
     "output_type": "stream",
     "text": [
      "Epoch 2/50\n",
      "100/100 [==============================] - 11s 107ms/step - loss: 0.8873 - iou_score: 0.1403 - mse: 0.0501 - val_loss: 1.0581 - val_iou_score: 0.0253 - val_mse: 0.1159\n",
      "\n",
      "Epoch 00002: saving model to model.h5\n",
      "Epoch 3/50\n",
      "100/100 [==============================] - 11s 107ms/step - loss: 0.8738 - iou_score: 0.1542 - mse: 0.0492 - val_loss: 1.0338 - val_iou_score: 0.0287 - val_mse: 0.1013\n",
      "\n",
      "Epoch 00003: saving model to model.h5\n",
      "Epoch 4/50\n",
      "100/100 [==============================] - 11s 107ms/step - loss: 0.8649 - iou_score: 0.1638 - mse: 0.0498 - val_loss: 1.0182 - val_iou_score: 0.0321 - val_mse: 0.0989\n",
      "\n",
      "Epoch 00004: saving model to model.h5\n",
      "Epoch 5/50\n",
      "100/100 [==============================] - 11s 106ms/step - loss: 0.8563 - iou_score: 0.1735 - mse: 0.0500 - val_loss: 0.9987 - val_iou_score: 0.0420 - val_mse: 0.0837\n",
      "\n",
      "Epoch 00005: saving model to model.h5\n",
      "Epoch 6/50\n",
      "100/100 [==============================] - 11s 107ms/step - loss: 0.8470 - iou_score: 0.1829 - mse: 0.0497 - val_loss: 1.0657 - val_iou_score: 0.0226 - val_mse: 0.1254\n",
      "\n",
      "Epoch 00006: saving model to model.h5\n",
      "Epoch 7/50\n",
      "100/100 [==============================] - 11s 107ms/step - loss: 0.8380 - iou_score: 0.1925 - mse: 0.0495 - val_loss: 1.0679 - val_iou_score: 0.0201 - val_mse: 0.1313\n",
      "\n",
      "Epoch 00007: saving model to model.h5\n",
      "Epoch 8/50\n",
      "100/100 [==============================] - 11s 107ms/step - loss: 0.8343 - iou_score: 0.1967 - mse: 0.0501 - val_loss: 1.0510 - val_iou_score: 0.0296 - val_mse: 0.1247\n",
      "\n",
      "Epoch 00008: saving model to model.h5\n",
      "Epoch 9/50\n",
      "100/100 [==============================] - 11s 107ms/step - loss: 0.8327 - iou_score: 0.1994 - mse: 0.0512 - val_loss: 1.0299 - val_iou_score: 0.0470 - val_mse: 0.1244\n",
      "\n",
      "Epoch 00009: saving model to model.h5\n",
      "Epoch 10/50\n",
      "100/100 [==============================] - 11s 107ms/step - loss: 0.8232 - iou_score: 0.2091 - mse: 0.0513 - val_loss: 0.9767 - val_iou_score: 0.0787 - val_mse: 0.0996\n",
      "\n",
      "Epoch 00010: saving model to model.h5\n",
      "Epoch 11/50\n",
      "100/100 [==============================] - 11s 107ms/step - loss: 0.8113 - iou_score: 0.2205 - mse: 0.0505 - val_loss: 0.9175 - val_iou_score: 0.1265 - val_mse: 0.0722\n",
      "\n",
      "Epoch 00011: saving model to model.h5\n",
      "Epoch 12/50\n",
      "100/100 [==============================] - 11s 107ms/step - loss: 0.8104 - iou_score: 0.2227 - mse: 0.0507 - val_loss: 0.9424 - val_iou_score: 0.1172 - val_mse: 0.0953\n",
      "\n",
      "Epoch 00012: saving model to model.h5\n",
      "Epoch 13/50\n",
      "100/100 [==============================] - 11s 107ms/step - loss: 0.8073 - iou_score: 0.2259 - mse: 0.0503 - val_loss: 0.8607 - val_iou_score: 0.1769 - val_mse: 0.0587\n",
      "\n",
      "Epoch 00013: saving model to model.h5\n",
      "Epoch 14/50\n",
      "100/100 [==============================] - 11s 107ms/step - loss: 0.8002 - iou_score: 0.2330 - mse: 0.0502 - val_loss: 0.8507 - val_iou_score: 0.1889 - val_mse: 0.0579\n",
      "\n",
      "Epoch 00014: saving model to model.h5\n",
      "Epoch 15/50\n",
      "100/100 [==============================] - 11s 107ms/step - loss: 0.7892 - iou_score: 0.2431 - mse: 0.0483 - val_loss: 0.8302 - val_iou_score: 0.2066 - val_mse: 0.0522\n",
      "\n",
      "Epoch 00015: saving model to model.h5\n",
      "Epoch 16/50\n",
      "100/100 [==============================] - 11s 107ms/step - loss: 0.7959 - iou_score: 0.2388 - mse: 0.0505 - val_loss: 0.8290 - val_iou_score: 0.2092 - val_mse: 0.0523\n",
      "\n",
      "Epoch 00016: saving model to model.h5\n",
      "Epoch 17/50\n",
      "100/100 [==============================] - 11s 107ms/step - loss: 0.7756 - iou_score: 0.2564 - mse: 0.0475 - val_loss: 0.8306 - val_iou_score: 0.2070 - val_mse: 0.0512\n",
      "\n",
      "Epoch 00017: saving model to model.h5\n",
      "Epoch 18/50\n",
      "100/100 [==============================] - 11s 106ms/step - loss: 0.7784 - iou_score: 0.2553 - mse: 0.0482 - val_loss: 0.8301 - val_iou_score: 0.2083 - val_mse: 0.0523\n",
      "\n",
      "Epoch 00018: saving model to model.h5\n",
      "Epoch 19/50\n",
      "100/100 [==============================] - 11s 107ms/step - loss: 0.7748 - iou_score: 0.2577 - mse: 0.0475 - val_loss: 0.8314 - val_iou_score: 0.2067 - val_mse: 0.0532\n",
      "\n",
      "Epoch 00019: saving model to model.h5\n",
      "Epoch 20/50\n",
      "100/100 [==============================] - 11s 107ms/step - loss: 0.7597 - iou_score: 0.2722 - mse: 0.0465 - val_loss: 0.8353 - val_iou_score: 0.2064 - val_mse: 0.0535\n",
      "\n",
      "Epoch 00020: saving model to model.h5\n",
      "Epoch 21/50\n",
      "100/100 [==============================] - 11s 106ms/step - loss: 0.7568 - iou_score: 0.2768 - mse: 0.0470 - val_loss: 0.8427 - val_iou_score: 0.2022 - val_mse: 0.0537\n",
      "\n",
      "Epoch 00021: saving model to model.h5\n",
      "Epoch 22/50\n",
      "100/100 [==============================] - 11s 106ms/step - loss: 0.7636 - iou_score: 0.2691 - mse: 0.0461 - val_loss: 0.8298 - val_iou_score: 0.2094 - val_mse: 0.0515\n",
      "\n",
      "Epoch 00022: saving model to model.h5\n",
      "Epoch 23/50\n",
      "100/100 [==============================] - 11s 107ms/step - loss: 0.7532 - iou_score: 0.2795 - mse: 0.0460 - val_loss: 0.8455 - val_iou_score: 0.2007 - val_mse: 0.0598\n",
      "\n",
      "Epoch 00023: saving model to model.h5\n",
      "Epoch 24/50\n",
      "100/100 [==============================] - 11s 107ms/step - loss: 0.7493 - iou_score: 0.2827 - mse: 0.0447 - val_loss: 0.8436 - val_iou_score: 0.1966 - val_mse: 0.0545\n",
      "\n",
      "Epoch 00024: saving model to model.h5\n",
      "Epoch 25/50\n",
      "100/100 [==============================] - 11s 107ms/step - loss: 0.7386 - iou_score: 0.2924 - mse: 0.0442 - val_loss: 0.8434 - val_iou_score: 0.2020 - val_mse: 0.0579\n",
      "\n",
      "Epoch 00025: saving model to model.h5\n",
      "Epoch 26/50\n",
      "100/100 [==============================] - 11s 107ms/step - loss: 0.7361 - iou_score: 0.2959 - mse: 0.0441 - val_loss: 0.8302 - val_iou_score: 0.2108 - val_mse: 0.0526\n",
      "\n",
      "Epoch 00026: saving model to model.h5\n",
      "\n",
      "Epoch 00026: ReduceLROnPlateau reducing learning rate to 0.00010000000474974513.\n",
      "Epoch 27/50\n",
      "100/100 [==============================] - 11s 107ms/step - loss: 0.7210 - iou_score: 0.3081 - mse: 0.0416 - val_loss: 0.8220 - val_iou_score: 0.2175 - val_mse: 0.0526\n",
      "\n",
      "Epoch 00027: saving model to model.h5\n",
      "Epoch 28/50\n",
      "100/100 [==============================] - 11s 107ms/step - loss: 0.7125 - iou_score: 0.3167 - mse: 0.0411 - val_loss: 0.8209 - val_iou_score: 0.2185 - val_mse: 0.0526\n",
      "\n",
      "Epoch 00028: saving model to model.h5\n",
      "Epoch 29/50\n",
      "100/100 [==============================] - 11s 107ms/step - loss: 0.7095 - iou_score: 0.3193 - mse: 0.0405 - val_loss: 0.8217 - val_iou_score: 0.2183 - val_mse: 0.0530\n",
      "\n",
      "Epoch 00029: saving model to model.h5\n",
      "Epoch 30/50\n",
      "100/100 [==============================] - 11s 107ms/step - loss: 0.7049 - iou_score: 0.3238 - mse: 0.0401 - val_loss: 0.8228 - val_iou_score: 0.2181 - val_mse: 0.0534\n",
      "\n",
      "Epoch 00030: saving model to model.h5\n",
      "Epoch 31/50\n",
      "100/100 [==============================] - 11s 107ms/step - loss: 0.7045 - iou_score: 0.3244 - mse: 0.0401 - val_loss: 0.8262 - val_iou_score: 0.2148 - val_mse: 0.0537\n",
      "\n",
      "Epoch 00031: saving model to model.h5\n",
      "Epoch 32/50\n",
      "100/100 [==============================] - 11s 107ms/step - loss: 0.6984 - iou_score: 0.3301 - mse: 0.0398 - val_loss: 0.8273 - val_iou_score: 0.2144 - val_mse: 0.0537\n",
      "\n",
      "Epoch 00032: saving model to model.h5\n",
      "Epoch 33/50\n",
      "100/100 [==============================] - 11s 107ms/step - loss: 0.6944 - iou_score: 0.3343 - mse: 0.0398 - val_loss: 0.8278 - val_iou_score: 0.2144 - val_mse: 0.0543\n",
      "\n",
      "Epoch 00033: saving model to model.h5\n",
      "Epoch 34/50\n",
      "100/100 [==============================] - 11s 107ms/step - loss: 0.6916 - iou_score: 0.3367 - mse: 0.0389 - val_loss: 0.8283 - val_iou_score: 0.2139 - val_mse: 0.0546\n",
      "\n",
      "Epoch 00034: saving model to model.h5\n",
      "Epoch 35/50\n",
      "100/100 [==============================] - 11s 107ms/step - loss: 0.6954 - iou_score: 0.3333 - mse: 0.0395 - val_loss: 0.8283 - val_iou_score: 0.2136 - val_mse: 0.0542\n",
      "\n",
      "Epoch 00035: saving model to model.h5\n",
      "Epoch 36/50\n",
      "100/100 [==============================] - 11s 107ms/step - loss: 0.6928 - iou_score: 0.3363 - mse: 0.0394 - val_loss: 0.8277 - val_iou_score: 0.2150 - val_mse: 0.0545\n",
      "\n",
      "Epoch 00036: saving model to model.h5\n",
      "Epoch 37/50\n",
      "100/100 [==============================] - 11s 107ms/step - loss: 0.6959 - iou_score: 0.3329 - mse: 0.0392 - val_loss: 0.8267 - val_iou_score: 0.2153 - val_mse: 0.0539\n",
      "\n",
      "Epoch 00037: saving model to model.h5\n",
      "Epoch 38/50\n",
      "100/100 [==============================] - 11s 106ms/step - loss: 0.6918 - iou_score: 0.3367 - mse: 0.0388 - val_loss: 0.8278 - val_iou_score: 0.2146 - val_mse: 0.0540\n",
      "\n",
      "Epoch 00038: saving model to model.h5\n",
      "\n",
      "Epoch 00038: ReduceLROnPlateau reducing learning rate to 1.0000000474974514e-05.\n",
      "Epoch 39/50\n",
      "100/100 [==============================] - 11s 106ms/step - loss: 0.6884 - iou_score: 0.3400 - mse: 0.0387 - val_loss: 0.8284 - val_iou_score: 0.2143 - val_mse: 0.0542\n",
      "\n",
      "Epoch 00039: saving model to model.h5\n",
      "Epoch 40/50\n",
      "100/100 [==============================] - 11s 107ms/step - loss: 0.6867 - iou_score: 0.3424 - mse: 0.0391 - val_loss: 0.8285 - val_iou_score: 0.2144 - val_mse: 0.0543\n",
      "\n",
      "Epoch 00040: saving model to model.h5\n",
      "Epoch 41/50\n",
      "100/100 [==============================] - 11s 107ms/step - loss: 0.6836 - iou_score: 0.3445 - mse: 0.0384 - val_loss: 0.8282 - val_iou_score: 0.2146 - val_mse: 0.0542\n",
      "\n",
      "Epoch 00041: saving model to model.h5\n",
      "Epoch 42/50\n",
      "100/100 [==============================] - 11s 107ms/step - loss: 0.6807 - iou_score: 0.3470 - mse: 0.0381 - val_loss: 0.8284 - val_iou_score: 0.2144 - val_mse: 0.0542\n",
      "\n",
      "Epoch 00042: saving model to model.h5\n",
      "Epoch 43/50\n",
      "100/100 [==============================] - 11s 107ms/step - loss: 0.6774 - iou_score: 0.3506 - mse: 0.0380 - val_loss: 0.8285 - val_iou_score: 0.2144 - val_mse: 0.0542\n",
      "\n",
      "Epoch 00043: saving model to model.h5\n",
      "Epoch 44/50\n",
      "100/100 [==============================] - 11s 107ms/step - loss: 0.6816 - iou_score: 0.3464 - mse: 0.0382 - val_loss: 0.8282 - val_iou_score: 0.2147 - val_mse: 0.0542\n",
      "\n",
      "Epoch 00044: saving model to model.h5\n",
      "Epoch 45/50\n",
      "100/100 [==============================] - 11s 107ms/step - loss: 0.6734 - iou_score: 0.3549 - mse: 0.0382 - val_loss: 0.8283 - val_iou_score: 0.2147 - val_mse: 0.0543\n",
      "\n",
      "Epoch 00045: saving model to model.h5\n",
      "Epoch 46/50\n",
      "100/100 [==============================] - 11s 107ms/step - loss: 0.6857 - iou_score: 0.3429 - mse: 0.0388 - val_loss: 0.8287 - val_iou_score: 0.2144 - val_mse: 0.0542\n",
      "\n",
      "Epoch 00046: saving model to model.h5\n",
      "Epoch 47/50\n",
      "100/100 [==============================] - 11s 107ms/step - loss: 0.6815 - iou_score: 0.3469 - mse: 0.0384 - val_loss: 0.8287 - val_iou_score: 0.2145 - val_mse: 0.0543\n",
      "\n",
      "Epoch 00047: saving model to model.h5\n",
      "Epoch 48/50\n",
      "100/100 [==============================] - 11s 107ms/step - loss: 0.6863 - iou_score: 0.3422 - mse: 0.0388 - val_loss: 0.8286 - val_iou_score: 0.2145 - val_mse: 0.0543\n",
      "\n",
      "Epoch 00048: saving model to model.h5\n",
      "\n",
      "Epoch 00048: ReduceLROnPlateau reducing learning rate to 1.0000000656873453e-06.\n",
      "Epoch 49/50\n",
      "100/100 [==============================] - 11s 107ms/step - loss: 0.6736 - iou_score: 0.3545 - mse: 0.0380 - val_loss: 0.8291 - val_iou_score: 0.2140 - val_mse: 0.0544\n",
      "\n",
      "Epoch 00049: saving model to model.h5\n",
      "Epoch 50/50\n",
      "100/100 [==============================] - 11s 107ms/step - loss: 0.6782 - iou_score: 0.3501 - mse: 0.0383 - val_loss: 0.8288 - val_iou_score: 0.2142 - val_mse: 0.0544\n",
      "\n",
      "Epoch 00050: saving model to model.h5\n"
     ]
    },
    {
     "data": {
      "text/plain": [
       "<keras.callbacks.History at 0x7f18b82773d0>"
      ]
     },
     "execution_count": 48,
     "metadata": {},
     "output_type": "execute_result"
    }
   ],
   "source": [
    "\n",
    "# fit model\n",
    "# if you use data generator use model.fit_generator(...) instead of model.fit(...)\n",
    "# more about `fit_generator` here: https://keras.io/models/sequential/#fit_generator\n",
    "\n",
    "model.fit(\n",
    "   x=x_train,\n",
    "   y=y_train,\n",
    "   batch_size=batch_size,\n",
    "   epochs=50,\n",
    "   validation_data=(x_val, y_val),\n",
    "   callbacks=callbacks,\n",
    "   steps_per_epoch=train_steps,\n",
    "   validation_steps=valid_steps,\n",
    ")"
   ]
  },
  {
   "cell_type": "code",
   "execution_count": null,
   "id": "dUukXwfBUHi5",
   "metadata": {
    "id": "dUukXwfBUHi5"
   },
   "outputs": [],
   "source": [
    "y_tes = model.predict(X_val[:1000])\n",
    "y_tes.shape"
   ]
  },
  {
   "cell_type": "code",
   "execution_count": null,
   "id": "LNRVd5C7WvnJ",
   "metadata": {
    "colab": {
     "base_uri": "https://localhost:8080/"
    },
    "executionInfo": {
     "elapsed": 379,
     "status": "ok",
     "timestamp": 1631506335750,
     "user": {
      "displayName": "Rishabh Singhal",
      "photoUrl": "https://lh3.googleusercontent.com/a/default-user=s64",
      "userId": "09042655142465435311"
     },
     "user_tz": -330
    },
    "id": "LNRVd5C7WvnJ",
    "outputId": "3931f99c-08ff-4fb3-9fbd-2cf1b0192aa4"
   },
   "outputs": [
    {
     "name": "stdout",
     "output_type": "stream",
     "text": [
      "model.h5\n",
      "\u001b[0m\u001b[01;34mref_south_africa_crops_competition_v1_test_labels\u001b[0m/\n",
      "\u001b[01;34mref_south_africa_crops_competition_v1_test_source_s2_B03\u001b[0m/\n",
      "\u001b[01;34mref_south_africa_crops_competition_v1_test_source_s2_B04\u001b[0m/\n",
      "\u001b[01;34mref_south_africa_crops_competition_v1_test_source_s2_B08\u001b[0m/\n",
      "\u001b[01;34mref_south_africa_crops_competition_v1_test_source_s2_CLM\u001b[0m/\n",
      "\u001b[01;34mref_south_africa_crops_competition_v1_train_labels\u001b[0m/\n",
      "\u001b[01;34mref_south_africa_crops_competition_v1_train_source_s2_B03\u001b[0m/\n",
      "\u001b[01;34mref_south_africa_crops_competition_v1_train_source_s2_B04\u001b[0m/\n",
      "\u001b[01;34mref_south_africa_crops_competition_v1_train_source_s2_B08\u001b[0m/\n",
      "\u001b[01;34mref_south_africa_crops_competition_v1_train_source_s2_CLM\u001b[0m/\n",
      "\u001b[01;34msample_data\u001b[0m/\n"
     ]
    }
   ],
   "source": [
    "ls"
   ]
  },
  {
   "cell_type": "code",
   "execution_count": null,
   "id": "M0pS-BnVmHZz",
   "metadata": {
    "colab": {
     "base_uri": "https://localhost:8080/",
     "height": 35
    },
    "executionInfo": {
     "elapsed": 370,
     "status": "ok",
     "timestamp": 1631506342788,
     "user": {
      "displayName": "Rishabh Singhal",
      "photoUrl": "https://lh3.googleusercontent.com/a/default-user=s64",
      "userId": "09042655142465435311"
     },
     "user_tz": -330
    },
    "id": "M0pS-BnVmHZz",
    "outputId": "7ee1540d-92db-474a-e2e0-a5fc8d918a85"
   },
   "outputs": [
    {
     "data": {
      "application/javascript": [
       "\n",
       "    async function download(id, filename, size) {\n",
       "      if (!google.colab.kernel.accessAllowed) {\n",
       "        return;\n",
       "      }\n",
       "      const div = document.createElement('div');\n",
       "      const label = document.createElement('label');\n",
       "      label.textContent = `Downloading \"${filename}\": `;\n",
       "      div.appendChild(label);\n",
       "      const progress = document.createElement('progress');\n",
       "      progress.max = size;\n",
       "      div.appendChild(progress);\n",
       "      document.body.appendChild(div);\n",
       "\n",
       "      const buffers = [];\n",
       "      let downloaded = 0;\n",
       "\n",
       "      const channel = await google.colab.kernel.comms.open(id);\n",
       "      // Send a message to notify the kernel that we're ready.\n",
       "      channel.send({})\n",
       "\n",
       "      for await (const message of channel.messages) {\n",
       "        // Send a message to notify the kernel that we're ready.\n",
       "        channel.send({})\n",
       "        if (message.buffers) {\n",
       "          for (const buffer of message.buffers) {\n",
       "            buffers.push(buffer);\n",
       "            downloaded += buffer.byteLength;\n",
       "            progress.value = downloaded;\n",
       "          }\n",
       "        }\n",
       "      }\n",
       "      const blob = new Blob(buffers, {type: 'application/binary'});\n",
       "      const a = document.createElement('a');\n",
       "      a.href = window.URL.createObjectURL(blob);\n",
       "      a.download = filename;\n",
       "      div.appendChild(a);\n",
       "      a.click();\n",
       "      div.remove();\n",
       "    }\n",
       "  "
      ],
      "text/plain": [
       "<IPython.core.display.Javascript object>"
      ]
     },
     "metadata": {},
     "output_type": "display_data"
    },
    {
     "data": {
      "application/javascript": [
       "download(\"download_b0fb657c-1977-4e24-86f4-ea6eadeacc2e\", \"model.h5\", 123995136)"
      ],
      "text/plain": [
       "<IPython.core.display.Javascript object>"
      ]
     },
     "metadata": {},
     "output_type": "display_data"
    }
   ],
   "source": [
    "from google.colab import files\n",
    "files.download(\"model.h5\")"
   ]
  },
  {
   "cell_type": "markdown",
   "id": "548b703c-575d-4ecc-99bd-64d6e6ceeba9",
   "metadata": {
    "id": "548b703c-575d-4ecc-99bd-64d6e6ceeba9"
   },
   "source": [
    "## Test Data\n",
    "\n",
    "In this part we will load the test data (which does not have labels) and predict the crop class for each field"
   ]
  },
  {
   "cell_type": "code",
   "execution_count": 8,
   "id": "5f67db15-3866-4641-92cf-c44af29b1396",
   "metadata": {
    "executionInfo": {
     "elapsed": 19,
     "status": "ok",
     "timestamp": 1631562965379,
     "user": {
      "displayName": "Rishabh Singhal",
      "photoUrl": "https://lh3.googleusercontent.com/a/default-user=s64",
      "userId": "09042655142465435311"
     },
     "user_tz": -330
    },
    "id": "5f67db15-3866-4641-92cf-c44af29b1396"
   },
   "outputs": [],
   "source": [
    "tile_ids_test = competition_test_df['tile_id'].unique()"
   ]
  },
  {
   "cell_type": "code",
   "execution_count": 9,
   "id": "95_aUnZFvSZR",
   "metadata": {
    "colab": {
     "base_uri": "https://localhost:8080/"
    },
    "executionInfo": {
     "elapsed": 18,
     "status": "ok",
     "timestamp": 1631562965379,
     "user": {
      "displayName": "Rishabh Singhal",
      "photoUrl": "https://lh3.googleusercontent.com/a/default-user=s64",
      "userId": "09042655142465435311"
     },
     "user_tz": -330
    },
    "id": "95_aUnZFvSZR",
    "outputId": "537d493c-bc45-4913-dcf7-23afc3ddfa97"
   },
   "outputs": [
    {
     "data": {
      "text/plain": [
       "1137"
      ]
     },
     "execution_count": 9,
     "metadata": {},
     "output_type": "execute_result"
    }
   ],
   "source": [
    "len(tile_ids_test)"
   ]
  },
  {
   "cell_type": "code",
   "execution_count": 11,
   "id": "GqbaA-gPqp-4",
   "metadata": {
    "executionInfo": {
     "elapsed": 666,
     "status": "ok",
     "timestamp": 1631563027873,
     "user": {
      "displayName": "Rishabh Singhal",
      "photoUrl": "https://lh3.googleusercontent.com/a/default-user=s64",
      "userId": "09042655142465435311"
     },
     "user_tz": -330
    },
    "id": "GqbaA-gPqp-4"
   },
   "outputs": [],
   "source": [
    "n_obs = 3"
   ]
  },
  {
   "cell_type": "code",
   "execution_count": 12,
   "id": "565e5451-982a-4cda-9de9-4c939203cdd6",
   "metadata": {
    "colab": {
     "base_uri": "https://localhost:8080/"
    },
    "executionInfo": {
     "elapsed": 82087,
     "status": "ok",
     "timestamp": 1631563110771,
     "user": {
      "displayName": "Rishabh Singhal",
      "photoUrl": "https://lh3.googleusercontent.com/a/default-user=s64",
      "userId": "09042655142465435311"
     },
     "user_tz": -330
    },
    "id": "565e5451-982a-4cda-9de9-4c939203cdd6",
    "outputId": "4c0142ec-a39c-426a-a3df-c1f7cc20cbea"
   },
   "outputs": [
    {
     "name": "stdout",
     "output_type": "stream",
     "text": [
      "0\n",
      "200\n",
      "400\n",
      "600\n",
      "800\n",
      "1000\n"
     ]
    },
    {
     "data": {
      "text/plain": [
       "(3411, 256, 256, 3)"
      ]
     },
     "execution_count": 12,
     "metadata": {},
     "output_type": "execute_result"
    }
   ],
   "source": [
    "X_competition_test = np.empty((0, 3 * n_obs))\n",
    "X_competition_test  = []\n",
    "#field_ids_test = np.empty((0, 1))\n",
    "\n",
    "for i in range (0,len(tile_ids_test)):\n",
    "    if i%200 == 0:\n",
    "        print(i)\n",
    "    tile_id = tile_ids_test[i] \n",
    "\n",
    "    tile_df = competition_test_df[competition_test_df['tile_id']==tile_id]\n",
    "    \n",
    "    tile_date_times = tile_df[tile_df['satellite_platform']=='s2']['datetime'].unique()\n",
    "    \n",
    "    n_X = 0\n",
    "    for date_time in tile_date_times:\n",
    "        # Here we retrieve the cloud band, and check if it's cloud free we will load the other bands\n",
    "        # Otherwise we will pass on to the next observation\n",
    "        \n",
    "        clm_src = rasterio.open(tile_df[(tile_df['datetime']==date_time) & (tile_df['asset']=='CLM')]['file_path'].values[0])\n",
    "        clm_max = np.max(clm_src.read(1))\n",
    "        \n",
    "        if clm_max < 25:\n",
    "            n_X+=1\n",
    "            b3_src = rasterio.open(tile_df[(tile_df['datetime']==date_time) & (tile_df['asset']=='B03')]['file_path'].values[0])\n",
    "            b3_array = np.expand_dims(b3_src.read(1), axis=2)\n",
    "\n",
    "            b4_src = rasterio.open(tile_df[(tile_df['datetime']==date_time) & (tile_df['asset']=='B04')]['file_path'].values[0])\n",
    "            b4_array = np.expand_dims(b4_src.read(1), axis=2)\n",
    "\n",
    "            b8_src = rasterio.open(tile_df[(tile_df['datetime']==date_time) & (tile_df['asset']=='B08')]['file_path'].values[0])\n",
    "            b8_array = np.expand_dims(b8_src.read(1), axis=2)\n",
    "\n",
    "            X_tile = np.empty((256, 256, 0), dtype=np.uint8)\n",
    "\n",
    "            X_tile = np.append(X_tile, b3_array, axis = 2)\n",
    "            X_tile = np.append(X_tile, b4_array, axis = 2)\n",
    "            X_tile = np.append(X_tile, b8_array, axis = 2)\n",
    "\n",
    "            X_competition_test.append(X_tile)\n",
    "        if n_X == n_obs:\n",
    "            break\n",
    "        \n",
    "    #X_competition_test = np.append(X_competition_test, X_tile, axis=0)\n",
    "X_competition_test = np.array(X_competition_test)\n",
    "X_competition_test.shape"
   ]
  },
  {
   "cell_type": "code",
   "execution_count": 13,
   "id": "FW3DsRDhW-no",
   "metadata": {
    "executionInfo": {
     "elapsed": 4998,
     "status": "ok",
     "timestamp": 1631563115760,
     "user": {
      "displayName": "Rishabh Singhal",
      "photoUrl": "https://lh3.googleusercontent.com/a/default-user=s64",
      "userId": "09042655142465435311"
     },
     "user_tz": -330
    },
    "id": "FW3DsRDhW-no"
   },
   "outputs": [],
   "source": [
    "X_competition_test = np.true_divide(X_competition_test, 255.0)\n",
    "X_competition_test = np.array(X_competition_test, dtype=np.float16)"
   ]
  },
  {
   "cell_type": "code",
   "execution_count": 19,
   "id": "J7PY2xC8rMXb",
   "metadata": {
    "colab": {
     "base_uri": "https://localhost:8080/"
    },
    "executionInfo": {
     "elapsed": 8,
     "status": "ok",
     "timestamp": 1631562053327,
     "user": {
      "displayName": "Rishabh Singhal",
      "photoUrl": "https://lh3.googleusercontent.com/a/default-user=s64",
      "userId": "09042655142465435311"
     },
     "user_tz": -330
    },
    "id": "J7PY2xC8rMXb",
    "outputId": "0d123f96-7bf2-46d9-daab-5d79147dcbc9"
   },
   "outputs": [
    {
     "data": {
      "text/plain": [
       "(4548, 256, 256, 3)"
      ]
     },
     "execution_count": 19,
     "metadata": {},
     "output_type": "execute_result"
    }
   ],
   "source": [
    "X_competition_test.shape"
   ]
  },
  {
   "cell_type": "code",
   "execution_count": 18,
   "id": "SS_Wu5uqxdS9",
   "metadata": {
    "colab": {
     "base_uri": "https://localhost:8080/"
    },
    "executionInfo": {
     "elapsed": 6,
     "status": "ok",
     "timestamp": 1631562051997,
     "user": {
      "displayName": "Rishabh Singhal",
      "photoUrl": "https://lh3.googleusercontent.com/a/default-user=s64",
      "userId": "09042655142465435311"
     },
     "user_tz": -330
    },
    "id": "SS_Wu5uqxdS9",
    "outputId": "bb37501e-3a86-4ed4-aeb9-0e43b2d49445"
   },
   "outputs": [
    {
     "data": {
      "text/plain": [
       "708"
      ]
     },
     "execution_count": 18,
     "metadata": {},
     "output_type": "execute_result"
    }
   ],
   "source": [
    "gc.collect()"
   ]
  },
  {
   "cell_type": "code",
   "execution_count": 14,
   "id": "vkoC6URBxKOd",
   "metadata": {
    "colab": {
     "base_uri": "https://localhost:8080/"
    },
    "executionInfo": {
     "elapsed": 17971,
     "status": "ok",
     "timestamp": 1631563133722,
     "user": {
      "displayName": "Rishabh Singhal",
      "photoUrl": "https://lh3.googleusercontent.com/a/default-user=s64",
      "userId": "09042655142465435311"
     },
     "user_tz": -330
    },
    "id": "vkoC6URBxKOd",
    "outputId": "20d25125-0c46-4e4c-9a06-75066e832f6a"
   },
   "outputs": [
    {
     "name": "stdout",
     "output_type": "stream",
     "text": [
      "0\n",
      "500\n",
      "1000\n",
      "223543296\n"
     ]
    },
    {
     "data": {
      "text/plain": [
       "(3411, 256, 256, 1)"
      ]
     },
     "execution_count": 14,
     "metadata": {},
     "output_type": "execute_result"
    }
   ],
   "source": [
    "field_ids = np.empty((256, 256,0), dtype=np.uint32)\n",
    "field_ids = []\n",
    "\n",
    "for i in range (0,len(tile_ids_test)):\n",
    "    if i%500 == 0:\n",
    "        print(i)\n",
    "    tile_id = tile_ids_test[i]  \n",
    "    \n",
    "    tile_df = competition_test_df[competition_test_df['tile_id']==tile_id]\n",
    "\n",
    "    field_id_src = rasterio.open(tile_df[tile_df['asset']=='field_ids']['file_path'].values[0])\n",
    "    field_id_array = field_id_src.read(1)\n",
    "    field_id_a = np.empty((256, 256, 0), dtype=np.uint32)\n",
    "    field_id_a = np.append(field_id_a, np.expand_dims(field_id_array, axis=2), axis = 2)\n",
    "    for field_ids_i in range(0, n_obs):\n",
    "        field_ids.append(field_id_a)\n",
    "field_ids = np.array(field_ids)\n",
    "print(np.count_nonzero(~np.isnan(field_ids)))\n",
    "field_ids.shape"
   ]
  },
  {
   "cell_type": "code",
   "execution_count": null,
   "id": "E5nvdvNl2eyE",
   "metadata": {
    "id": "E5nvdvNl2eyE"
   },
   "outputs": [],
   "source": [
    "field_ids[:10]"
   ]
  },
  {
   "cell_type": "code",
   "execution_count": null,
   "id": "LATmmaijp5DX",
   "metadata": {
    "colab": {
     "base_uri": "https://localhost:8080/"
    },
    "id": "LATmmaijp5DX",
    "outputId": "ab9c5485-0f00-4c13-93fd-f01c15409874"
   },
   "outputs": [
    {
     "name": "stdout",
     "output_type": "stream",
     "text": [
      "(170, 256, 256, 3)\n",
      "(170, 256, 256, 3)\n",
      "(170, 256, 256, 3)\n",
      "(170, 256, 256, 3)\n",
      "(170, 256, 256, 3)\n",
      "(170, 256, 256, 3)\n",
      "(170, 256, 256, 3)\n",
      "(170, 256, 256, 3)\n",
      "(170, 256, 256, 3)\n",
      "(170, 256, 256, 3)\n",
      "(170, 256, 256, 3)\n",
      "(170, 256, 256, 3)\n"
     ]
    }
   ],
   "source": [
    "step = 20\n",
    "BACKBONE = 'resnet34'\n",
    "preprocess_input = sm.get_preprocessing(BACKBONE)\n",
    "y_test = np.empty((0,256,256,10))\n",
    "for i in range(0,step):\n",
    "    x_test = preprocess_input(X_competition_test[int(len(X_competition_test)/step)*i : int(len(X_competition_test)/step)*(i+1)])\n",
    "    print(x_test.shape)\n",
    "    y_test_step = model.predict(x_test)\n",
    "    y_test_step = np.array(y_test_step, dtype=np.float16)\n",
    "    y_test = np.append(y_test, y_test_step, axis = 0)\n",
    "    gc.collect()\n",
    "del x_test\n",
    "del y_test_step\n",
    "y_test.shape"
   ]
  },
  {
   "cell_type": "code",
   "execution_count": null,
   "id": "-hcHBq037drq",
   "metadata": {
    "colab": {
     "base_uri": "https://localhost:8080/"
    },
    "executionInfo": {
     "elapsed": 5121,
     "status": "ok",
     "timestamp": 1631135474041,
     "user": {
      "displayName": "Rishabh Singhal",
      "photoUrl": "",
      "userId": "09042655142465435311"
     },
     "user_tz": -330
    },
    "id": "-hcHBq037drq",
    "outputId": "d4e7b562-449a-4d55-9f7b-d2a25139734b"
   },
   "outputs": [
    {
     "data": {
      "text/plain": [
       "(array([ 0.,  1.,  2.,  3.,  4.,  5.,  6.,  7.,  8.,  9., 10., 11., 12.,\n",
       "        13.], dtype=float32),\n",
       " array([   19316,  6440924, 50690405, 52987406, 25505828,  9251534,\n",
       "         2933933,   865567,   248430,    64729,    16382,     3921,\n",
       "             455,       34]))"
      ]
     },
     "execution_count": 26,
     "metadata": {},
     "output_type": "execute_result"
    }
   ],
   "source": [
    "y_test = np.around(y_test)\n",
    "np.unique(y_test, return_counts=True)"
   ]
  },
  {
   "cell_type": "code",
   "execution_count": null,
   "id": "MIYpWMcrzbOl",
   "metadata": {
    "colab": {
     "base_uri": "https://localhost:8080/"
    },
    "executionInfo": {
     "elapsed": 8,
     "status": "ok",
     "timestamp": 1631135483341,
     "user": {
      "displayName": "Rishabh Singhal",
      "photoUrl": "",
      "userId": "09042655142465435311"
     },
     "user_tz": -330
    },
    "id": "MIYpWMcrzbOl",
    "outputId": "8a63b1c4-f380-4f6b-9eda-941aabc5ceb1"
   },
   "outputs": [
    {
     "data": {
      "text/plain": [
       "149028864"
      ]
     },
     "execution_count": 28,
     "metadata": {},
     "output_type": "execute_result"
    }
   ],
   "source": [
    "len(y_test.flatten())"
   ]
  },
  {
   "cell_type": "code",
   "execution_count": 27,
   "id": "WaB_VI0cjjKB",
   "metadata": {
    "executionInfo": {
     "elapsed": 548,
     "status": "ok",
     "timestamp": 1631562597864,
     "user": {
      "displayName": "Rishabh Singhal",
      "photoUrl": "https://lh3.googleusercontent.com/a/default-user=s64",
      "userId": "09042655142465435311"
     },
     "user_tz": -330
    },
    "id": "WaB_VI0cjjKB"
   },
   "outputs": [],
   "source": [
    "field_ids_flatten = field_ids.flatten()\n",
    "#del field_ids"
   ]
  },
  {
   "cell_type": "code",
   "execution_count": null,
   "id": "3Zwl64eBjbUM",
   "metadata": {
    "id": "3Zwl64eBjbUM"
   },
   "outputs": [],
   "source": [
    "import gc\n",
    "gc.collect()\n",
    "data_test = pd.DataFrame()\n",
    "data_test['field_id'] = field_ids_flatten\n",
    "del field_ids_flatten"
   ]
  },
  {
   "cell_type": "code",
   "execution_count": 87,
   "id": "TbZ5xJpkyTyw",
   "metadata": {
    "colab": {
     "base_uri": "https://localhost:8080/"
    },
    "executionInfo": {
     "elapsed": 1986,
     "status": "ok",
     "timestamp": 1631560049050,
     "user": {
      "displayName": "Rishabh Singhal",
      "photoUrl": "https://lh3.googleusercontent.com/a/default-user=s64",
      "userId": "09042655142465435311"
     },
     "user_tz": -330
    },
    "id": "TbZ5xJpkyTyw",
    "outputId": "10428cf9-7d0f-4b8d-fb63-56f8fb1cf8bc"
   },
   "outputs": [
    {
     "name": "stdout",
     "output_type": "stream",
     "text": [
      "<class 'numpy.float16'>\n"
     ]
    },
    {
     "data": {
      "text/plain": [
       "numpy.float16"
      ]
     },
     "execution_count": 87,
     "metadata": {},
     "output_type": "execute_result"
    }
   ],
   "source": [
    "print(type(y_test[0][0][0][0]))\n",
    "y_test = np.array(y_test, dtype=np.float16)\n",
    "type(y_test[0][0][0][0])"
   ]
  },
  {
   "cell_type": "code",
   "execution_count": 89,
   "id": "aRovikA6jvcL",
   "metadata": {
    "colab": {
     "base_uri": "https://localhost:8080/",
     "height": 206
    },
    "executionInfo": {
     "elapsed": 32580,
     "status": "ok",
     "timestamp": 1631560105364,
     "user": {
      "displayName": "Rishabh Singhal",
      "photoUrl": "https://lh3.googleusercontent.com/a/default-user=s64",
      "userId": "09042655142465435311"
     },
     "user_tz": -330
    },
    "id": "aRovikA6jvcL",
    "outputId": "797d6641-d72e-44b2-cf53-a4742e68b58f"
   },
   "outputs": [
    {
     "data": {
      "text/html": [
       "<div>\n",
       "<style scoped>\n",
       "    .dataframe tbody tr th:only-of-type {\n",
       "        vertical-align: middle;\n",
       "    }\n",
       "\n",
       "    .dataframe tbody tr th {\n",
       "        vertical-align: top;\n",
       "    }\n",
       "\n",
       "    .dataframe thead th {\n",
       "        text-align: right;\n",
       "    }\n",
       "</style>\n",
       "<table border=\"1\" class=\"dataframe\">\n",
       "  <thead>\n",
       "    <tr style=\"text-align: right;\">\n",
       "      <th></th>\n",
       "      <th>field_id</th>\n",
       "      <th>0</th>\n",
       "      <th>1</th>\n",
       "      <th>2</th>\n",
       "      <th>3</th>\n",
       "      <th>4</th>\n",
       "      <th>5</th>\n",
       "      <th>6</th>\n",
       "      <th>7</th>\n",
       "      <th>8</th>\n",
       "      <th>9</th>\n",
       "    </tr>\n",
       "  </thead>\n",
       "  <tbody>\n",
       "    <tr>\n",
       "      <th>72</th>\n",
       "      <td>102896</td>\n",
       "      <td>0.139893</td>\n",
       "      <td>0.089478</td>\n",
       "      <td>0.036560</td>\n",
       "      <td>0.019974</td>\n",
       "      <td>0.000393</td>\n",
       "      <td>0.009010</td>\n",
       "      <td>0.193115</td>\n",
       "      <td>0.155762</td>\n",
       "      <td>0.352783</td>\n",
       "      <td>0.003067</td>\n",
       "    </tr>\n",
       "    <tr>\n",
       "      <th>73</th>\n",
       "      <td>102896</td>\n",
       "      <td>0.109863</td>\n",
       "      <td>0.092163</td>\n",
       "      <td>0.033081</td>\n",
       "      <td>0.018646</td>\n",
       "      <td>0.000340</td>\n",
       "      <td>0.007988</td>\n",
       "      <td>0.189331</td>\n",
       "      <td>0.190186</td>\n",
       "      <td>0.355225</td>\n",
       "      <td>0.002972</td>\n",
       "    </tr>\n",
       "    <tr>\n",
       "      <th>74</th>\n",
       "      <td>102896</td>\n",
       "      <td>0.097229</td>\n",
       "      <td>0.093628</td>\n",
       "      <td>0.029053</td>\n",
       "      <td>0.017151</td>\n",
       "      <td>0.000306</td>\n",
       "      <td>0.006954</td>\n",
       "      <td>0.168823</td>\n",
       "      <td>0.229858</td>\n",
       "      <td>0.354248</td>\n",
       "      <td>0.002708</td>\n",
       "    </tr>\n",
       "    <tr>\n",
       "      <th>75</th>\n",
       "      <td>102896</td>\n",
       "      <td>0.086975</td>\n",
       "      <td>0.090332</td>\n",
       "      <td>0.023529</td>\n",
       "      <td>0.015854</td>\n",
       "      <td>0.000259</td>\n",
       "      <td>0.005936</td>\n",
       "      <td>0.146851</td>\n",
       "      <td>0.285156</td>\n",
       "      <td>0.342773</td>\n",
       "      <td>0.002439</td>\n",
       "    </tr>\n",
       "    <tr>\n",
       "      <th>76</th>\n",
       "      <td>102896</td>\n",
       "      <td>0.079407</td>\n",
       "      <td>0.086060</td>\n",
       "      <td>0.019669</td>\n",
       "      <td>0.014343</td>\n",
       "      <td>0.000236</td>\n",
       "      <td>0.005104</td>\n",
       "      <td>0.123413</td>\n",
       "      <td>0.342285</td>\n",
       "      <td>0.327148</td>\n",
       "      <td>0.002174</td>\n",
       "    </tr>\n",
       "  </tbody>\n",
       "</table>\n",
       "</div>"
      ],
      "text/plain": [
       "    field_id         0         1  ...         7         8         9\n",
       "72    102896  0.139893  0.089478  ...  0.155762  0.352783  0.003067\n",
       "73    102896  0.109863  0.092163  ...  0.190186  0.355225  0.002972\n",
       "74    102896  0.097229  0.093628  ...  0.229858  0.354248  0.002708\n",
       "75    102896  0.086975  0.090332  ...  0.285156  0.342773  0.002439\n",
       "76    102896  0.079407  0.086060  ...  0.342285  0.327148  0.002174\n",
       "\n",
       "[5 rows x 11 columns]"
      ]
     },
     "execution_count": 89,
     "metadata": {},
     "output_type": "execute_result"
    }
   ],
   "source": [
    "for col_i in range(0,10):\n",
    "    y_test_flatten = np.array(((y_test.T)[col_i][:][:][:].T).flatten(), dtype = np.float16)\n",
    "    gc.collect()\n",
    "    data_test[str(col_i)] = y_test_flatten \n",
    "    del y_test_flatten\n",
    "data_test = data_test[data_test.field_id != 0]\n",
    "gc.collect()\n",
    "data_test.head()"
   ]
  },
  {
   "cell_type": "code",
   "execution_count": 119,
   "id": "hpakxWNAcO4e",
   "metadata": {
    "colab": {
     "base_uri": "https://localhost:8080/",
     "height": 226
    },
    "executionInfo": {
     "elapsed": 3833,
     "status": "ok",
     "timestamp": 1631561153457,
     "user": {
      "displayName": "Rishabh Singhal",
      "photoUrl": "https://lh3.googleusercontent.com/a/default-user=s64",
      "userId": "09042655142465435311"
     },
     "user_tz": -330
    },
    "id": "hpakxWNAcO4e",
    "outputId": "a6cfdad5-2a84-4460-b51a-4b7616c32d12"
   },
   "outputs": [
    {
     "data": {
      "text/html": [
       "<div>\n",
       "<style scoped>\n",
       "    .dataframe tbody tr th:only-of-type {\n",
       "        vertical-align: middle;\n",
       "    }\n",
       "\n",
       "    .dataframe tbody tr th {\n",
       "        vertical-align: top;\n",
       "    }\n",
       "\n",
       "    .dataframe thead th {\n",
       "        text-align: right;\n",
       "    }\n",
       "</style>\n",
       "<table border=\"1\" class=\"dataframe\">\n",
       "  <thead>\n",
       "    <tr style=\"text-align: right;\">\n",
       "      <th></th>\n",
       "      <th>field_id</th>\n",
       "      <th>0</th>\n",
       "      <th>1</th>\n",
       "      <th>2</th>\n",
       "      <th>3</th>\n",
       "      <th>4</th>\n",
       "      <th>5</th>\n",
       "      <th>6</th>\n",
       "      <th>7</th>\n",
       "      <th>8</th>\n",
       "      <th>9</th>\n",
       "    </tr>\n",
       "  </thead>\n",
       "  <tbody>\n",
       "    <tr>\n",
       "      <th>0</th>\n",
       "      <td>5</td>\n",
       "      <td>7.855469</td>\n",
       "      <td>13.984375</td>\n",
       "      <td>3.919922</td>\n",
       "      <td>1.248047</td>\n",
       "      <td>0.035156</td>\n",
       "      <td>0.400391</td>\n",
       "      <td>18.640625</td>\n",
       "      <td>1341.000000</td>\n",
       "      <td>46.406250</td>\n",
       "      <td>0.336182</td>\n",
       "    </tr>\n",
       "    <tr>\n",
       "      <th>1</th>\n",
       "      <td>10</td>\n",
       "      <td>3724.000000</td>\n",
       "      <td>6.199219</td>\n",
       "      <td>361.250000</td>\n",
       "      <td>2.578125</td>\n",
       "      <td>0.227539</td>\n",
       "      <td>4.300781</td>\n",
       "      <td>12.460938</td>\n",
       "      <td>22.875000</td>\n",
       "      <td>11.210938</td>\n",
       "      <td>0.288818</td>\n",
       "    </tr>\n",
       "    <tr>\n",
       "      <th>2</th>\n",
       "      <td>11</td>\n",
       "      <td>269.250000</td>\n",
       "      <td>24.109375</td>\n",
       "      <td>1314.000000</td>\n",
       "      <td>4.523438</td>\n",
       "      <td>0.285156</td>\n",
       "      <td>3.255859</td>\n",
       "      <td>180.875000</td>\n",
       "      <td>252.625000</td>\n",
       "      <td>63.718750</td>\n",
       "      <td>0.737793</td>\n",
       "    </tr>\n",
       "    <tr>\n",
       "      <th>3</th>\n",
       "      <td>17</td>\n",
       "      <td>771.500000</td>\n",
       "      <td>0.991699</td>\n",
       "      <td>5.781250</td>\n",
       "      <td>609.500000</td>\n",
       "      <td>0.150391</td>\n",
       "      <td>126.625000</td>\n",
       "      <td>3.482422</td>\n",
       "      <td>0.726562</td>\n",
       "      <td>0.254395</td>\n",
       "      <td>1.196289</td>\n",
       "    </tr>\n",
       "    <tr>\n",
       "      <th>4</th>\n",
       "      <td>18</td>\n",
       "      <td>122.250000</td>\n",
       "      <td>0.057251</td>\n",
       "      <td>0.787109</td>\n",
       "      <td>0.755859</td>\n",
       "      <td>0.055481</td>\n",
       "      <td>65.625000</td>\n",
       "      <td>0.345215</td>\n",
       "      <td>0.047791</td>\n",
       "      <td>0.043671</td>\n",
       "      <td>0.079407</td>\n",
       "    </tr>\n",
       "  </tbody>\n",
       "</table>\n",
       "</div>"
      ],
      "text/plain": [
       "   field_id            0          1  ...            7          8         9\n",
       "0         5     7.855469  13.984375  ...  1341.000000  46.406250  0.336182\n",
       "1        10  3724.000000   6.199219  ...    22.875000  11.210938  0.288818\n",
       "2        11   269.250000  24.109375  ...   252.625000  63.718750  0.737793\n",
       "3        17   771.500000   0.991699  ...     0.726562   0.254395  1.196289\n",
       "4        18   122.250000   0.057251  ...     0.047791   0.043671  0.079407\n",
       "\n",
       "[5 rows x 11 columns]"
      ]
     },
     "execution_count": 119,
     "metadata": {},
     "output_type": "execute_result"
    }
   ],
   "source": [
    "pred_df = data_test.groupby('field_id').sum().reset_index()\n",
    "pred_df.head()"
   ]
  },
  {
   "cell_type": "code",
   "execution_count": null,
   "id": "A_b5luT3w4oX",
   "metadata": {
    "colab": {
     "base_uri": "https://localhost:8080/"
    },
    "executionInfo": {
     "elapsed": 5402,
     "status": "ok",
     "timestamp": 1631135502125,
     "user": {
      "displayName": "Rishabh Singhal",
      "photoUrl": "",
      "userId": "09042655142465435311"
     },
     "user_tz": -330
    },
    "id": "A_b5luT3w4oX",
    "outputId": "07a95593-920f-4694-b573-c02c7ea33712"
   },
   "outputs": [
    {
     "data": {
      "text/plain": [
       "(array([0., 1., 2., 3., 4., 5., 6., 7., 8., 9.], dtype=float32),\n",
       " array([   19316,  6440924, 50690405, 52987406, 25505828,  9251534,\n",
       "         2933933,   865567,   248430,    85521]))"
      ]
     },
     "execution_count": 31,
     "metadata": {},
     "output_type": "execute_result"
    }
   ],
   "source": [
    "y_test_flatten = y_test.flatten()\n",
    "y_test_flatten = np.where(y_test_flatten < 0, 0, y_test_flatten)\n",
    "y_test_flatten = np.where(y_test_flatten > 9, 9, y_test_flatten)\n",
    "np.unique(y_test_flatten, return_counts=True)"
   ]
  },
  {
   "cell_type": "code",
   "execution_count": null,
   "id": "_0MjhtbXrOS8",
   "metadata": {
    "colab": {
     "base_uri": "https://localhost:8080/"
    },
    "executionInfo": {
     "elapsed": 14,
     "status": "ok",
     "timestamp": 1631135502126,
     "user": {
      "displayName": "Rishabh Singhal",
      "photoUrl": "",
      "userId": "09042655142465435311"
     },
     "user_tz": -330
    },
    "id": "_0MjhtbXrOS8",
    "outputId": "71884756-36d1-415e-9540-51cf92a1985c"
   },
   "outputs": [
    {
     "name": "stdout",
     "output_type": "stream",
     "text": [
      "(149028864,)\n"
     ]
    },
    {
     "data": {
      "text/plain": [
       "(149028864,)"
      ]
     },
     "execution_count": 32,
     "metadata": {},
     "output_type": "execute_result"
    }
   ],
   "source": [
    "print(y_test_flatten.shape)\n",
    "y_test_flatten = np.array(y_test_flatten, dtype = np.uint8)\n",
    "y_test_flatten.shape"
   ]
  },
  {
   "cell_type": "code",
   "execution_count": null,
   "id": "xC-vFT9gjbZg",
   "metadata": {
    "colab": {
     "base_uri": "https://localhost:8080/",
     "height": 206
    },
    "executionInfo": {
     "elapsed": 2953,
     "status": "ok",
     "timestamp": 1631135505695,
     "user": {
      "displayName": "Rishabh Singhal",
      "photoUrl": "",
      "userId": "09042655142465435311"
     },
     "user_tz": -330
    },
    "id": "xC-vFT9gjbZg",
    "outputId": "8cc3f701-c109-4306-f686-6f8d69dd0a67"
   },
   "outputs": [
    {
     "data": {
      "text/html": [
       "<div>\n",
       "<style scoped>\n",
       "    .dataframe tbody tr th:only-of-type {\n",
       "        vertical-align: middle;\n",
       "    }\n",
       "\n",
       "    .dataframe tbody tr th {\n",
       "        vertical-align: top;\n",
       "    }\n",
       "\n",
       "    .dataframe thead th {\n",
       "        text-align: right;\n",
       "    }\n",
       "</style>\n",
       "<table border=\"1\" class=\"dataframe\">\n",
       "  <thead>\n",
       "    <tr style=\"text-align: right;\">\n",
       "      <th></th>\n",
       "      <th>field_id</th>\n",
       "      <th>lables</th>\n",
       "    </tr>\n",
       "  </thead>\n",
       "  <tbody>\n",
       "    <tr>\n",
       "      <th>72</th>\n",
       "      <td>102896</td>\n",
       "      <td>1</td>\n",
       "    </tr>\n",
       "    <tr>\n",
       "      <th>73</th>\n",
       "      <td>102896</td>\n",
       "      <td>1</td>\n",
       "    </tr>\n",
       "    <tr>\n",
       "      <th>74</th>\n",
       "      <td>102896</td>\n",
       "      <td>1</td>\n",
       "    </tr>\n",
       "    <tr>\n",
       "      <th>75</th>\n",
       "      <td>102896</td>\n",
       "      <td>1</td>\n",
       "    </tr>\n",
       "    <tr>\n",
       "      <th>76</th>\n",
       "      <td>102896</td>\n",
       "      <td>1</td>\n",
       "    </tr>\n",
       "  </tbody>\n",
       "</table>\n",
       "</div>"
      ],
      "text/plain": [
       "    field_id  lables\n",
       "72    102896       1\n",
       "73    102896       1\n",
       "74    102896       1\n",
       "75    102896       1\n",
       "76    102896       1"
      ]
     },
     "execution_count": 33,
     "metadata": {},
     "output_type": "execute_result"
    }
   ],
   "source": [
    "data_test['lables'] = y_test_flatten\n",
    "del y_test_flatten\n",
    "data_test = data_test[data_test.field_id != 0]\n",
    "data_test.head()"
   ]
  },
  {
   "cell_type": "code",
   "execution_count": null,
   "id": "Suco3lVFzk1V",
   "metadata": {
    "colab": {
     "base_uri": "https://localhost:8080/",
     "height": 206
    },
    "executionInfo": {
     "elapsed": 528,
     "status": "ok",
     "timestamp": 1631135506221,
     "user": {
      "displayName": "Rishabh Singhal",
      "photoUrl": "",
      "userId": "09042655142465435311"
     },
     "user_tz": -330
    },
    "id": "Suco3lVFzk1V",
    "outputId": "9b7eb2fc-89fd-48e9-c63c-63172423437e"
   },
   "outputs": [
    {
     "data": {
      "text/html": [
       "<div>\n",
       "<style scoped>\n",
       "    .dataframe tbody tr th:only-of-type {\n",
       "        vertical-align: middle;\n",
       "    }\n",
       "\n",
       "    .dataframe tbody tr th {\n",
       "        vertical-align: top;\n",
       "    }\n",
       "\n",
       "    .dataframe thead th {\n",
       "        text-align: right;\n",
       "    }\n",
       "</style>\n",
       "<table border=\"1\" class=\"dataframe\">\n",
       "  <thead>\n",
       "    <tr style=\"text-align: right;\">\n",
       "      <th></th>\n",
       "      <th>0</th>\n",
       "      <th>1</th>\n",
       "      <th>2</th>\n",
       "      <th>3</th>\n",
       "      <th>4</th>\n",
       "      <th>5</th>\n",
       "      <th>6</th>\n",
       "      <th>7</th>\n",
       "      <th>8</th>\n",
       "      <th>9</th>\n",
       "    </tr>\n",
       "  </thead>\n",
       "  <tbody>\n",
       "    <tr>\n",
       "      <th>72</th>\n",
       "      <td>0</td>\n",
       "      <td>1</td>\n",
       "      <td>0</td>\n",
       "      <td>0</td>\n",
       "      <td>0</td>\n",
       "      <td>0</td>\n",
       "      <td>0</td>\n",
       "      <td>0</td>\n",
       "      <td>0</td>\n",
       "      <td>0</td>\n",
       "    </tr>\n",
       "    <tr>\n",
       "      <th>73</th>\n",
       "      <td>0</td>\n",
       "      <td>1</td>\n",
       "      <td>0</td>\n",
       "      <td>0</td>\n",
       "      <td>0</td>\n",
       "      <td>0</td>\n",
       "      <td>0</td>\n",
       "      <td>0</td>\n",
       "      <td>0</td>\n",
       "      <td>0</td>\n",
       "    </tr>\n",
       "    <tr>\n",
       "      <th>74</th>\n",
       "      <td>0</td>\n",
       "      <td>1</td>\n",
       "      <td>0</td>\n",
       "      <td>0</td>\n",
       "      <td>0</td>\n",
       "      <td>0</td>\n",
       "      <td>0</td>\n",
       "      <td>0</td>\n",
       "      <td>0</td>\n",
       "      <td>0</td>\n",
       "    </tr>\n",
       "    <tr>\n",
       "      <th>75</th>\n",
       "      <td>0</td>\n",
       "      <td>1</td>\n",
       "      <td>0</td>\n",
       "      <td>0</td>\n",
       "      <td>0</td>\n",
       "      <td>0</td>\n",
       "      <td>0</td>\n",
       "      <td>0</td>\n",
       "      <td>0</td>\n",
       "      <td>0</td>\n",
       "    </tr>\n",
       "    <tr>\n",
       "      <th>76</th>\n",
       "      <td>0</td>\n",
       "      <td>1</td>\n",
       "      <td>0</td>\n",
       "      <td>0</td>\n",
       "      <td>0</td>\n",
       "      <td>0</td>\n",
       "      <td>0</td>\n",
       "      <td>0</td>\n",
       "      <td>0</td>\n",
       "      <td>0</td>\n",
       "    </tr>\n",
       "  </tbody>\n",
       "</table>\n",
       "</div>"
      ],
      "text/plain": [
       "    0  1  2  3  4  5  6  7  8  9\n",
       "72  0  1  0  0  0  0  0  0  0  0\n",
       "73  0  1  0  0  0  0  0  0  0  0\n",
       "74  0  1  0  0  0  0  0  0  0  0\n",
       "75  0  1  0  0  0  0  0  0  0  0\n",
       "76  0  1  0  0  0  0  0  0  0  0"
      ]
     },
     "execution_count": 34,
     "metadata": {},
     "output_type": "execute_result"
    }
   ],
   "source": [
    "pred_df = pd.get_dummies(data_test['lables'])\n",
    "pred_df.head()"
   ]
  },
  {
   "cell_type": "code",
   "execution_count": null,
   "id": "kFqvRfVZ0A7j",
   "metadata": {
    "colab": {
     "base_uri": "https://localhost:8080/",
     "height": 206
    },
    "executionInfo": {
     "elapsed": 6,
     "status": "ok",
     "timestamp": 1631135506222,
     "user": {
      "displayName": "Rishabh Singhal",
      "photoUrl": "",
      "userId": "09042655142465435311"
     },
     "user_tz": -330
    },
    "id": "kFqvRfVZ0A7j",
    "outputId": "c6f40d24-20a9-4bdb-c727-1fa3aba2465f"
   },
   "outputs": [
    {
     "data": {
      "text/html": [
       "<div>\n",
       "<style scoped>\n",
       "    .dataframe tbody tr th:only-of-type {\n",
       "        vertical-align: middle;\n",
       "    }\n",
       "\n",
       "    .dataframe tbody tr th {\n",
       "        vertical-align: top;\n",
       "    }\n",
       "\n",
       "    .dataframe thead th {\n",
       "        text-align: right;\n",
       "    }\n",
       "</style>\n",
       "<table border=\"1\" class=\"dataframe\">\n",
       "  <thead>\n",
       "    <tr style=\"text-align: right;\">\n",
       "      <th></th>\n",
       "      <th>0</th>\n",
       "      <th>1</th>\n",
       "      <th>2</th>\n",
       "      <th>3</th>\n",
       "      <th>4</th>\n",
       "      <th>5</th>\n",
       "      <th>6</th>\n",
       "      <th>7</th>\n",
       "      <th>8</th>\n",
       "      <th>9</th>\n",
       "      <th>field_id</th>\n",
       "    </tr>\n",
       "  </thead>\n",
       "  <tbody>\n",
       "    <tr>\n",
       "      <th>72</th>\n",
       "      <td>0</td>\n",
       "      <td>1</td>\n",
       "      <td>0</td>\n",
       "      <td>0</td>\n",
       "      <td>0</td>\n",
       "      <td>0</td>\n",
       "      <td>0</td>\n",
       "      <td>0</td>\n",
       "      <td>0</td>\n",
       "      <td>0</td>\n",
       "      <td>102896</td>\n",
       "    </tr>\n",
       "    <tr>\n",
       "      <th>73</th>\n",
       "      <td>0</td>\n",
       "      <td>1</td>\n",
       "      <td>0</td>\n",
       "      <td>0</td>\n",
       "      <td>0</td>\n",
       "      <td>0</td>\n",
       "      <td>0</td>\n",
       "      <td>0</td>\n",
       "      <td>0</td>\n",
       "      <td>0</td>\n",
       "      <td>102896</td>\n",
       "    </tr>\n",
       "    <tr>\n",
       "      <th>74</th>\n",
       "      <td>0</td>\n",
       "      <td>1</td>\n",
       "      <td>0</td>\n",
       "      <td>0</td>\n",
       "      <td>0</td>\n",
       "      <td>0</td>\n",
       "      <td>0</td>\n",
       "      <td>0</td>\n",
       "      <td>0</td>\n",
       "      <td>0</td>\n",
       "      <td>102896</td>\n",
       "    </tr>\n",
       "    <tr>\n",
       "      <th>75</th>\n",
       "      <td>0</td>\n",
       "      <td>1</td>\n",
       "      <td>0</td>\n",
       "      <td>0</td>\n",
       "      <td>0</td>\n",
       "      <td>0</td>\n",
       "      <td>0</td>\n",
       "      <td>0</td>\n",
       "      <td>0</td>\n",
       "      <td>0</td>\n",
       "      <td>102896</td>\n",
       "    </tr>\n",
       "    <tr>\n",
       "      <th>76</th>\n",
       "      <td>0</td>\n",
       "      <td>1</td>\n",
       "      <td>0</td>\n",
       "      <td>0</td>\n",
       "      <td>0</td>\n",
       "      <td>0</td>\n",
       "      <td>0</td>\n",
       "      <td>0</td>\n",
       "      <td>0</td>\n",
       "      <td>0</td>\n",
       "      <td>102896</td>\n",
       "    </tr>\n",
       "  </tbody>\n",
       "</table>\n",
       "</div>"
      ],
      "text/plain": [
       "    0  1  2  3  4  5  6  7  8  9  field_id\n",
       "72  0  1  0  0  0  0  0  0  0  0    102896\n",
       "73  0  1  0  0  0  0  0  0  0  0    102896\n",
       "74  0  1  0  0  0  0  0  0  0  0    102896\n",
       "75  0  1  0  0  0  0  0  0  0  0    102896\n",
       "76  0  1  0  0  0  0  0  0  0  0    102896"
      ]
     },
     "execution_count": 35,
     "metadata": {},
     "output_type": "execute_result"
    }
   ],
   "source": [
    "pred_df['field_id'] = data_test['field_id']\n",
    "pred_df.head()"
   ]
  },
  {
   "cell_type": "code",
   "execution_count": null,
   "id": "AkZLQyhgteYx",
   "metadata": {
    "id": "AkZLQyhgteYx"
   },
   "outputs": [],
   "source": [
    "#pred_df = data_test.groupby('field_id').mean().reset_index()\n",
    "pred_df = pred_df.groupby('field_id').sum().reset_index()\n",
    "pred_df.head()"
   ]
  },
  {
   "cell_type": "code",
   "execution_count": 120,
   "id": "HuhCIhKu2Acj",
   "metadata": {
    "colab": {
     "base_uri": "https://localhost:8080/",
     "height": 226
    },
    "executionInfo": {
     "elapsed": 563,
     "status": "ok",
     "timestamp": 1631561206473,
     "user": {
      "displayName": "Rishabh Singhal",
      "photoUrl": "https://lh3.googleusercontent.com/a/default-user=s64",
      "userId": "09042655142465435311"
     },
     "user_tz": -330
    },
    "id": "HuhCIhKu2Acj",
    "outputId": "4ada7b91-275e-48ba-d709-8a6beb379eb4"
   },
   "outputs": [
    {
     "data": {
      "text/html": [
       "<div>\n",
       "<style scoped>\n",
       "    .dataframe tbody tr th:only-of-type {\n",
       "        vertical-align: middle;\n",
       "    }\n",
       "\n",
       "    .dataframe tbody tr th {\n",
       "        vertical-align: top;\n",
       "    }\n",
       "\n",
       "    .dataframe thead th {\n",
       "        text-align: right;\n",
       "    }\n",
       "</style>\n",
       "<table border=\"1\" class=\"dataframe\">\n",
       "  <thead>\n",
       "    <tr style=\"text-align: right;\">\n",
       "      <th></th>\n",
       "      <th>0</th>\n",
       "      <th>1</th>\n",
       "      <th>2</th>\n",
       "      <th>3</th>\n",
       "      <th>4</th>\n",
       "      <th>5</th>\n",
       "      <th>6</th>\n",
       "      <th>7</th>\n",
       "      <th>8</th>\n",
       "      <th>9</th>\n",
       "    </tr>\n",
       "  </thead>\n",
       "  <tbody>\n",
       "    <tr>\n",
       "      <th>0</th>\n",
       "      <td>7.855469</td>\n",
       "      <td>13.984375</td>\n",
       "      <td>3.919922</td>\n",
       "      <td>1.248047</td>\n",
       "      <td>0.035156</td>\n",
       "      <td>0.400391</td>\n",
       "      <td>18.640625</td>\n",
       "      <td>1341.000000</td>\n",
       "      <td>46.406250</td>\n",
       "      <td>0.336182</td>\n",
       "    </tr>\n",
       "    <tr>\n",
       "      <th>1</th>\n",
       "      <td>3724.000000</td>\n",
       "      <td>6.199219</td>\n",
       "      <td>361.250000</td>\n",
       "      <td>2.578125</td>\n",
       "      <td>0.227539</td>\n",
       "      <td>4.300781</td>\n",
       "      <td>12.460938</td>\n",
       "      <td>22.875000</td>\n",
       "      <td>11.210938</td>\n",
       "      <td>0.288818</td>\n",
       "    </tr>\n",
       "    <tr>\n",
       "      <th>2</th>\n",
       "      <td>269.250000</td>\n",
       "      <td>24.109375</td>\n",
       "      <td>1314.000000</td>\n",
       "      <td>4.523438</td>\n",
       "      <td>0.285156</td>\n",
       "      <td>3.255859</td>\n",
       "      <td>180.875000</td>\n",
       "      <td>252.625000</td>\n",
       "      <td>63.718750</td>\n",
       "      <td>0.737793</td>\n",
       "    </tr>\n",
       "    <tr>\n",
       "      <th>3</th>\n",
       "      <td>771.500000</td>\n",
       "      <td>0.991699</td>\n",
       "      <td>5.781250</td>\n",
       "      <td>609.500000</td>\n",
       "      <td>0.150391</td>\n",
       "      <td>126.625000</td>\n",
       "      <td>3.482422</td>\n",
       "      <td>0.726562</td>\n",
       "      <td>0.254395</td>\n",
       "      <td>1.196289</td>\n",
       "    </tr>\n",
       "    <tr>\n",
       "      <th>4</th>\n",
       "      <td>122.250000</td>\n",
       "      <td>0.057251</td>\n",
       "      <td>0.787109</td>\n",
       "      <td>0.755859</td>\n",
       "      <td>0.055481</td>\n",
       "      <td>65.625000</td>\n",
       "      <td>0.345215</td>\n",
       "      <td>0.047791</td>\n",
       "      <td>0.043671</td>\n",
       "      <td>0.079407</td>\n",
       "    </tr>\n",
       "  </tbody>\n",
       "</table>\n",
       "</div>"
      ],
      "text/plain": [
       "             0          1            2  ...            7          8         9\n",
       "0     7.855469  13.984375     3.919922  ...  1341.000000  46.406250  0.336182\n",
       "1  3724.000000   6.199219   361.250000  ...    22.875000  11.210938  0.288818\n",
       "2   269.250000  24.109375  1314.000000  ...   252.625000  63.718750  0.737793\n",
       "3   771.500000   0.991699     5.781250  ...     0.726562   0.254395  1.196289\n",
       "4   122.250000   0.057251     0.787109  ...     0.047791   0.043671  0.079407\n",
       "\n",
       "[5 rows x 10 columns]"
      ]
     },
     "execution_count": 120,
     "metadata": {},
     "output_type": "execute_result"
    }
   ],
   "source": [
    "field_id_col = pred_df['field_id']\n",
    "pred_df = pred_df.drop(columns=['field_id'])\n",
    "pred_df.head()"
   ]
  },
  {
   "cell_type": "code",
   "execution_count": 121,
   "id": "6NEi4-3KkXmM",
   "metadata": {
    "colab": {
     "base_uri": "https://localhost:8080/",
     "height": 206
    },
    "executionInfo": {
     "elapsed": 10,
     "status": "ok",
     "timestamp": 1631561207185,
     "user": {
      "displayName": "Rishabh Singhal",
      "photoUrl": "https://lh3.googleusercontent.com/a/default-user=s64",
      "userId": "09042655142465435311"
     },
     "user_tz": -330
    },
    "id": "6NEi4-3KkXmM",
    "outputId": "1c6b3309-e407-4ece-e763-1cfa0aecec84"
   },
   "outputs": [
    {
     "data": {
      "text/html": [
       "<div>\n",
       "<style scoped>\n",
       "    .dataframe tbody tr th:only-of-type {\n",
       "        vertical-align: middle;\n",
       "    }\n",
       "\n",
       "    .dataframe tbody tr th {\n",
       "        vertical-align: top;\n",
       "    }\n",
       "\n",
       "    .dataframe thead th {\n",
       "        text-align: right;\n",
       "    }\n",
       "</style>\n",
       "<table border=\"1\" class=\"dataframe\">\n",
       "  <thead>\n",
       "    <tr style=\"text-align: right;\">\n",
       "      <th></th>\n",
       "      <th>0</th>\n",
       "      <th>1</th>\n",
       "      <th>2</th>\n",
       "      <th>3</th>\n",
       "      <th>4</th>\n",
       "      <th>5</th>\n",
       "      <th>6</th>\n",
       "      <th>7</th>\n",
       "      <th>8</th>\n",
       "      <th>9</th>\n",
       "    </tr>\n",
       "  </thead>\n",
       "  <tbody>\n",
       "    <tr>\n",
       "      <th>0</th>\n",
       "      <td>0.005478</td>\n",
       "      <td>0.009750</td>\n",
       "      <td>0.002733</td>\n",
       "      <td>0.000870</td>\n",
       "      <td>0.000024</td>\n",
       "      <td>0.000279</td>\n",
       "      <td>0.013000</td>\n",
       "      <td>0.935059</td>\n",
       "      <td>0.032349</td>\n",
       "      <td>0.000234</td>\n",
       "    </tr>\n",
       "    <tr>\n",
       "      <th>1</th>\n",
       "      <td>0.898438</td>\n",
       "      <td>0.001496</td>\n",
       "      <td>0.087158</td>\n",
       "      <td>0.000622</td>\n",
       "      <td>0.000055</td>\n",
       "      <td>0.001038</td>\n",
       "      <td>0.003008</td>\n",
       "      <td>0.005520</td>\n",
       "      <td>0.002705</td>\n",
       "      <td>0.000070</td>\n",
       "    </tr>\n",
       "    <tr>\n",
       "      <th>2</th>\n",
       "      <td>0.127319</td>\n",
       "      <td>0.011406</td>\n",
       "      <td>0.621582</td>\n",
       "      <td>0.002140</td>\n",
       "      <td>0.000135</td>\n",
       "      <td>0.001540</td>\n",
       "      <td>0.085571</td>\n",
       "      <td>0.119507</td>\n",
       "      <td>0.030136</td>\n",
       "      <td>0.000349</td>\n",
       "    </tr>\n",
       "    <tr>\n",
       "      <th>3</th>\n",
       "      <td>0.507324</td>\n",
       "      <td>0.000652</td>\n",
       "      <td>0.003803</td>\n",
       "      <td>0.400879</td>\n",
       "      <td>0.000099</td>\n",
       "      <td>0.083313</td>\n",
       "      <td>0.002291</td>\n",
       "      <td>0.000478</td>\n",
       "      <td>0.000167</td>\n",
       "      <td>0.000787</td>\n",
       "    </tr>\n",
       "    <tr>\n",
       "      <th>4</th>\n",
       "      <td>0.643555</td>\n",
       "      <td>0.000301</td>\n",
       "      <td>0.004143</td>\n",
       "      <td>0.003979</td>\n",
       "      <td>0.000292</td>\n",
       "      <td>0.345459</td>\n",
       "      <td>0.001817</td>\n",
       "      <td>0.000252</td>\n",
       "      <td>0.000230</td>\n",
       "      <td>0.000418</td>\n",
       "    </tr>\n",
       "  </tbody>\n",
       "</table>\n",
       "</div>"
      ],
      "text/plain": [
       "          0         1         2  ...         7         8         9\n",
       "0  0.005478  0.009750  0.002733  ...  0.935059  0.032349  0.000234\n",
       "1  0.898438  0.001496  0.087158  ...  0.005520  0.002705  0.000070\n",
       "2  0.127319  0.011406  0.621582  ...  0.119507  0.030136  0.000349\n",
       "3  0.507324  0.000652  0.003803  ...  0.000478  0.000167  0.000787\n",
       "4  0.643555  0.000301  0.004143  ...  0.000252  0.000230  0.000418\n",
       "\n",
       "[5 rows x 10 columns]"
      ]
     },
     "execution_count": 121,
     "metadata": {},
     "output_type": "execute_result"
    }
   ],
   "source": [
    "pred_df = pred_df.div(pred_df.sum(axis=1), axis=0)\n",
    "pred_df.head()"
   ]
  },
  {
   "cell_type": "code",
   "execution_count": 123,
   "id": "iPjTrkxc2U6J",
   "metadata": {
    "colab": {
     "base_uri": "https://localhost:8080/",
     "height": 206
    },
    "executionInfo": {
     "elapsed": 4,
     "status": "ok",
     "timestamp": 1631561209506,
     "user": {
      "displayName": "Rishabh Singhal",
      "photoUrl": "https://lh3.googleusercontent.com/a/default-user=s64",
      "userId": "09042655142465435311"
     },
     "user_tz": -330
    },
    "id": "iPjTrkxc2U6J",
    "outputId": "5933df35-6134-4516-f809-9c00a5a08a93"
   },
   "outputs": [
    {
     "data": {
      "text/html": [
       "<div>\n",
       "<style scoped>\n",
       "    .dataframe tbody tr th:only-of-type {\n",
       "        vertical-align: middle;\n",
       "    }\n",
       "\n",
       "    .dataframe tbody tr th {\n",
       "        vertical-align: top;\n",
       "    }\n",
       "\n",
       "    .dataframe thead th {\n",
       "        text-align: right;\n",
       "    }\n",
       "</style>\n",
       "<table border=\"1\" class=\"dataframe\">\n",
       "  <thead>\n",
       "    <tr style=\"text-align: right;\">\n",
       "      <th></th>\n",
       "      <th>0</th>\n",
       "      <th>1</th>\n",
       "      <th>2</th>\n",
       "      <th>3</th>\n",
       "      <th>4</th>\n",
       "      <th>5</th>\n",
       "      <th>6</th>\n",
       "      <th>7</th>\n",
       "      <th>8</th>\n",
       "      <th>9</th>\n",
       "      <th>field_id</th>\n",
       "    </tr>\n",
       "  </thead>\n",
       "  <tbody>\n",
       "    <tr>\n",
       "      <th>0</th>\n",
       "      <td>0.005478</td>\n",
       "      <td>0.009750</td>\n",
       "      <td>0.002733</td>\n",
       "      <td>0.000870</td>\n",
       "      <td>0.000024</td>\n",
       "      <td>0.000279</td>\n",
       "      <td>0.013000</td>\n",
       "      <td>0.935059</td>\n",
       "      <td>0.032349</td>\n",
       "      <td>0.000234</td>\n",
       "      <td>5</td>\n",
       "    </tr>\n",
       "    <tr>\n",
       "      <th>1</th>\n",
       "      <td>0.898438</td>\n",
       "      <td>0.001496</td>\n",
       "      <td>0.087158</td>\n",
       "      <td>0.000622</td>\n",
       "      <td>0.000055</td>\n",
       "      <td>0.001038</td>\n",
       "      <td>0.003008</td>\n",
       "      <td>0.005520</td>\n",
       "      <td>0.002705</td>\n",
       "      <td>0.000070</td>\n",
       "      <td>10</td>\n",
       "    </tr>\n",
       "    <tr>\n",
       "      <th>2</th>\n",
       "      <td>0.127441</td>\n",
       "      <td>0.011414</td>\n",
       "      <td>0.622070</td>\n",
       "      <td>0.002142</td>\n",
       "      <td>0.000135</td>\n",
       "      <td>0.001541</td>\n",
       "      <td>0.085632</td>\n",
       "      <td>0.119568</td>\n",
       "      <td>0.030151</td>\n",
       "      <td>0.000349</td>\n",
       "      <td>11</td>\n",
       "    </tr>\n",
       "    <tr>\n",
       "      <th>3</th>\n",
       "      <td>0.507324</td>\n",
       "      <td>0.000652</td>\n",
       "      <td>0.003803</td>\n",
       "      <td>0.400879</td>\n",
       "      <td>0.000099</td>\n",
       "      <td>0.083313</td>\n",
       "      <td>0.002291</td>\n",
       "      <td>0.000478</td>\n",
       "      <td>0.000167</td>\n",
       "      <td>0.000787</td>\n",
       "      <td>17</td>\n",
       "    </tr>\n",
       "    <tr>\n",
       "      <th>4</th>\n",
       "      <td>0.643555</td>\n",
       "      <td>0.000301</td>\n",
       "      <td>0.004143</td>\n",
       "      <td>0.003979</td>\n",
       "      <td>0.000292</td>\n",
       "      <td>0.345459</td>\n",
       "      <td>0.001817</td>\n",
       "      <td>0.000252</td>\n",
       "      <td>0.000230</td>\n",
       "      <td>0.000418</td>\n",
       "      <td>18</td>\n",
       "    </tr>\n",
       "  </tbody>\n",
       "</table>\n",
       "</div>"
      ],
      "text/plain": [
       "          0         1         2  ...         8         9  field_id\n",
       "0  0.005478  0.009750  0.002733  ...  0.032349  0.000234         5\n",
       "1  0.898438  0.001496  0.087158  ...  0.002705  0.000070        10\n",
       "2  0.127441  0.011414  0.622070  ...  0.030151  0.000349        11\n",
       "3  0.507324  0.000652  0.003803  ...  0.000167  0.000787        17\n",
       "4  0.643555  0.000301  0.004143  ...  0.000230  0.000418        18\n",
       "\n",
       "[5 rows x 11 columns]"
      ]
     },
     "execution_count": 123,
     "metadata": {},
     "output_type": "execute_result"
    }
   ],
   "source": [
    "pred_df['field_id'] = field_id_col\n",
    "pred_df.head()"
   ]
  },
  {
   "cell_type": "code",
   "execution_count": 124,
   "id": "zn-YqM7-kLwL",
   "metadata": {
    "colab": {
     "base_uri": "https://localhost:8080/",
     "height": 206
    },
    "executionInfo": {
     "elapsed": 3,
     "status": "ok",
     "timestamp": 1631561211428,
     "user": {
      "displayName": "Rishabh Singhal",
      "photoUrl": "https://lh3.googleusercontent.com/a/default-user=s64",
      "userId": "09042655142465435311"
     },
     "user_tz": -330
    },
    "id": "zn-YqM7-kLwL",
    "outputId": "d9b0a35e-cc1e-4512-b565-57fde62cd653"
   },
   "outputs": [
    {
     "data": {
      "text/html": [
       "<div>\n",
       "<style scoped>\n",
       "    .dataframe tbody tr th:only-of-type {\n",
       "        vertical-align: middle;\n",
       "    }\n",
       "\n",
       "    .dataframe tbody tr th {\n",
       "        vertical-align: top;\n",
       "    }\n",
       "\n",
       "    .dataframe thead th {\n",
       "        text-align: right;\n",
       "    }\n",
       "</style>\n",
       "<table border=\"1\" class=\"dataframe\">\n",
       "  <thead>\n",
       "    <tr style=\"text-align: right;\">\n",
       "      <th></th>\n",
       "      <th>0</th>\n",
       "      <th>1</th>\n",
       "      <th>2</th>\n",
       "      <th>3</th>\n",
       "      <th>4</th>\n",
       "      <th>5</th>\n",
       "      <th>6</th>\n",
       "      <th>7</th>\n",
       "      <th>8</th>\n",
       "      <th>9</th>\n",
       "      <th>field_id</th>\n",
       "    </tr>\n",
       "  </thead>\n",
       "  <tbody>\n",
       "    <tr>\n",
       "      <th>0</th>\n",
       "      <td>0.005478</td>\n",
       "      <td>0.009750</td>\n",
       "      <td>0.002733</td>\n",
       "      <td>0.000870</td>\n",
       "      <td>0.000024</td>\n",
       "      <td>0.000279</td>\n",
       "      <td>0.013000</td>\n",
       "      <td>0.935059</td>\n",
       "      <td>0.032349</td>\n",
       "      <td>0.000234</td>\n",
       "      <td>5</td>\n",
       "    </tr>\n",
       "    <tr>\n",
       "      <th>1</th>\n",
       "      <td>0.898438</td>\n",
       "      <td>0.001496</td>\n",
       "      <td>0.087158</td>\n",
       "      <td>0.000622</td>\n",
       "      <td>0.000055</td>\n",
       "      <td>0.001038</td>\n",
       "      <td>0.003008</td>\n",
       "      <td>0.005520</td>\n",
       "      <td>0.002705</td>\n",
       "      <td>0.000070</td>\n",
       "      <td>10</td>\n",
       "    </tr>\n",
       "    <tr>\n",
       "      <th>2</th>\n",
       "      <td>0.127441</td>\n",
       "      <td>0.011414</td>\n",
       "      <td>0.622070</td>\n",
       "      <td>0.002142</td>\n",
       "      <td>0.000135</td>\n",
       "      <td>0.001541</td>\n",
       "      <td>0.085632</td>\n",
       "      <td>0.119568</td>\n",
       "      <td>0.030151</td>\n",
       "      <td>0.000349</td>\n",
       "      <td>11</td>\n",
       "    </tr>\n",
       "    <tr>\n",
       "      <th>3</th>\n",
       "      <td>0.507324</td>\n",
       "      <td>0.000652</td>\n",
       "      <td>0.003803</td>\n",
       "      <td>0.400879</td>\n",
       "      <td>0.000099</td>\n",
       "      <td>0.083313</td>\n",
       "      <td>0.002291</td>\n",
       "      <td>0.000478</td>\n",
       "      <td>0.000167</td>\n",
       "      <td>0.000787</td>\n",
       "      <td>17</td>\n",
       "    </tr>\n",
       "    <tr>\n",
       "      <th>4</th>\n",
       "      <td>0.643555</td>\n",
       "      <td>0.000301</td>\n",
       "      <td>0.004143</td>\n",
       "      <td>0.003979</td>\n",
       "      <td>0.000292</td>\n",
       "      <td>0.345459</td>\n",
       "      <td>0.001817</td>\n",
       "      <td>0.000252</td>\n",
       "      <td>0.000230</td>\n",
       "      <td>0.000418</td>\n",
       "      <td>18</td>\n",
       "    </tr>\n",
       "  </tbody>\n",
       "</table>\n",
       "</div>"
      ],
      "text/plain": [
       "          0         1         2  ...         8         9  field_id\n",
       "0  0.005478  0.009750  0.002733  ...  0.032349  0.000234         5\n",
       "1  0.898438  0.001496  0.087158  ...  0.002705  0.000070        10\n",
       "2  0.127441  0.011414  0.622070  ...  0.030151  0.000349        11\n",
       "3  0.507324  0.000652  0.003803  ...  0.000167  0.000787        17\n",
       "4  0.643555  0.000301  0.004143  ...  0.000230  0.000418        18\n",
       "\n",
       "[5 rows x 11 columns]"
      ]
     },
     "execution_count": 124,
     "metadata": {},
     "output_type": "execute_result"
    }
   ],
   "source": [
    "pred_df = pred_df.rename(columns={\n",
    "    0:'No Data',\n",
    "    1:'Crop_Lucerne/Medics',\n",
    "    2:'Crop_Planted pastures (perennial)', \n",
    "    3:'Crop_Fallow',\n",
    "    4:'Crop_Wine grapes',\n",
    "    5:'Crop_Weeds',\n",
    "    6:'Crop_Small grain grazing',\n",
    "    7:'Crop_Wheat',\n",
    "    8:'Crop_Canola',\n",
    "    9:'Crop_Rooibos'\n",
    "})\n",
    "pred_df.head()"
   ]
  },
  {
   "cell_type": "code",
   "execution_count": 125,
   "id": "qoff44_SDaSa",
   "metadata": {
    "colab": {
     "base_uri": "https://localhost:8080/",
     "height": 261
    },
    "executionInfo": {
     "elapsed": 4,
     "status": "ok",
     "timestamp": 1631561212082,
     "user": {
      "displayName": "Rishabh Singhal",
      "photoUrl": "https://lh3.googleusercontent.com/a/default-user=s64",
      "userId": "09042655142465435311"
     },
     "user_tz": -330
    },
    "id": "qoff44_SDaSa",
    "outputId": "d7c0d672-433a-4e80-f2bc-640404c8bc2e"
   },
   "outputs": [
    {
     "data": {
      "text/html": [
       "<div>\n",
       "<style scoped>\n",
       "    .dataframe tbody tr th:only-of-type {\n",
       "        vertical-align: middle;\n",
       "    }\n",
       "\n",
       "    .dataframe tbody tr th {\n",
       "        vertical-align: top;\n",
       "    }\n",
       "\n",
       "    .dataframe thead th {\n",
       "        text-align: right;\n",
       "    }\n",
       "</style>\n",
       "<table border=\"1\" class=\"dataframe\">\n",
       "  <thead>\n",
       "    <tr style=\"text-align: right;\">\n",
       "      <th></th>\n",
       "      <th>No Data</th>\n",
       "      <th>Crop_Lucerne/Medics</th>\n",
       "      <th>Crop_Planted pastures (perennial)</th>\n",
       "      <th>Crop_Fallow</th>\n",
       "      <th>Crop_Wine grapes</th>\n",
       "      <th>Crop_Weeds</th>\n",
       "      <th>Crop_Small grain grazing</th>\n",
       "      <th>Crop_Wheat</th>\n",
       "      <th>Crop_Canola</th>\n",
       "      <th>Crop_Rooibos</th>\n",
       "      <th>field_id</th>\n",
       "    </tr>\n",
       "  </thead>\n",
       "  <tbody>\n",
       "    <tr>\n",
       "      <th>0</th>\n",
       "      <td>0.005478</td>\n",
       "      <td>0.009750</td>\n",
       "      <td>0.002733</td>\n",
       "      <td>0.000870</td>\n",
       "      <td>0.000024</td>\n",
       "      <td>0.000279</td>\n",
       "      <td>0.013000</td>\n",
       "      <td>0.935059</td>\n",
       "      <td>0.032349</td>\n",
       "      <td>0.000234</td>\n",
       "      <td>5</td>\n",
       "    </tr>\n",
       "    <tr>\n",
       "      <th>1</th>\n",
       "      <td>0.898438</td>\n",
       "      <td>0.001496</td>\n",
       "      <td>0.087158</td>\n",
       "      <td>0.000622</td>\n",
       "      <td>0.000055</td>\n",
       "      <td>0.001038</td>\n",
       "      <td>0.003008</td>\n",
       "      <td>0.005520</td>\n",
       "      <td>0.002705</td>\n",
       "      <td>0.000070</td>\n",
       "      <td>10</td>\n",
       "    </tr>\n",
       "    <tr>\n",
       "      <th>2</th>\n",
       "      <td>0.127441</td>\n",
       "      <td>0.011414</td>\n",
       "      <td>0.622070</td>\n",
       "      <td>0.002142</td>\n",
       "      <td>0.000135</td>\n",
       "      <td>0.001541</td>\n",
       "      <td>0.085632</td>\n",
       "      <td>0.119568</td>\n",
       "      <td>0.030151</td>\n",
       "      <td>0.000349</td>\n",
       "      <td>11</td>\n",
       "    </tr>\n",
       "    <tr>\n",
       "      <th>3</th>\n",
       "      <td>0.507324</td>\n",
       "      <td>0.000652</td>\n",
       "      <td>0.003803</td>\n",
       "      <td>0.400879</td>\n",
       "      <td>0.000099</td>\n",
       "      <td>0.083313</td>\n",
       "      <td>0.002291</td>\n",
       "      <td>0.000478</td>\n",
       "      <td>0.000167</td>\n",
       "      <td>0.000787</td>\n",
       "      <td>17</td>\n",
       "    </tr>\n",
       "    <tr>\n",
       "      <th>4</th>\n",
       "      <td>0.643555</td>\n",
       "      <td>0.000301</td>\n",
       "      <td>0.004143</td>\n",
       "      <td>0.003979</td>\n",
       "      <td>0.000292</td>\n",
       "      <td>0.345459</td>\n",
       "      <td>0.001817</td>\n",
       "      <td>0.000252</td>\n",
       "      <td>0.000230</td>\n",
       "      <td>0.000418</td>\n",
       "      <td>18</td>\n",
       "    </tr>\n",
       "  </tbody>\n",
       "</table>\n",
       "</div>"
      ],
      "text/plain": [
       "    No Data  Crop_Lucerne/Medics  ...  Crop_Rooibos  field_id\n",
       "0  0.005478             0.009750  ...      0.000234         5\n",
       "1  0.898438             0.001496  ...      0.000070        10\n",
       "2  0.127441             0.011414  ...      0.000349        11\n",
       "3  0.507324             0.000652  ...      0.000787        17\n",
       "4  0.643555             0.000301  ...      0.000418        18\n",
       "\n",
       "[5 rows x 11 columns]"
      ]
     },
     "execution_count": 125,
     "metadata": {},
     "output_type": "execute_result"
    }
   ],
   "source": [
    "pred_df = pred_df.rename(columns={\n",
    "    '0':'No Data',\n",
    "    '1':'Crop_Lucerne/Medics',\n",
    "    '2':'Crop_Planted pastures (perennial)', \n",
    "    '3':'Crop_Fallow',\n",
    "    '4':'Crop_Wine grapes',\n",
    "    '5':'Crop_Weeds',\n",
    "    '6':'Crop_Small grain grazing',\n",
    "    '7':'Crop_Wheat',\n",
    "    '8':'Crop_Canola',\n",
    "    '9':'Crop_Rooibos'\n",
    "})\n",
    "pred_df.head()"
   ]
  },
  {
   "cell_type": "code",
   "execution_count": 126,
   "id": "o_O4-Unl3817",
   "metadata": {
    "colab": {
     "base_uri": "https://localhost:8080/",
     "height": 261
    },
    "executionInfo": {
     "elapsed": 3,
     "status": "ok",
     "timestamp": 1631561214500,
     "user": {
      "displayName": "Rishabh Singhal",
      "photoUrl": "https://lh3.googleusercontent.com/a/default-user=s64",
      "userId": "09042655142465435311"
     },
     "user_tz": -330
    },
    "id": "o_O4-Unl3817",
    "outputId": "85e7a600-aafc-47c1-d8cb-542cffcacb47"
   },
   "outputs": [
    {
     "data": {
      "text/html": [
       "<div>\n",
       "<style scoped>\n",
       "    .dataframe tbody tr th:only-of-type {\n",
       "        vertical-align: middle;\n",
       "    }\n",
       "\n",
       "    .dataframe tbody tr th {\n",
       "        vertical-align: top;\n",
       "    }\n",
       "\n",
       "    .dataframe thead th {\n",
       "        text-align: right;\n",
       "    }\n",
       "</style>\n",
       "<table border=\"1\" class=\"dataframe\">\n",
       "  <thead>\n",
       "    <tr style=\"text-align: right;\">\n",
       "      <th></th>\n",
       "      <th>Field ID</th>\n",
       "      <th>Crop_Lucerne/Medics</th>\n",
       "      <th>Crop_Planted pastures (perennial)</th>\n",
       "      <th>Crop_Fallow</th>\n",
       "      <th>Crop_Wine grapes</th>\n",
       "      <th>Crop_Weeds</th>\n",
       "      <th>Crop_Small grain grazing</th>\n",
       "      <th>Crop_Wheat</th>\n",
       "      <th>Crop_Canola</th>\n",
       "      <th>Crop_Rooibos</th>\n",
       "    </tr>\n",
       "  </thead>\n",
       "  <tbody>\n",
       "    <tr>\n",
       "      <th>0</th>\n",
       "      <td>5</td>\n",
       "      <td>0</td>\n",
       "      <td>0</td>\n",
       "      <td>0</td>\n",
       "      <td>0</td>\n",
       "      <td>0</td>\n",
       "      <td>0</td>\n",
       "      <td>0</td>\n",
       "      <td>0</td>\n",
       "      <td>0</td>\n",
       "    </tr>\n",
       "    <tr>\n",
       "      <th>1</th>\n",
       "      <td>10</td>\n",
       "      <td>0</td>\n",
       "      <td>0</td>\n",
       "      <td>0</td>\n",
       "      <td>0</td>\n",
       "      <td>0</td>\n",
       "      <td>0</td>\n",
       "      <td>0</td>\n",
       "      <td>0</td>\n",
       "      <td>0</td>\n",
       "    </tr>\n",
       "    <tr>\n",
       "      <th>2</th>\n",
       "      <td>11</td>\n",
       "      <td>0</td>\n",
       "      <td>0</td>\n",
       "      <td>0</td>\n",
       "      <td>0</td>\n",
       "      <td>0</td>\n",
       "      <td>0</td>\n",
       "      <td>0</td>\n",
       "      <td>0</td>\n",
       "      <td>0</td>\n",
       "    </tr>\n",
       "    <tr>\n",
       "      <th>3</th>\n",
       "      <td>17</td>\n",
       "      <td>0</td>\n",
       "      <td>0</td>\n",
       "      <td>0</td>\n",
       "      <td>0</td>\n",
       "      <td>0</td>\n",
       "      <td>0</td>\n",
       "      <td>0</td>\n",
       "      <td>0</td>\n",
       "      <td>0</td>\n",
       "    </tr>\n",
       "    <tr>\n",
       "      <th>4</th>\n",
       "      <td>18</td>\n",
       "      <td>0</td>\n",
       "      <td>0</td>\n",
       "      <td>0</td>\n",
       "      <td>0</td>\n",
       "      <td>0</td>\n",
       "      <td>0</td>\n",
       "      <td>0</td>\n",
       "      <td>0</td>\n",
       "      <td>0</td>\n",
       "    </tr>\n",
       "  </tbody>\n",
       "</table>\n",
       "</div>"
      ],
      "text/plain": [
       "   Field ID  Crop_Lucerne/Medics  ...  Crop_Canola  Crop_Rooibos\n",
       "0         5                    0  ...            0             0\n",
       "1        10                    0  ...            0             0\n",
       "2        11                    0  ...            0             0\n",
       "3        17                    0  ...            0             0\n",
       "4        18                    0  ...            0             0\n",
       "\n",
       "[5 rows x 10 columns]"
      ]
     },
     "execution_count": 126,
     "metadata": {},
     "output_type": "execute_result"
    }
   ],
   "source": [
    "sample_sub = pd.read_csv('SampleSubmission.csv')\n",
    "sample_sub.head()"
   ]
  },
  {
   "cell_type": "code",
   "execution_count": 127,
   "id": "Mukj-GcuQb6f",
   "metadata": {
    "colab": {
     "base_uri": "https://localhost:8080/",
     "height": 261
    },
    "executionInfo": {
     "elapsed": 516,
     "status": "ok",
     "timestamp": 1631561218550,
     "user": {
      "displayName": "Rishabh Singhal",
      "photoUrl": "https://lh3.googleusercontent.com/a/default-user=s64",
      "userId": "09042655142465435311"
     },
     "user_tz": -330
    },
    "id": "Mukj-GcuQb6f",
    "outputId": "42d9abb1-5366-4d09-ec1d-52e3d62f4cb6"
   },
   "outputs": [
    {
     "data": {
      "text/html": [
       "<div>\n",
       "<style scoped>\n",
       "    .dataframe tbody tr th:only-of-type {\n",
       "        vertical-align: middle;\n",
       "    }\n",
       "\n",
       "    .dataframe tbody tr th {\n",
       "        vertical-align: top;\n",
       "    }\n",
       "\n",
       "    .dataframe thead th {\n",
       "        text-align: right;\n",
       "    }\n",
       "</style>\n",
       "<table border=\"1\" class=\"dataframe\">\n",
       "  <thead>\n",
       "    <tr style=\"text-align: right;\">\n",
       "      <th></th>\n",
       "      <th>Field ID</th>\n",
       "      <th>Crop_Lucerne/Medics</th>\n",
       "      <th>Crop_Planted pastures (perennial)</th>\n",
       "      <th>Crop_Fallow</th>\n",
       "      <th>Crop_Wine grapes</th>\n",
       "      <th>Crop_Weeds</th>\n",
       "      <th>Crop_Small grain grazing</th>\n",
       "      <th>Crop_Wheat</th>\n",
       "      <th>Crop_Canola</th>\n",
       "      <th>Crop_Rooibos</th>\n",
       "      <th>No Data</th>\n",
       "    </tr>\n",
       "  </thead>\n",
       "  <tbody>\n",
       "    <tr>\n",
       "      <th>0</th>\n",
       "      <td>5</td>\n",
       "      <td>0.009750</td>\n",
       "      <td>0.002733</td>\n",
       "      <td>0.000870</td>\n",
       "      <td>0.000024</td>\n",
       "      <td>0.000279</td>\n",
       "      <td>0.013000</td>\n",
       "      <td>0.935059</td>\n",
       "      <td>0.032349</td>\n",
       "      <td>0.000234</td>\n",
       "      <td>0.005478</td>\n",
       "    </tr>\n",
       "    <tr>\n",
       "      <th>1</th>\n",
       "      <td>10</td>\n",
       "      <td>0.001496</td>\n",
       "      <td>0.087158</td>\n",
       "      <td>0.000622</td>\n",
       "      <td>0.000055</td>\n",
       "      <td>0.001038</td>\n",
       "      <td>0.003008</td>\n",
       "      <td>0.005520</td>\n",
       "      <td>0.002705</td>\n",
       "      <td>0.000070</td>\n",
       "      <td>0.898438</td>\n",
       "    </tr>\n",
       "    <tr>\n",
       "      <th>2</th>\n",
       "      <td>11</td>\n",
       "      <td>0.011414</td>\n",
       "      <td>0.622070</td>\n",
       "      <td>0.002142</td>\n",
       "      <td>0.000135</td>\n",
       "      <td>0.001541</td>\n",
       "      <td>0.085632</td>\n",
       "      <td>0.119568</td>\n",
       "      <td>0.030151</td>\n",
       "      <td>0.000349</td>\n",
       "      <td>0.127441</td>\n",
       "    </tr>\n",
       "    <tr>\n",
       "      <th>3</th>\n",
       "      <td>17</td>\n",
       "      <td>0.000652</td>\n",
       "      <td>0.003803</td>\n",
       "      <td>0.400879</td>\n",
       "      <td>0.000099</td>\n",
       "      <td>0.083313</td>\n",
       "      <td>0.002291</td>\n",
       "      <td>0.000478</td>\n",
       "      <td>0.000167</td>\n",
       "      <td>0.000787</td>\n",
       "      <td>0.507324</td>\n",
       "    </tr>\n",
       "    <tr>\n",
       "      <th>4</th>\n",
       "      <td>18</td>\n",
       "      <td>0.000301</td>\n",
       "      <td>0.004143</td>\n",
       "      <td>0.003979</td>\n",
       "      <td>0.000292</td>\n",
       "      <td>0.345459</td>\n",
       "      <td>0.001817</td>\n",
       "      <td>0.000252</td>\n",
       "      <td>0.000230</td>\n",
       "      <td>0.000418</td>\n",
       "      <td>0.643555</td>\n",
       "    </tr>\n",
       "  </tbody>\n",
       "</table>\n",
       "</div>"
      ],
      "text/plain": [
       "   Field ID  Crop_Lucerne/Medics  ...  Crop_Rooibos   No Data\n",
       "0         5             0.009750  ...      0.000234  0.005478\n",
       "1        10             0.001496  ...      0.000070  0.898438\n",
       "2        11             0.011414  ...      0.000349  0.127441\n",
       "3        17             0.000652  ...      0.000787  0.507324\n",
       "4        18             0.000301  ...      0.000418  0.643555\n",
       "\n",
       "[5 rows x 11 columns]"
      ]
     },
     "execution_count": 127,
     "metadata": {},
     "output_type": "execute_result"
    }
   ],
   "source": [
    "for column in pred_df.columns[:-1]:\n",
    "    sample_sub[column] = pred_df[column]\n",
    "sample_sub.head()"
   ]
  },
  {
   "cell_type": "code",
   "execution_count": 128,
   "id": "Cdf6rDGjdJZz",
   "metadata": {
    "colab": {
     "base_uri": "https://localhost:8080/",
     "height": 355
    },
    "executionInfo": {
     "elapsed": 511,
     "status": "ok",
     "timestamp": 1631561225270,
     "user": {
      "displayName": "Rishabh Singhal",
      "photoUrl": "https://lh3.googleusercontent.com/a/default-user=s64",
      "userId": "09042655142465435311"
     },
     "user_tz": -330
    },
    "id": "Cdf6rDGjdJZz",
    "outputId": "55e3f4c6-7755-4836-8f64-8b9262771261"
   },
   "outputs": [
    {
     "data": {
      "text/html": [
       "<div>\n",
       "<style scoped>\n",
       "    .dataframe tbody tr th:only-of-type {\n",
       "        vertical-align: middle;\n",
       "    }\n",
       "\n",
       "    .dataframe tbody tr th {\n",
       "        vertical-align: top;\n",
       "    }\n",
       "\n",
       "    .dataframe thead th {\n",
       "        text-align: right;\n",
       "    }\n",
       "</style>\n",
       "<table border=\"1\" class=\"dataframe\">\n",
       "  <thead>\n",
       "    <tr style=\"text-align: right;\">\n",
       "      <th></th>\n",
       "      <th>Field ID</th>\n",
       "      <th>Crop_Lucerne/Medics</th>\n",
       "      <th>Crop_Planted pastures (perennial)</th>\n",
       "      <th>Crop_Fallow</th>\n",
       "      <th>Crop_Wine grapes</th>\n",
       "      <th>Crop_Weeds</th>\n",
       "      <th>Crop_Small grain grazing</th>\n",
       "      <th>Crop_Wheat</th>\n",
       "      <th>Crop_Canola</th>\n",
       "      <th>Crop_Rooibos</th>\n",
       "      <th>No Data</th>\n",
       "    </tr>\n",
       "  </thead>\n",
       "  <tbody>\n",
       "    <tr>\n",
       "      <th>count</th>\n",
       "      <td>35295.000000</td>\n",
       "      <td>35294.000000</td>\n",
       "      <td>3.529400e+04</td>\n",
       "      <td>35294.000000</td>\n",
       "      <td>35294.000000</td>\n",
       "      <td>3.529400e+04</td>\n",
       "      <td>35294.000000</td>\n",
       "      <td>35294.000000</td>\n",
       "      <td>35294.000000</td>\n",
       "      <td>35294.000000</td>\n",
       "      <td>35294.000000</td>\n",
       "    </tr>\n",
       "    <tr>\n",
       "      <th>mean</th>\n",
       "      <td>61139.709052</td>\n",
       "      <td>0.043671</td>\n",
       "      <td>1.206055e-01</td>\n",
       "      <td>0.052917</td>\n",
       "      <td>0.207397</td>\n",
       "      <td>5.581665e-02</td>\n",
       "      <td>0.065491</td>\n",
       "      <td>0.093262</td>\n",
       "      <td>0.012611</td>\n",
       "      <td>0.030487</td>\n",
       "      <td>0.317871</td>\n",
       "    </tr>\n",
       "    <tr>\n",
       "      <th>std</th>\n",
       "      <td>35462.690869</td>\n",
       "      <td>0.137939</td>\n",
       "      <td>2.322998e-01</td>\n",
       "      <td>0.174683</td>\n",
       "      <td>0.369385</td>\n",
       "      <td>1.761475e-01</td>\n",
       "      <td>0.166870</td>\n",
       "      <td>0.233276</td>\n",
       "      <td>0.023270</td>\n",
       "      <td>0.147827</td>\n",
       "      <td>0.355713</td>\n",
       "    </tr>\n",
       "    <tr>\n",
       "      <th>min</th>\n",
       "      <td>5.000000</td>\n",
       "      <td>0.000000</td>\n",
       "      <td>5.960464e-08</td>\n",
       "      <td>0.000000</td>\n",
       "      <td>0.000000</td>\n",
       "      <td>2.384186e-07</td>\n",
       "      <td>0.000000</td>\n",
       "      <td>0.000000</td>\n",
       "      <td>0.000000</td>\n",
       "      <td>0.000000</td>\n",
       "      <td>0.000074</td>\n",
       "    </tr>\n",
       "    <tr>\n",
       "      <th>25%</th>\n",
       "      <td>30433.500000</td>\n",
       "      <td>0.000238</td>\n",
       "      <td>2.149582e-03</td>\n",
       "      <td>0.000502</td>\n",
       "      <td>0.000044</td>\n",
       "      <td>4.878044e-04</td>\n",
       "      <td>0.000575</td>\n",
       "      <td>0.000138</td>\n",
       "      <td>0.000060</td>\n",
       "      <td>0.000098</td>\n",
       "      <td>0.022675</td>\n",
       "    </tr>\n",
       "    <tr>\n",
       "      <th>50%</th>\n",
       "      <td>61097.000000</td>\n",
       "      <td>0.001719</td>\n",
       "      <td>7.904053e-03</td>\n",
       "      <td>0.001754</td>\n",
       "      <td>0.000251</td>\n",
       "      <td>1.499176e-03</td>\n",
       "      <td>0.003788</td>\n",
       "      <td>0.000947</td>\n",
       "      <td>0.000953</td>\n",
       "      <td>0.000227</td>\n",
       "      <td>0.134644</td>\n",
       "    </tr>\n",
       "    <tr>\n",
       "      <th>75%</th>\n",
       "      <td>91862.500000</td>\n",
       "      <td>0.008789</td>\n",
       "      <td>9.582520e-02</td>\n",
       "      <td>0.005142</td>\n",
       "      <td>0.197266</td>\n",
       "      <td>5.470276e-03</td>\n",
       "      <td>0.024399</td>\n",
       "      <td>0.014618</td>\n",
       "      <td>0.014870</td>\n",
       "      <td>0.000597</td>\n",
       "      <td>0.580078</td>\n",
       "    </tr>\n",
       "    <tr>\n",
       "      <th>max</th>\n",
       "      <td>122734.000000</td>\n",
       "      <td>0.993652</td>\n",
       "      <td>9.990234e-01</td>\n",
       "      <td>0.999023</td>\n",
       "      <td>0.998535</td>\n",
       "      <td>9.995117e-01</td>\n",
       "      <td>0.984863</td>\n",
       "      <td>0.998047</td>\n",
       "      <td>0.213745</td>\n",
       "      <td>0.999023</td>\n",
       "      <td>1.000000</td>\n",
       "    </tr>\n",
       "  </tbody>\n",
       "</table>\n",
       "</div>"
      ],
      "text/plain": [
       "            Field ID  Crop_Lucerne/Medics  ...  Crop_Rooibos       No Data\n",
       "count   35295.000000         35294.000000  ...  35294.000000  35294.000000\n",
       "mean    61139.709052             0.043671  ...      0.030487      0.317871\n",
       "std     35462.690869             0.137939  ...      0.147827      0.355713\n",
       "min         5.000000             0.000000  ...      0.000000      0.000074\n",
       "25%     30433.500000             0.000238  ...      0.000098      0.022675\n",
       "50%     61097.000000             0.001719  ...      0.000227      0.134644\n",
       "75%     91862.500000             0.008789  ...      0.000597      0.580078\n",
       "max    122734.000000             0.993652  ...      0.999023      1.000000\n",
       "\n",
       "[8 rows x 11 columns]"
      ]
     },
     "execution_count": 128,
     "metadata": {},
     "output_type": "execute_result"
    }
   ],
   "source": [
    "sample_sub.describe()"
   ]
  },
  {
   "cell_type": "code",
   "execution_count": 130,
   "id": "HEoKPfozeiv9",
   "metadata": {
    "colab": {
     "base_uri": "https://localhost:8080/"
    },
    "executionInfo": {
     "elapsed": 505,
     "status": "ok",
     "timestamp": 1631561345020,
     "user": {
      "displayName": "Rishabh Singhal",
      "photoUrl": "https://lh3.googleusercontent.com/a/default-user=s64",
      "userId": "09042655142465435311"
     },
     "user_tz": -330
    },
    "id": "HEoKPfozeiv9",
    "outputId": "27834d15-08c1-4102-c128-a249d5c9af56"
   },
   "outputs": [
    {
     "name": "stdout",
     "output_type": "stream",
     "text": [
      "0.0\n"
     ]
    }
   ],
   "source": [
    "del_sub = (sample_sub['Field ID'] - pred_df['field_id'])\n",
    "print(sum(list(del_sub[:])))\n",
    "del del_sub"
   ]
  },
  {
   "cell_type": "code",
   "execution_count": 104,
   "id": "_SoYZ012fkm8",
   "metadata": {
    "colab": {
     "base_uri": "https://localhost:8080/",
     "height": 261
    },
    "executionInfo": {
     "elapsed": 531,
     "status": "ok",
     "timestamp": 1631560494917,
     "user": {
      "displayName": "Rishabh Singhal",
      "photoUrl": "https://lh3.googleusercontent.com/a/default-user=s64",
      "userId": "09042655142465435311"
     },
     "user_tz": -330
    },
    "id": "_SoYZ012fkm8",
    "outputId": "9d308aa9-db51-4072-e71f-551ecbd66489"
   },
   "outputs": [
    {
     "data": {
      "text/html": [
       "<div>\n",
       "<style scoped>\n",
       "    .dataframe tbody tr th:only-of-type {\n",
       "        vertical-align: middle;\n",
       "    }\n",
       "\n",
       "    .dataframe tbody tr th {\n",
       "        vertical-align: top;\n",
       "    }\n",
       "\n",
       "    .dataframe thead th {\n",
       "        text-align: right;\n",
       "    }\n",
       "</style>\n",
       "<table border=\"1\" class=\"dataframe\">\n",
       "  <thead>\n",
       "    <tr style=\"text-align: right;\">\n",
       "      <th></th>\n",
       "      <th>Field ID</th>\n",
       "      <th>Crop_Lucerne/Medics</th>\n",
       "      <th>Crop_Planted pastures (perennial)</th>\n",
       "      <th>Crop_Fallow</th>\n",
       "      <th>Crop_Wine grapes</th>\n",
       "      <th>Crop_Weeds</th>\n",
       "      <th>Crop_Small grain grazing</th>\n",
       "      <th>Crop_Wheat</th>\n",
       "      <th>Crop_Canola</th>\n",
       "      <th>Crop_Rooibos</th>\n",
       "    </tr>\n",
       "  </thead>\n",
       "  <tbody>\n",
       "    <tr>\n",
       "      <th>0</th>\n",
       "      <td>5</td>\n",
       "      <td>0.018692</td>\n",
       "      <td>0.004436</td>\n",
       "      <td>0.001561</td>\n",
       "      <td>0.000022</td>\n",
       "      <td>0.000656</td>\n",
       "      <td>0.404053</td>\n",
       "      <td>0.293701</td>\n",
       "      <td>0.267334</td>\n",
       "      <td>0.000163</td>\n",
       "    </tr>\n",
       "    <tr>\n",
       "      <th>1</th>\n",
       "      <td>10</td>\n",
       "      <td>0.000768</td>\n",
       "      <td>0.729492</td>\n",
       "      <td>0.000425</td>\n",
       "      <td>0.000042</td>\n",
       "      <td>0.000750</td>\n",
       "      <td>0.001585</td>\n",
       "      <td>0.000461</td>\n",
       "      <td>0.002733</td>\n",
       "      <td>0.000101</td>\n",
       "    </tr>\n",
       "    <tr>\n",
       "      <th>2</th>\n",
       "      <td>11</td>\n",
       "      <td>0.001736</td>\n",
       "      <td>0.114502</td>\n",
       "      <td>0.001540</td>\n",
       "      <td>0.000028</td>\n",
       "      <td>0.001093</td>\n",
       "      <td>0.277100</td>\n",
       "      <td>0.003944</td>\n",
       "      <td>0.052002</td>\n",
       "      <td>0.000090</td>\n",
       "    </tr>\n",
       "    <tr>\n",
       "      <th>3</th>\n",
       "      <td>17</td>\n",
       "      <td>0.000272</td>\n",
       "      <td>0.004692</td>\n",
       "      <td>0.516113</td>\n",
       "      <td>0.000053</td>\n",
       "      <td>0.380859</td>\n",
       "      <td>0.003382</td>\n",
       "      <td>0.003397</td>\n",
       "      <td>0.003014</td>\n",
       "      <td>0.004509</td>\n",
       "    </tr>\n",
       "    <tr>\n",
       "      <th>4</th>\n",
       "      <td>18</td>\n",
       "      <td>0.000259</td>\n",
       "      <td>0.002058</td>\n",
       "      <td>0.167725</td>\n",
       "      <td>0.000027</td>\n",
       "      <td>0.023743</td>\n",
       "      <td>0.001114</td>\n",
       "      <td>0.001004</td>\n",
       "      <td>0.004910</td>\n",
       "      <td>0.001620</td>\n",
       "    </tr>\n",
       "  </tbody>\n",
       "</table>\n",
       "</div>"
      ],
      "text/plain": [
       "   Field ID  Crop_Lucerne/Medics  ...  Crop_Canola  Crop_Rooibos\n",
       "0         5             0.018692  ...     0.267334      0.000163\n",
       "1        10             0.000768  ...     0.002733      0.000101\n",
       "2        11             0.001736  ...     0.052002      0.000090\n",
       "3        17             0.000272  ...     0.003014      0.004509\n",
       "4        18             0.000259  ...     0.004910      0.001620\n",
       "\n",
       "[5 rows x 10 columns]"
      ]
     },
     "execution_count": 104,
     "metadata": {},
     "output_type": "execute_result"
    }
   ],
   "source": [
    "sample_sub = sample_sub.drop(['No Data'], axis=1)\n",
    "sample_sub.head()"
   ]
  },
  {
   "cell_type": "code",
   "execution_count": 132,
   "id": "TMCTe0BJqV1q",
   "metadata": {
    "executionInfo": {
     "elapsed": 504,
     "status": "ok",
     "timestamp": 1631561402340,
     "user": {
      "displayName": "Rishabh Singhal",
      "photoUrl": "https://lh3.googleusercontent.com/a/default-user=s64",
      "userId": "09042655142465435311"
     },
     "user_tz": -330
    },
    "id": "TMCTe0BJqV1q"
   },
   "outputs": [],
   "source": [
    "# Write the predicted probabilites to a csv for submission\n",
    "sample_sub.to_csv('baseline_submission4.csv', index=False)"
   ]
  },
  {
   "cell_type": "code",
   "execution_count": 133,
   "id": "bsXxmsDWqV5O",
   "metadata": {
    "colab": {
     "base_uri": "https://localhost:8080/",
     "height": 17
    },
    "executionInfo": {
     "elapsed": 500,
     "status": "ok",
     "timestamp": 1631561408562,
     "user": {
      "displayName": "Rishabh Singhal",
      "photoUrl": "https://lh3.googleusercontent.com/a/default-user=s64",
      "userId": "09042655142465435311"
     },
     "user_tz": -330
    },
    "id": "bsXxmsDWqV5O",
    "outputId": "da3a5bfb-1fab-4862-ef9f-96ec75539cd9"
   },
   "outputs": [
    {
     "data": {
      "application/javascript": [
       "\n",
       "    async function download(id, filename, size) {\n",
       "      if (!google.colab.kernel.accessAllowed) {\n",
       "        return;\n",
       "      }\n",
       "      const div = document.createElement('div');\n",
       "      const label = document.createElement('label');\n",
       "      label.textContent = `Downloading \"${filename}\": `;\n",
       "      div.appendChild(label);\n",
       "      const progress = document.createElement('progress');\n",
       "      progress.max = size;\n",
       "      div.appendChild(progress);\n",
       "      document.body.appendChild(div);\n",
       "\n",
       "      const buffers = [];\n",
       "      let downloaded = 0;\n",
       "\n",
       "      const channel = await google.colab.kernel.comms.open(id);\n",
       "      // Send a message to notify the kernel that we're ready.\n",
       "      channel.send({})\n",
       "\n",
       "      for await (const message of channel.messages) {\n",
       "        // Send a message to notify the kernel that we're ready.\n",
       "        channel.send({})\n",
       "        if (message.buffers) {\n",
       "          for (const buffer of message.buffers) {\n",
       "            buffers.push(buffer);\n",
       "            downloaded += buffer.byteLength;\n",
       "            progress.value = downloaded;\n",
       "          }\n",
       "        }\n",
       "      }\n",
       "      const blob = new Blob(buffers, {type: 'application/binary'});\n",
       "      const a = document.createElement('a');\n",
       "      a.href = window.URL.createObjectURL(blob);\n",
       "      a.download = filename;\n",
       "      div.appendChild(a);\n",
       "      a.click();\n",
       "      div.remove();\n",
       "    }\n",
       "  "
      ],
      "text/plain": [
       "<IPython.core.display.Javascript object>"
      ]
     },
     "metadata": {},
     "output_type": "display_data"
    },
    {
     "data": {
      "application/javascript": [
       "download(\"download_3c18d434-e9ca-46a2-9098-40ff894acf28\", \"baseline_submission6.csv\", 3220670)"
      ],
      "text/plain": [
       "<IPython.core.display.Javascript object>"
      ]
     },
     "metadata": {},
     "output_type": "display_data"
    }
   ],
   "source": [
    "from google.colab import files\n",
    "files.download(\"baseline_submission4.csv\")"
   ]
  },
  {
   "cell_type": "code",
   "execution_count": null,
   "id": "UeU32SDHJhgN",
   "metadata": {
    "colab": {
     "base_uri": "https://localhost:8080/"
    },
    "executionInfo": {
     "elapsed": 16,
     "status": "ok",
     "timestamp": 1631116996295,
     "user": {
      "displayName": "Rishabh Singhal",
      "photoUrl": "",
      "userId": "09042655142465435311"
     },
     "user_tz": -330
    },
    "id": "UeU32SDHJhgN",
    "outputId": "1141708e-e239-4039-f24e-157e2a965eaa"
   },
   "outputs": [
    {
     "name": "stdout",
     "output_type": "stream",
     "text": [
      "baseline_submission3.csv\n",
      "baseline_submission4.csv\n",
      "\u001b[0m\u001b[01;34mref_south_africa_crops_competition_v1_test_labels\u001b[0m/\n",
      "\u001b[01;34mref_south_africa_crops_competition_v1_test_source_s2_B03\u001b[0m/\n",
      "\u001b[01;34mref_south_africa_crops_competition_v1_test_source_s2_B04\u001b[0m/\n",
      "\u001b[01;34mref_south_africa_crops_competition_v1_test_source_s2_B08\u001b[0m/\n",
      "\u001b[01;34mref_south_africa_crops_competition_v1_test_source_s2_CLM\u001b[0m/\n",
      "\u001b[01;34mref_south_africa_crops_competition_v1_train_labels\u001b[0m/\n",
      "\u001b[01;34mref_south_africa_crops_competition_v1_train_source_s2_B03\u001b[0m/\n",
      "\u001b[01;34mref_south_africa_crops_competition_v1_train_source_s2_B04\u001b[0m/\n",
      "\u001b[01;34mref_south_africa_crops_competition_v1_train_source_s2_B08\u001b[0m/\n",
      "\u001b[01;34mref_south_africa_crops_competition_v1_train_source_s2_CLM\u001b[0m/\n",
      "\u001b[01;34msample_data\u001b[0m/\n",
      "SampleSubmission.csv\n"
     ]
    }
   ],
   "source": [
    "ls"
   ]
  }
 ],
 "metadata": {
  "accelerator": "GPU",
  "colab": {
   "collapsed_sections": [],
   "machine_shape": "hm",
   "name": "Copy of Copy of Copy of Radiant_Earth_Spot_the_Crop_Baseline_Model-S2.ipynb",
   "provenance": []
  },
  "kernelspec": {
   "display_name": "Python 3 (ipykernel)",
   "language": "python",
   "name": "python3"
  },
  "language_info": {
   "codemirror_mode": {
    "name": "ipython",
    "version": 3
   },
   "file_extension": ".py",
   "mimetype": "text/x-python",
   "name": "python",
   "nbconvert_exporter": "python",
   "pygments_lexer": "ipython3",
   "version": "3.7.10"
  }
 },
 "nbformat": 4,
 "nbformat_minor": 5
}
